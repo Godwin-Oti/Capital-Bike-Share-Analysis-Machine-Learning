{
 "cells": [
  {
   "cell_type": "code",
   "execution_count": 172,
   "metadata": {},
   "outputs": [
    {
     "name": "stdout",
     "output_type": "stream",
     "text": [
      "Hello World!\n"
     ]
    }
   ],
   "source": [
    "print(\"Hello World!\")"
   ]
  },
  {
   "cell_type": "code",
   "execution_count": 173,
   "metadata": {},
   "outputs": [],
   "source": [
    "# importing relevant modules\n",
    "import numpy as np\n",
    "import pandas as pd \n",
    "import matplotlib.pyplot as plt\n",
    "import seaborn as sns\n",
    "import scipy.stats as stats\n",
    "from sklearn import preprocessing as sk\n",
    "from sklearn.model_selection import train_test_split\n",
    "from sklearn.linear_model import LogisticRegression \n",
    "from sklearn.metrics import accuracy_score\n",
    "from sklearn.preprocessing import OneHotEncoder\n",
    "from sklearn.preprocessing import LabelEncoder\n",
    "from sklearn.preprocessing import OrdinalEncoder\n",
    "from sklearn.preprocessing import MinMaxScaler, RobustScaler, StandardScaler\n",
    "from sklearn.ensemble import RandomForestClassifier\n",
    "from sklearn import svm \n",
    "from sklearn.metrics import confusion_matrix, ConfusionMatrixDisplay\n",
    "from sklearn.metrics import classification_report\n",
    "from sklearn.model_selection import StratifiedKFold\n",
    "from sklearn.metrics import cohen_kappa_score\n",
    "from sklearn.model_selection import cross_val_score\n",
    "from sklearn.tree import DecisionTreeClassifier\n",
    "from sklearn.ensemble import GradientBoostingClassifier\n",
    "from sklearn.svm import SVC\n",
    "from sklearn.neighbors import KNeighborsClassifier\n",
    "from sklearn.naive_bayes import ComplementNB\n",
    "from sklearn.model_selection import cross_val_predict\n",
    "from sklearn.model_selection import RandomizedSearchCV\n",
    "from scipy.stats import uniform\n",
    "from datetime import datetime"
   ]
  },
  {
   "cell_type": "markdown",
   "metadata": {},
   "source": [
    "## Capital Bike Share"
   ]
  },
  {
   "cell_type": "code",
   "execution_count": 174,
   "metadata": {},
   "outputs": [
    {
     "data": {
      "text/plain": [
       "'\"\\nThis dataset contains the hourly and daily count of rental bikes between years 2022 and 2023 in Capital bikeshare system with the corresponding weather and seasonal information.\\n\\nAdditional Information aboutb the Variable.\\nBoth hourly.csv and daily.csv have the following fields, except hour which is not available in daily.csv\\n\\n Casual: count of casual users\\n Member: count of member users\\n Date: Year:month:day\\n Hour: (0 to 23)\\n Total_rides: count of total rental bikes including both casual and members \\n relativehumidity_2m (%): Normalized humidity. The values are divided to 100\\n temperature_2m (°C):Normalized temperature in Celsius\\n apparent_temperature_mean (°C): Normalized feeling temperature in Celsius.\\n weathercode (wmo code): represents different weather conditions. \\n windspeed_10m (km/h): Normalized wind speed \\n\\n\\n\\n'"
      ]
     },
     "execution_count": 174,
     "metadata": {},
     "output_type": "execute_result"
    }
   ],
   "source": [
    "\"\"\"\"\n",
    "This dataset contains the hourly and daily count of rental bikes between years 2022 and 2023 in Capital bikeshare system with the corresponding weather and seasonal information.\n",
    "\n",
    "Additional Information aboutb the Variable.\n",
    "Both hourly.csv and daily.csv have the following fields, except hour which is not available in daily.csv\n",
    "\n",
    " Casual: count of casual users\n",
    " Member: count of member users\n",
    " Date: Year:month:day\n",
    " Hour: (0 to 23)\n",
    " Total_rides: count of total rental bikes including both casual and members \n",
    " relativehumidity_2m (%): Normalized humidity. The values are divided to 100\n",
    " temperature_2m (°C):Normalized temperature in Celsius\n",
    " apparent_temperature_mean (°C): Normalized feeling temperature in Celsius.\n",
    " weathercode (wmo code): represents different weather conditions. \n",
    " windspeed_10m (km/h): Normalized wind speed \n",
    "\n",
    "\n",
    "\n",
    "\"\"\""
   ]
  },
  {
   "cell_type": "markdown",
   "metadata": {},
   "source": [
    "## Loading Hourly Dataset"
   ]
  },
  {
   "cell_type": "code",
   "execution_count": 175,
   "metadata": {},
   "outputs": [
    {
     "name": "stderr",
     "output_type": "stream",
     "text": [
      "C:\\Users\\godwi\\AppData\\Local\\Temp\\ipykernel_19116\\2537278405.py:2: ParserWarning: Falling back to the 'python' engine because the 'c' engine does not support sep=None with delim_whitespace=False; you can avoid this warning by specifying engine='python'.\n",
      "  hour=pd.read_csv(\"CBS_2021-2023_Hourly_Weather.csv\", sep=None)\n"
     ]
    }
   ],
   "source": [
    "# loading csv file\n",
    "hour=pd.read_csv(\"CBS_2021-2023_Hourly_Weather.csv\", sep=None)"
   ]
  },
  {
   "cell_type": "code",
   "execution_count": 176,
   "metadata": {},
   "outputs": [
    {
     "name": "stdout",
     "output_type": "stream",
     "text": [
      "<class 'pandas.core.frame.DataFrame'>\n",
      "RangeIndex: 26280 entries, 0 to 26279\n",
      "Data columns (total 9 columns):\n",
      " #   Column                   Non-Null Count  Dtype  \n",
      "---  ------                   --------------  -----  \n",
      " 0   Casual                   26269 non-null  float64\n",
      " 1   Date                     26280 non-null  object \n",
      " 2   Hour                     26280 non-null  int64  \n",
      " 3   Member                   26269 non-null  float64\n",
      " 4   Total_rides              26269 non-null  float64\n",
      " 5   relativehumidity_2m (%)  26280 non-null  int64  \n",
      " 6   temperature_2m (°C)      26280 non-null  float64\n",
      " 7   weathercode (wmo code)   26280 non-null  int64  \n",
      " 8   windspeed_10m (km/h)     26280 non-null  float64\n",
      "dtypes: float64(5), int64(3), object(1)\n",
      "memory usage: 1.8+ MB\n"
     ]
    }
   ],
   "source": [
    "# getting summary of Data set\n",
    "hour.info()"
   ]
  },
  {
   "cell_type": "code",
   "execution_count": 177,
   "metadata": {},
   "outputs": [
    {
     "data": {
      "text/html": [
       "<div>\n",
       "<style scoped>\n",
       "    .dataframe tbody tr th:only-of-type {\n",
       "        vertical-align: middle;\n",
       "    }\n",
       "\n",
       "    .dataframe tbody tr th {\n",
       "        vertical-align: top;\n",
       "    }\n",
       "\n",
       "    .dataframe thead th {\n",
       "        text-align: right;\n",
       "    }\n",
       "</style>\n",
       "<table border=\"1\" class=\"dataframe\">\n",
       "  <thead>\n",
       "    <tr style=\"text-align: right;\">\n",
       "      <th></th>\n",
       "      <th>Casual</th>\n",
       "      <th>Date</th>\n",
       "      <th>Hour</th>\n",
       "      <th>Member</th>\n",
       "      <th>Total_rides</th>\n",
       "      <th>relativehumidity_2m (%)</th>\n",
       "      <th>temperature_2m (°C)</th>\n",
       "      <th>weathercode (wmo code)</th>\n",
       "      <th>windspeed_10m (km/h)</th>\n",
       "    </tr>\n",
       "  </thead>\n",
       "  <tbody>\n",
       "    <tr>\n",
       "      <th>0</th>\n",
       "      <td>20.0</td>\n",
       "      <td>2021-01-01</td>\n",
       "      <td>0</td>\n",
       "      <td>26.0</td>\n",
       "      <td>46.0</td>\n",
       "      <td>90</td>\n",
       "      <td>2.4</td>\n",
       "      <td>1</td>\n",
       "      <td>10.2</td>\n",
       "    </tr>\n",
       "    <tr>\n",
       "      <th>1</th>\n",
       "      <td>23.0</td>\n",
       "      <td>2021-01-01</td>\n",
       "      <td>1</td>\n",
       "      <td>23.0</td>\n",
       "      <td>46.0</td>\n",
       "      <td>88</td>\n",
       "      <td>1.8</td>\n",
       "      <td>1</td>\n",
       "      <td>10.0</td>\n",
       "    </tr>\n",
       "    <tr>\n",
       "      <th>2</th>\n",
       "      <td>20.0</td>\n",
       "      <td>2021-01-01</td>\n",
       "      <td>2</td>\n",
       "      <td>28.0</td>\n",
       "      <td>48.0</td>\n",
       "      <td>87</td>\n",
       "      <td>1.1</td>\n",
       "      <td>2</td>\n",
       "      <td>10.1</td>\n",
       "    </tr>\n",
       "    <tr>\n",
       "      <th>3</th>\n",
       "      <td>9.0</td>\n",
       "      <td>2021-01-01</td>\n",
       "      <td>3</td>\n",
       "      <td>7.0</td>\n",
       "      <td>16.0</td>\n",
       "      <td>81</td>\n",
       "      <td>1.6</td>\n",
       "      <td>2</td>\n",
       "      <td>10.6</td>\n",
       "    </tr>\n",
       "    <tr>\n",
       "      <th>4</th>\n",
       "      <td>7.0</td>\n",
       "      <td>2021-01-01</td>\n",
       "      <td>4</td>\n",
       "      <td>5.0</td>\n",
       "      <td>12.0</td>\n",
       "      <td>77</td>\n",
       "      <td>1.6</td>\n",
       "      <td>2</td>\n",
       "      <td>9.9</td>\n",
       "    </tr>\n",
       "  </tbody>\n",
       "</table>\n",
       "</div>"
      ],
      "text/plain": [
       "   Casual        Date  Hour  Member  Total_rides  relativehumidity_2m (%)  \\\n",
       "0    20.0  2021-01-01     0    26.0         46.0                       90   \n",
       "1    23.0  2021-01-01     1    23.0         46.0                       88   \n",
       "2    20.0  2021-01-01     2    28.0         48.0                       87   \n",
       "3     9.0  2021-01-01     3     7.0         16.0                       81   \n",
       "4     7.0  2021-01-01     4     5.0         12.0                       77   \n",
       "\n",
       "   temperature_2m (°C)  weathercode (wmo code)  windspeed_10m (km/h)  \n",
       "0                  2.4                       1                  10.2  \n",
       "1                  1.8                       1                  10.0  \n",
       "2                  1.1                       2                  10.1  \n",
       "3                  1.6                       2                  10.6  \n",
       "4                  1.6                       2                   9.9  "
      ]
     },
     "execution_count": 177,
     "metadata": {},
     "output_type": "execute_result"
    }
   ],
   "source": [
    "hour.head()"
   ]
  },
  {
   "cell_type": "code",
   "execution_count": 178,
   "metadata": {},
   "outputs": [
    {
     "data": {
      "text/html": [
       "<div>\n",
       "<style scoped>\n",
       "    .dataframe tbody tr th:only-of-type {\n",
       "        vertical-align: middle;\n",
       "    }\n",
       "\n",
       "    .dataframe tbody tr th {\n",
       "        vertical-align: top;\n",
       "    }\n",
       "\n",
       "    .dataframe thead th {\n",
       "        text-align: right;\n",
       "    }\n",
       "</style>\n",
       "<table border=\"1\" class=\"dataframe\">\n",
       "  <thead>\n",
       "    <tr style=\"text-align: right;\">\n",
       "      <th></th>\n",
       "      <th>count</th>\n",
       "      <th>mean</th>\n",
       "      <th>std</th>\n",
       "      <th>min</th>\n",
       "      <th>25%</th>\n",
       "      <th>50%</th>\n",
       "      <th>75%</th>\n",
       "      <th>max</th>\n",
       "    </tr>\n",
       "  </thead>\n",
       "  <tbody>\n",
       "    <tr>\n",
       "      <th>Casual</th>\n",
       "      <td>26269.0</td>\n",
       "      <td>159.93</td>\n",
       "      <td>167.33</td>\n",
       "      <td>0.0</td>\n",
       "      <td>28.00</td>\n",
       "      <td>105.0</td>\n",
       "      <td>237.00</td>\n",
       "      <td>1206.0</td>\n",
       "    </tr>\n",
       "    <tr>\n",
       "      <th>Hour</th>\n",
       "      <td>26280.0</td>\n",
       "      <td>11.50</td>\n",
       "      <td>6.92</td>\n",
       "      <td>0.0</td>\n",
       "      <td>5.75</td>\n",
       "      <td>11.5</td>\n",
       "      <td>17.25</td>\n",
       "      <td>23.0</td>\n",
       "    </tr>\n",
       "    <tr>\n",
       "      <th>Member</th>\n",
       "      <td>26269.0</td>\n",
       "      <td>247.17</td>\n",
       "      <td>225.28</td>\n",
       "      <td>0.0</td>\n",
       "      <td>55.00</td>\n",
       "      <td>203.0</td>\n",
       "      <td>371.00</td>\n",
       "      <td>1534.0</td>\n",
       "    </tr>\n",
       "    <tr>\n",
       "      <th>Total_rides</th>\n",
       "      <td>26269.0</td>\n",
       "      <td>407.10</td>\n",
       "      <td>373.01</td>\n",
       "      <td>1.0</td>\n",
       "      <td>85.00</td>\n",
       "      <td>319.0</td>\n",
       "      <td>616.00</td>\n",
       "      <td>2262.0</td>\n",
       "    </tr>\n",
       "    <tr>\n",
       "      <th>relativehumidity_2m (%)</th>\n",
       "      <td>26280.0</td>\n",
       "      <td>62.97</td>\n",
       "      <td>22.72</td>\n",
       "      <td>5.0</td>\n",
       "      <td>46.00</td>\n",
       "      <td>64.0</td>\n",
       "      <td>82.00</td>\n",
       "      <td>100.0</td>\n",
       "    </tr>\n",
       "    <tr>\n",
       "      <th>temperature_2m (°C)</th>\n",
       "      <td>26280.0</td>\n",
       "      <td>14.41</td>\n",
       "      <td>10.29</td>\n",
       "      <td>-14.6</td>\n",
       "      <td>6.10</td>\n",
       "      <td>14.8</td>\n",
       "      <td>22.70</td>\n",
       "      <td>41.5</td>\n",
       "    </tr>\n",
       "    <tr>\n",
       "      <th>weathercode (wmo code)</th>\n",
       "      <td>26280.0</td>\n",
       "      <td>7.23</td>\n",
       "      <td>17.63</td>\n",
       "      <td>0.0</td>\n",
       "      <td>0.00</td>\n",
       "      <td>1.0</td>\n",
       "      <td>2.00</td>\n",
       "      <td>75.0</td>\n",
       "    </tr>\n",
       "    <tr>\n",
       "      <th>windspeed_10m (km/h)</th>\n",
       "      <td>26280.0</td>\n",
       "      <td>10.17</td>\n",
       "      <td>5.26</td>\n",
       "      <td>0.0</td>\n",
       "      <td>6.50</td>\n",
       "      <td>9.2</td>\n",
       "      <td>12.90</td>\n",
       "      <td>40.1</td>\n",
       "    </tr>\n",
       "  </tbody>\n",
       "</table>\n",
       "</div>"
      ],
      "text/plain": [
       "                           count    mean     std   min    25%    50%     75%  \\\n",
       "Casual                   26269.0  159.93  167.33   0.0  28.00  105.0  237.00   \n",
       "Hour                     26280.0   11.50    6.92   0.0   5.75   11.5   17.25   \n",
       "Member                   26269.0  247.17  225.28   0.0  55.00  203.0  371.00   \n",
       "Total_rides              26269.0  407.10  373.01   1.0  85.00  319.0  616.00   \n",
       "relativehumidity_2m (%)  26280.0   62.97   22.72   5.0  46.00   64.0   82.00   \n",
       "temperature_2m (°C)      26280.0   14.41   10.29 -14.6   6.10   14.8   22.70   \n",
       "weathercode (wmo code)   26280.0    7.23   17.63   0.0   0.00    1.0    2.00   \n",
       "windspeed_10m (km/h)     26280.0   10.17    5.26   0.0   6.50    9.2   12.90   \n",
       "\n",
       "                            max  \n",
       "Casual                   1206.0  \n",
       "Hour                       23.0  \n",
       "Member                   1534.0  \n",
       "Total_rides              2262.0  \n",
       "relativehumidity_2m (%)   100.0  \n",
       "temperature_2m (°C)        41.5  \n",
       "weathercode (wmo code)     75.0  \n",
       "windspeed_10m (km/h)       40.1  "
      ]
     },
     "execution_count": 178,
     "metadata": {},
     "output_type": "execute_result"
    }
   ],
   "source": [
    "# getting the statistics of the Dataset\n",
    "hour.describe().round(2).T"
   ]
  },
  {
   "cell_type": "code",
   "execution_count": 179,
   "metadata": {},
   "outputs": [
    {
     "data": {
      "text/plain": [
       "(26280, 9)"
      ]
     },
     "execution_count": 179,
     "metadata": {},
     "output_type": "execute_result"
    }
   ],
   "source": [
    "#getting the shape of the DataFrame\n",
    "hour.shape"
   ]
  },
  {
   "cell_type": "markdown",
   "metadata": {},
   "source": [
    "### Checking for Missing values"
   ]
  },
  {
   "cell_type": "code",
   "execution_count": 180,
   "metadata": {},
   "outputs": [
    {
     "data": {
      "text/plain": [
       "Casual                     11\n",
       "Date                        0\n",
       "Hour                        0\n",
       "Member                     11\n",
       "Total_rides                11\n",
       "relativehumidity_2m (%)     0\n",
       "temperature_2m (°C)         0\n",
       "weathercode (wmo code)      0\n",
       "windspeed_10m (km/h)        0\n",
       "dtype: int64"
      ]
     },
     "execution_count": 180,
     "metadata": {},
     "output_type": "execute_result"
    }
   ],
   "source": [
    "## checking for missing values in Data Set\n",
    "hour.isnull().sum()\n",
    "## Missing values for casual, member,total_rides are 11,11,11 respectively"
   ]
  },
  {
   "cell_type": "markdown",
   "metadata": {},
   "source": [
    "Dropping of missing values"
   ]
  },
  {
   "cell_type": "code",
   "execution_count": 181,
   "metadata": {},
   "outputs": [],
   "source": [
    "#dropping missing values\n",
    "hour.dropna(inplace=True)"
   ]
  },
  {
   "cell_type": "code",
   "execution_count": 182,
   "metadata": {},
   "outputs": [
    {
     "name": "stdout",
     "output_type": "stream",
     "text": [
      "<class 'pandas.core.frame.DataFrame'>\n",
      "RangeIndex: 26269 entries, 0 to 26268\n",
      "Data columns (total 9 columns):\n",
      " #   Column                   Non-Null Count  Dtype  \n",
      "---  ------                   --------------  -----  \n",
      " 0   Casual                   26269 non-null  float64\n",
      " 1   Date                     26269 non-null  object \n",
      " 2   Hour                     26269 non-null  int64  \n",
      " 3   Member                   26269 non-null  float64\n",
      " 4   Total_rides              26269 non-null  float64\n",
      " 5   relativehumidity_2m (%)  26269 non-null  int64  \n",
      " 6   temperature_2m (°C)      26269 non-null  float64\n",
      " 7   weathercode (wmo code)   26269 non-null  int64  \n",
      " 8   windspeed_10m (km/h)     26269 non-null  float64\n",
      "dtypes: float64(5), int64(3), object(1)\n",
      "memory usage: 1.8+ MB\n",
      "None\n"
     ]
    }
   ],
   "source": [
    "#resetting index of the Data Frame\n",
    "hourly=hour.reset_index(drop=True)\n",
    "# get the info of the Data Frame\n",
    "print(hourly.info())"
   ]
  },
  {
   "cell_type": "markdown",
   "metadata": {},
   "source": [
    "## Creating of new columns"
   ]
  },
  {
   "cell_type": "code",
   "execution_count": 183,
   "metadata": {},
   "outputs": [],
   "source": [
    "#Season\n",
    "# Function to get season\n",
    "def get_season(month):\n",
    "    if month in [12, 1, 2]:\n",
    "        return \"Winter\"\n",
    "    elif month in [3, 4, 5]:\n",
    "        return \"Spring\"\n",
    "    elif month in [6, 7, 8]:\n",
    "        return \"Summer\"\n",
    "    elif month in [9, 10, 11]:\n",
    "        return \"Fall\"\n",
    "\n",
    "# Function to categorize season based on date\n",
    "def categorize_season(date):\n",
    "    dt = datetime.strptime(date, \"%Y-%m-%d\")\n",
    "    month = dt.month\n",
    "    return get_season(month)\n",
    "\n",
    "# Apply function to create a new column\n",
    "hourly['Season'] = hourly['Date'].apply(categorize_season)\n",
    "\n"
   ]
  },
  {
   "cell_type": "code",
   "execution_count": 184,
   "metadata": {},
   "outputs": [],
   "source": [
    "##WEEKDAY\n",
    "# Function to get weekday\n",
    "def get_weekday(day):\n",
    "    weekdays = [\"Mon.\", \"Tue.\", \"Wed.\", \"Thur.\", \"Fri.\", \"Sat.\", \"Sun.\"]\n",
    "    return weekdays[day]\n",
    "\n",
    "# Function to categorize weekday based on date\n",
    "def categorize_week(date):\n",
    "    dt = datetime.strptime(date, \"%Y-%m-%d\")\n",
    "    weekday = dt.weekday()  # 0 for Monday, 1 for Tuesday, ..., 6 for Sunday\n",
    "    return get_weekday(weekday)\n",
    "\n",
    "# Apply function to create a new column\n",
    "hourly['Weekday'] = hourly['Date'].apply(categorize_week)"
   ]
  },
  {
   "cell_type": "code",
   "execution_count": 185,
   "metadata": {},
   "outputs": [],
   "source": [
    "#Month\n",
    "# Function to get month\n",
    "def get_month(month):\n",
    "    months = [\"Jan.\", \"Feb.\", \"Mar.\", \"Apr.\", \"May\", \"Jun.\", \"Jul.\", \"Aug.\", \"Sep.\", \"Oct.\", \"Nov.\", \"Dec.\"]\n",
    "    return months[month - 1]\n",
    "\n",
    "# Function to categorize month based on date\n",
    "def categorize_month(date):\n",
    "    dt = datetime.strptime(date, \"%Y-%m-%d\")\n",
    "    month = dt.month\n",
    "    return get_month(month)\n",
    "\n",
    "# Apply function to create a new column\n",
    "hourly['Month'] = hourly['Date'].apply(categorize_month)"
   ]
  },
  {
   "cell_type": "code",
   "execution_count": 186,
   "metadata": {},
   "outputs": [],
   "source": [
    "## Minutes\n",
    "# Function to convert hours to minutes\n",
    "def hours_to_minutes(hour):\n",
    "    return hour * 60\n",
    "\n",
    "# Apply function to create a new column 'Minutes'\n",
    "hourly['Minutes'] = hourly['Hour'].apply(hours_to_minutes)\n"
   ]
  },
  {
   "cell_type": "code",
   "execution_count": 187,
   "metadata": {},
   "outputs": [
    {
     "data": {
      "text/html": [
       "<div>\n",
       "<style scoped>\n",
       "    .dataframe tbody tr th:only-of-type {\n",
       "        vertical-align: middle;\n",
       "    }\n",
       "\n",
       "    .dataframe tbody tr th {\n",
       "        vertical-align: top;\n",
       "    }\n",
       "\n",
       "    .dataframe thead th {\n",
       "        text-align: right;\n",
       "    }\n",
       "</style>\n",
       "<table border=\"1\" class=\"dataframe\">\n",
       "  <thead>\n",
       "    <tr style=\"text-align: right;\">\n",
       "      <th></th>\n",
       "      <th>Casual</th>\n",
       "      <th>Date</th>\n",
       "      <th>Hour</th>\n",
       "      <th>Member</th>\n",
       "      <th>Total_rides</th>\n",
       "      <th>relativehumidity_2m (%)</th>\n",
       "      <th>temperature_2m (°C)</th>\n",
       "      <th>weathercode (wmo code)</th>\n",
       "      <th>windspeed_10m (km/h)</th>\n",
       "      <th>Season</th>\n",
       "      <th>Weekday</th>\n",
       "      <th>Month</th>\n",
       "      <th>Minutes</th>\n",
       "    </tr>\n",
       "  </thead>\n",
       "  <tbody>\n",
       "    <tr>\n",
       "      <th>0</th>\n",
       "      <td>20.0</td>\n",
       "      <td>2021-01-01</td>\n",
       "      <td>0</td>\n",
       "      <td>26.0</td>\n",
       "      <td>46.0</td>\n",
       "      <td>90</td>\n",
       "      <td>2.4</td>\n",
       "      <td>1</td>\n",
       "      <td>10.2</td>\n",
       "      <td>Winter</td>\n",
       "      <td>Fri.</td>\n",
       "      <td>Jan.</td>\n",
       "      <td>0</td>\n",
       "    </tr>\n",
       "    <tr>\n",
       "      <th>1</th>\n",
       "      <td>23.0</td>\n",
       "      <td>2021-01-01</td>\n",
       "      <td>1</td>\n",
       "      <td>23.0</td>\n",
       "      <td>46.0</td>\n",
       "      <td>88</td>\n",
       "      <td>1.8</td>\n",
       "      <td>1</td>\n",
       "      <td>10.0</td>\n",
       "      <td>Winter</td>\n",
       "      <td>Fri.</td>\n",
       "      <td>Jan.</td>\n",
       "      <td>60</td>\n",
       "    </tr>\n",
       "    <tr>\n",
       "      <th>2</th>\n",
       "      <td>20.0</td>\n",
       "      <td>2021-01-01</td>\n",
       "      <td>2</td>\n",
       "      <td>28.0</td>\n",
       "      <td>48.0</td>\n",
       "      <td>87</td>\n",
       "      <td>1.1</td>\n",
       "      <td>2</td>\n",
       "      <td>10.1</td>\n",
       "      <td>Winter</td>\n",
       "      <td>Fri.</td>\n",
       "      <td>Jan.</td>\n",
       "      <td>120</td>\n",
       "    </tr>\n",
       "    <tr>\n",
       "      <th>3</th>\n",
       "      <td>9.0</td>\n",
       "      <td>2021-01-01</td>\n",
       "      <td>3</td>\n",
       "      <td>7.0</td>\n",
       "      <td>16.0</td>\n",
       "      <td>81</td>\n",
       "      <td>1.6</td>\n",
       "      <td>2</td>\n",
       "      <td>10.6</td>\n",
       "      <td>Winter</td>\n",
       "      <td>Fri.</td>\n",
       "      <td>Jan.</td>\n",
       "      <td>180</td>\n",
       "    </tr>\n",
       "    <tr>\n",
       "      <th>4</th>\n",
       "      <td>7.0</td>\n",
       "      <td>2021-01-01</td>\n",
       "      <td>4</td>\n",
       "      <td>5.0</td>\n",
       "      <td>12.0</td>\n",
       "      <td>77</td>\n",
       "      <td>1.6</td>\n",
       "      <td>2</td>\n",
       "      <td>9.9</td>\n",
       "      <td>Winter</td>\n",
       "      <td>Fri.</td>\n",
       "      <td>Jan.</td>\n",
       "      <td>240</td>\n",
       "    </tr>\n",
       "  </tbody>\n",
       "</table>\n",
       "</div>"
      ],
      "text/plain": [
       "   Casual        Date  Hour  Member  Total_rides  relativehumidity_2m (%)  \\\n",
       "0    20.0  2021-01-01     0    26.0         46.0                       90   \n",
       "1    23.0  2021-01-01     1    23.0         46.0                       88   \n",
       "2    20.0  2021-01-01     2    28.0         48.0                       87   \n",
       "3     9.0  2021-01-01     3     7.0         16.0                       81   \n",
       "4     7.0  2021-01-01     4     5.0         12.0                       77   \n",
       "\n",
       "   temperature_2m (°C)  weathercode (wmo code)  windspeed_10m (km/h)  Season  \\\n",
       "0                  2.4                       1                  10.2  Winter   \n",
       "1                  1.8                       1                  10.0  Winter   \n",
       "2                  1.1                       2                  10.1  Winter   \n",
       "3                  1.6                       2                  10.6  Winter   \n",
       "4                  1.6                       2                   9.9  Winter   \n",
       "\n",
       "  Weekday Month  Minutes  \n",
       "0    Fri.  Jan.        0  \n",
       "1    Fri.  Jan.       60  \n",
       "2    Fri.  Jan.      120  \n",
       "3    Fri.  Jan.      180  \n",
       "4    Fri.  Jan.      240  "
      ]
     },
     "execution_count": 187,
     "metadata": {},
     "output_type": "execute_result"
    }
   ],
   "source": [
    "hourly.head()"
   ]
  },
  {
   "cell_type": "code",
   "execution_count": 188,
   "metadata": {},
   "outputs": [
    {
     "name": "stdout",
     "output_type": "stream",
     "text": [
      "<class 'pandas.core.frame.DataFrame'>\n",
      "RangeIndex: 26269 entries, 0 to 26268\n",
      "Data columns (total 13 columns):\n",
      " #   Column                   Non-Null Count  Dtype  \n",
      "---  ------                   --------------  -----  \n",
      " 0   Casual                   26269 non-null  float64\n",
      " 1   Date                     26269 non-null  object \n",
      " 2   Hour                     26269 non-null  int64  \n",
      " 3   Member                   26269 non-null  float64\n",
      " 4   Total_rides              26269 non-null  float64\n",
      " 5   relativehumidity_2m (%)  26269 non-null  int64  \n",
      " 6   temperature_2m (°C)      26269 non-null  float64\n",
      " 7   weathercode (wmo code)   26269 non-null  int64  \n",
      " 8   windspeed_10m (km/h)     26269 non-null  float64\n",
      " 9   Season                   26269 non-null  object \n",
      " 10  Weekday                  26269 non-null  object \n",
      " 11  Month                    26269 non-null  object \n",
      " 12  Minutes                  26269 non-null  int64  \n",
      "dtypes: float64(5), int64(4), object(4)\n",
      "memory usage: 2.6+ MB\n"
     ]
    }
   ],
   "source": [
    "hourly.info()"
   ]
  },
  {
   "cell_type": "markdown",
   "metadata": {},
   "source": [
    "2021 Data Frame"
   ]
  },
  {
   "cell_type": "code",
   "execution_count": 189,
   "metadata": {},
   "outputs": [],
   "source": [
    "# Convert 'Date' column to datetime type\n",
    "hourly['Date'] = pd.to_datetime(hourly['Date'])\n",
    "\n",
    "# Filter the DataFrame for rows where the year is 2021\n",
    "hourly_2021 = hourly[hourly['Date'].dt.year == 2021]\n"
   ]
  },
  {
   "cell_type": "code",
   "execution_count": 190,
   "metadata": {},
   "outputs": [
    {
     "data": {
      "text/plain": [
       "(8752, 13)"
      ]
     },
     "execution_count": 190,
     "metadata": {},
     "output_type": "execute_result"
    }
   ],
   "source": [
    "hourly_2021.shape"
   ]
  },
  {
   "cell_type": "markdown",
   "metadata": {},
   "source": [
    "2022 Data Frame"
   ]
  },
  {
   "cell_type": "code",
   "execution_count": 191,
   "metadata": {},
   "outputs": [],
   "source": [
    "# Convert 'Date' column to datetime type\n",
    "hourly['Date'] = pd.to_datetime(hourly['Date'])\n",
    "\n",
    "# Filter the DataFrame for rows where the year is 2021\n",
    "hourly_2022 = hourly[hourly['Date'].dt.year == 2022]\n"
   ]
  },
  {
   "cell_type": "code",
   "execution_count": 192,
   "metadata": {},
   "outputs": [
    {
     "data": {
      "text/plain": [
       "(8758, 13)"
      ]
     },
     "execution_count": 192,
     "metadata": {},
     "output_type": "execute_result"
    }
   ],
   "source": [
    "hourly_2022.shape"
   ]
  },
  {
   "cell_type": "markdown",
   "metadata": {},
   "source": [
    "2023 Data Frame"
   ]
  },
  {
   "cell_type": "code",
   "execution_count": 193,
   "metadata": {},
   "outputs": [],
   "source": [
    "# Convert 'Date' column to datetime type\n",
    "hourly['Date'] = pd.to_datetime(hourly['Date'])\n",
    "\n",
    "# Filter the DataFrame for rows where the year is 2021\n",
    "hourly_2023 = hourly[hourly['Date'].dt.year == 2023]\n"
   ]
  },
  {
   "cell_type": "code",
   "execution_count": 194,
   "metadata": {},
   "outputs": [
    {
     "data": {
      "text/plain": [
       "(8759, 13)"
      ]
     },
     "execution_count": 194,
     "metadata": {},
     "output_type": "execute_result"
    }
   ],
   "source": [
    "hourly_2023.shape"
   ]
  },
  {
   "cell_type": "markdown",
   "metadata": {},
   "source": [
    "## Exploratory Data Analysis"
   ]
  },
  {
   "cell_type": "markdown",
   "metadata": {},
   "source": [
    "Some Hypotheses formulation"
   ]
  },
  {
   "cell_type": "code",
   "execution_count": 195,
   "metadata": {},
   "outputs": [
    {
     "data": {
      "text/plain": [
       "'\"\"\\nHourly trend: most of the businesses have rush hours and weak hours. It should not be an exception for bike rentals as well.\\n\\nDaily Trend: weekdays vs weekends and registered users vs casual users.\\n\\nRelative humdity: the demand for bikes might be changed on a rainy day as compared to a sunny day. Similarly, people prefer to go out on less humid days.\\n\\nTemperature: in warm countries, temperature generally keeps people inside.\\n\\nBusiness model: businesses often rely on customers who are members more than casual users. There might be some interesting insights that can strengthen this assumption.\\n'"
      ]
     },
     "execution_count": 195,
     "metadata": {},
     "output_type": "execute_result"
    }
   ],
   "source": [
    "\"\"\"\"\"\n",
    "Hourly trend: most of the businesses have rush hours and weak hours. It should not be an exception for bike rentals as well.\n",
    "\n",
    "Daily Trend: weekdays vs weekends and registered users vs casual users.\n",
    "\n",
    "Relative humdity: the demand for bikes might be changed on a rainy day as compared to a sunny day. Similarly, people prefer to go out on less humid days.\n",
    "\n",
    "Temperature: in warm countries, temperature generally keeps people inside.\n",
    "\n",
    "Business model: businesses often rely on customers who are members more than casual users. There might be some interesting insights that can strengthen this assumption.\n",
    "\"\"\""
   ]
  },
  {
   "cell_type": "code",
   "execution_count": 196,
   "metadata": {},
   "outputs": [
    {
     "data": {
      "text/plain": [
       "Text(0.5, 1.0, 'Season wise Hourly Distribution of Bike Total Rides')"
      ]
     },
     "execution_count": 196,
     "metadata": {},
     "output_type": "execute_result"
    },
    {
     "data": {
      "image/png": "[encoded data removed]",
      "text/plain": [
       "<Figure size 640x480 with 1 Axes>"
      ]
     },
     "metadata": {},
     "output_type": "display_data"
    }
   ],
   "source": [
    "\n",
    "#sns.set_theme(style=\"darkgrid\")\n",
    "\n",
    "# Load an example dataset with long-form data\n",
    "\n",
    "\n",
    "# Plot the responses for different events and regions\n",
    "sns.lineplot(x=\"Hour\", y=\"Total_rides\",\n",
    "             hue=\"Season\",\n",
    "             data=hourly)\n",
    "plt.title(\"Season wise Hourly Distribution of Bike Total Rides\")"
   ]
  },
  {
   "cell_type": "code",
   "execution_count": 197,
   "metadata": {},
   "outputs": [
    {
     "data": {
      "text/plain": [
       "Text(0.5, 1.0, '2021 Monthly Ride Count')"
      ]
     },
     "execution_count": 197,
     "metadata": {},
     "output_type": "execute_result"
    },
    {
     "data": {
      "image/png": "[encoded data removed]",
      "text/plain": [
       "<Figure size 600x600 with 1 Axes>"
      ]
     },
     "metadata": {},
     "output_type": "display_data"
    }
   ],
   "source": [
    "plt.figure(figsize=(6, 6))\n",
    "sns.lineplot(x=\"Month\", y=\"Total_rides\",\n",
    "      \n",
    "             data=hourly_2021)\n",
    "plt.title(\"2021 Monthly Ride Count\")"
   ]
  }
 ],
 "metadata": {
  "kernelspec": {
   "display_name": "com",
   "language": "python",
   "name": "python3"
  },
  "language_info": {
   "codemirror_mode": {
    "name": "ipython",
    "version": 3
   },
   "file_extension": ".py",
   "mimetype": "text/x-python",
   "name": "python",
   "nbconvert_exporter": "python",
   "pygments_lexer": "ipython3",
   "version": "3.11.5"
  }
 },
 "nbformat": 4,
 "nbformat_minor": 2
}
