{
 "cells": [
  {
   "cell_type": "code",
   "execution_count": 3,
   "metadata": {},
   "outputs": [
    {
     "name": "stdout",
     "output_type": "stream",
     "text": [
      "Hello World!\n"
     ]
    }
   ],
   "source": [
    "print(\"Hello World!\")"
   ]
  },
  {
   "cell_type": "code",
   "execution_count": 4,
   "metadata": {},
   "outputs": [],
   "source": [
    "# importing relevant modules\n",
    "import numpy as np\n",
    "import pandas as pd \n",
    "import matplotlib.pyplot as plt\n",
    "import seaborn as sns\n",
    "import scipy.stats as stats\n",
    "from sklearn import preprocessing as sk\n",
    "from sklearn.model_selection import train_test_split\n",
    "from sklearn.linear_model import LogisticRegression \n",
    "from sklearn.metrics import accuracy_score\n",
    "from sklearn.preprocessing import OneHotEncoder\n",
    "from sklearn.preprocessing import LabelEncoder\n",
    "from sklearn.preprocessing import OrdinalEncoder\n",
    "from sklearn.preprocessing import MinMaxScaler, RobustScaler, StandardScaler\n",
    "from sklearn.ensemble import RandomForestClassifier\n",
    "from sklearn import svm \n",
    "from sklearn.metrics import confusion_matrix, ConfusionMatrixDisplay\n",
    "from sklearn.metrics import classification_report\n",
    "from sklearn.model_selection import StratifiedKFold\n",
    "from sklearn.metrics import cohen_kappa_score\n",
    "from sklearn.model_selection import cross_val_score\n",
    "from sklearn.tree import DecisionTreeClassifier\n",
    "from sklearn.ensemble import GradientBoostingClassifier\n",
    "from sklearn.svm import SVC\n",
    "from sklearn.neighbors import KNeighborsClassifier\n",
    "from sklearn.naive_bayes import ComplementNB\n",
    "from sklearn.model_selection import cross_val_predict\n",
    "from sklearn.model_selection import RandomizedSearchCV\n",
    "from scipy.stats import uniform\n",
    "from datetime import datetime"
   ]
  },
  {
   "cell_type": "markdown",
   "metadata": {},
   "source": [
    "## Capital Bike Share"
   ]
  },
  {
   "cell_type": "code",
   "execution_count": 5,
   "metadata": {},
   "outputs": [
    {
     "data": {
      "text/plain": [
       "'\"\\nThis dataset contains the hourly and daily count of rental bikes between years 2022 and 2023 in Capital bikeshare system with the corresponding weather and seasonal information.\\n\\nAdditional Information aboutb the Variable.\\nBoth hourly.csv and daily.csv have the following fields, except hour which is not available in daily.csv\\n\\n Casual: count of casual users\\n Member: count of member users\\n Date: Year:month:day\\n Hour: (0 to 23)\\n Total_rides: count of total rental bikes including both casual and members \\n relativehumidity_2m (%): Normalized humidity. The values are divided to 100\\n temperature_2m (°C):Normalized temperature in Celsius\\n apparent_temperature_mean (°C): Normalized feeling temperature in Celsius.\\n weathercode (wmo code): represents different weather conditions. \\n windspeed_10m (km/h): Normalized wind speed \\n\\n\\n\\n'"
      ]
     },
     "execution_count": 5,
     "metadata": {},
     "output_type": "execute_result"
    }
   ],
   "source": [
    "\"\"\"\"\n",
    "This dataset contains the hourly and daily count of rental bikes between years 2022 and 2023 in Capital bikeshare system with the corresponding weather and seasonal information.\n",
    "\n",
    "Additional Information aboutb the Variable.\n",
    "Both hourly.csv and daily.csv have the following fields, except hour which is not available in daily.csv\n",
    "\n",
    " Casual: count of casual users\n",
    " Member: count of member users\n",
    " Date: Year:month:day\n",
    " Hour: (0 to 23)\n",
    " Total_rides: count of total rental bikes including both casual and members \n",
    " relativehumidity_2m (%): Normalized humidity. The values are divided to 100\n",
    " temperature_2m (°C):Normalized temperature in Celsius\n",
    " apparent_temperature_mean (°C): Normalized feeling temperature in Celsius.\n",
    " weathercode (wmo code): represents different weather conditions. \n",
    " windspeed_10m (km/h): Normalized wind speed \n",
    "\n",
    "\n",
    "\n",
    "\"\"\""
   ]
  },
  {
   "cell_type": "markdown",
   "metadata": {},
   "source": [
    "## Loading Hourly Dataset"
   ]
  },
  {
   "cell_type": "code",
   "execution_count": 6,
   "metadata": {},
   "outputs": [
    {
     "name": "stderr",
     "output_type": "stream",
     "text": [
      "C:\\Users\\godwi\\AppData\\Local\\Temp\\ipykernel_656\\2537278405.py:2: ParserWarning: Falling back to the 'python' engine because the 'c' engine does not support sep=None with delim_whitespace=False; you can avoid this warning by specifying engine='python'.\n",
      "  hour=pd.read_csv(\"CBS_2021-2023_Hourly_Weather.csv\", sep=None)\n"
     ]
    }
   ],
   "source": [
    "# loading csv file\n",
    "hour=pd.read_csv(\"CBS_2021-2023_Hourly_Weather.csv\", sep=None)"
   ]
  },
  {
   "cell_type": "code",
   "execution_count": 7,
   "metadata": {},
   "outputs": [
    {
     "name": "stdout",
     "output_type": "stream",
     "text": [
      "<class 'pandas.core.frame.DataFrame'>\n",
      "RangeIndex: 26280 entries, 0 to 26279\n",
      "Data columns (total 9 columns):\n",
      " #   Column                   Non-Null Count  Dtype  \n",
      "---  ------                   --------------  -----  \n",
      " 0   Casual                   26269 non-null  float64\n",
      " 1   Date                     26280 non-null  object \n",
      " 2   Hour                     26280 non-null  int64  \n",
      " 3   Member                   26269 non-null  float64\n",
      " 4   Total_rides              26269 non-null  float64\n",
      " 5   relativehumidity_2m (%)  26280 non-null  int64  \n",
      " 6   temperature_2m (°C)      26280 non-null  float64\n",
      " 7   weathercode (wmo code)   26280 non-null  int64  \n",
      " 8   windspeed_10m (km/h)     26280 non-null  float64\n",
      "dtypes: float64(5), int64(3), object(1)\n",
      "memory usage: 1.8+ MB\n"
     ]
    }
   ],
   "source": [
    "# getting summary of Data set\n",
    "hour.info()"
   ]
  },
  {
   "cell_type": "code",
   "execution_count": 8,
   "metadata": {},
   "outputs": [
    {
     "data": {
      "text/html": [
       "<div>\n",
       "<style scoped>\n",
       "    .dataframe tbody tr th:only-of-type {\n",
       "        vertical-align: middle;\n",
       "    }\n",
       "\n",
       "    .dataframe tbody tr th {\n",
       "        vertical-align: top;\n",
       "    }\n",
       "\n",
       "    .dataframe thead th {\n",
       "        text-align: right;\n",
       "    }\n",
       "</style>\n",
       "<table border=\"1\" class=\"dataframe\">\n",
       "  <thead>\n",
       "    <tr style=\"text-align: right;\">\n",
       "      <th></th>\n",
       "      <th>Casual</th>\n",
       "      <th>Date</th>\n",
       "      <th>Hour</th>\n",
       "      <th>Member</th>\n",
       "      <th>Total_rides</th>\n",
       "      <th>relativehumidity_2m (%)</th>\n",
       "      <th>temperature_2m (°C)</th>\n",
       "      <th>weathercode (wmo code)</th>\n",
       "      <th>windspeed_10m (km/h)</th>\n",
       "    </tr>\n",
       "  </thead>\n",
       "  <tbody>\n",
       "    <tr>\n",
       "      <th>0</th>\n",
       "      <td>20.0</td>\n",
       "      <td>2021-01-01</td>\n",
       "      <td>0</td>\n",
       "      <td>26.0</td>\n",
       "      <td>46.0</td>\n",
       "      <td>90</td>\n",
       "      <td>2.4</td>\n",
       "      <td>1</td>\n",
       "      <td>10.2</td>\n",
       "    </tr>\n",
       "    <tr>\n",
       "      <th>1</th>\n",
       "      <td>23.0</td>\n",
       "      <td>2021-01-01</td>\n",
       "      <td>1</td>\n",
       "      <td>23.0</td>\n",
       "      <td>46.0</td>\n",
       "      <td>88</td>\n",
       "      <td>1.8</td>\n",
       "      <td>1</td>\n",
       "      <td>10.0</td>\n",
       "    </tr>\n",
       "    <tr>\n",
       "      <th>2</th>\n",
       "      <td>20.0</td>\n",
       "      <td>2021-01-01</td>\n",
       "      <td>2</td>\n",
       "      <td>28.0</td>\n",
       "      <td>48.0</td>\n",
       "      <td>87</td>\n",
       "      <td>1.1</td>\n",
       "      <td>2</td>\n",
       "      <td>10.1</td>\n",
       "    </tr>\n",
       "    <tr>\n",
       "      <th>3</th>\n",
       "      <td>9.0</td>\n",
       "      <td>2021-01-01</td>\n",
       "      <td>3</td>\n",
       "      <td>7.0</td>\n",
       "      <td>16.0</td>\n",
       "      <td>81</td>\n",
       "      <td>1.6</td>\n",
       "      <td>2</td>\n",
       "      <td>10.6</td>\n",
       "    </tr>\n",
       "    <tr>\n",
       "      <th>4</th>\n",
       "      <td>7.0</td>\n",
       "      <td>2021-01-01</td>\n",
       "      <td>4</td>\n",
       "      <td>5.0</td>\n",
       "      <td>12.0</td>\n",
       "      <td>77</td>\n",
       "      <td>1.6</td>\n",
       "      <td>2</td>\n",
       "      <td>9.9</td>\n",
       "    </tr>\n",
       "  </tbody>\n",
       "</table>\n",
       "</div>"
      ],
      "text/plain": [
       "   Casual        Date  Hour  Member  Total_rides  relativehumidity_2m (%)  \\\n",
       "0    20.0  2021-01-01     0    26.0         46.0                       90   \n",
       "1    23.0  2021-01-01     1    23.0         46.0                       88   \n",
       "2    20.0  2021-01-01     2    28.0         48.0                       87   \n",
       "3     9.0  2021-01-01     3     7.0         16.0                       81   \n",
       "4     7.0  2021-01-01     4     5.0         12.0                       77   \n",
       "\n",
       "   temperature_2m (°C)  weathercode (wmo code)  windspeed_10m (km/h)  \n",
       "0                  2.4                       1                  10.2  \n",
       "1                  1.8                       1                  10.0  \n",
       "2                  1.1                       2                  10.1  \n",
       "3                  1.6                       2                  10.6  \n",
       "4                  1.6                       2                   9.9  "
      ]
     },
     "execution_count": 8,
     "metadata": {},
     "output_type": "execute_result"
    }
   ],
   "source": [
    "hour.head()"
   ]
  },
  {
   "cell_type": "code",
   "execution_count": 9,
   "metadata": {},
   "outputs": [
    {
     "data": {
      "text/html": [
       "<div>\n",
       "<style scoped>\n",
       "    .dataframe tbody tr th:only-of-type {\n",
       "        vertical-align: middle;\n",
       "    }\n",
       "\n",
       "    .dataframe tbody tr th {\n",
       "        vertical-align: top;\n",
       "    }\n",
       "\n",
       "    .dataframe thead th {\n",
       "        text-align: right;\n",
       "    }\n",
       "</style>\n",
       "<table border=\"1\" class=\"dataframe\">\n",
       "  <thead>\n",
       "    <tr style=\"text-align: right;\">\n",
       "      <th></th>\n",
       "      <th>count</th>\n",
       "      <th>mean</th>\n",
       "      <th>std</th>\n",
       "      <th>min</th>\n",
       "      <th>25%</th>\n",
       "      <th>50%</th>\n",
       "      <th>75%</th>\n",
       "      <th>max</th>\n",
       "    </tr>\n",
       "  </thead>\n",
       "  <tbody>\n",
       "    <tr>\n",
       "      <th>Casual</th>\n",
       "      <td>26269.0</td>\n",
       "      <td>159.93</td>\n",
       "      <td>167.33</td>\n",
       "      <td>0.0</td>\n",
       "      <td>28.00</td>\n",
       "      <td>105.0</td>\n",
       "      <td>237.00</td>\n",
       "      <td>1206.0</td>\n",
       "    </tr>\n",
       "    <tr>\n",
       "      <th>Hour</th>\n",
       "      <td>26280.0</td>\n",
       "      <td>11.50</td>\n",
       "      <td>6.92</td>\n",
       "      <td>0.0</td>\n",
       "      <td>5.75</td>\n",
       "      <td>11.5</td>\n",
       "      <td>17.25</td>\n",
       "      <td>23.0</td>\n",
       "    </tr>\n",
       "    <tr>\n",
       "      <th>Member</th>\n",
       "      <td>26269.0</td>\n",
       "      <td>247.17</td>\n",
       "      <td>225.28</td>\n",
       "      <td>0.0</td>\n",
       "      <td>55.00</td>\n",
       "      <td>203.0</td>\n",
       "      <td>371.00</td>\n",
       "      <td>1534.0</td>\n",
       "    </tr>\n",
       "    <tr>\n",
       "      <th>Total_rides</th>\n",
       "      <td>26269.0</td>\n",
       "      <td>407.10</td>\n",
       "      <td>373.01</td>\n",
       "      <td>1.0</td>\n",
       "      <td>85.00</td>\n",
       "      <td>319.0</td>\n",
       "      <td>616.00</td>\n",
       "      <td>2262.0</td>\n",
       "    </tr>\n",
       "    <tr>\n",
       "      <th>relativehumidity_2m (%)</th>\n",
       "      <td>26280.0</td>\n",
       "      <td>62.97</td>\n",
       "      <td>22.72</td>\n",
       "      <td>5.0</td>\n",
       "      <td>46.00</td>\n",
       "      <td>64.0</td>\n",
       "      <td>82.00</td>\n",
       "      <td>100.0</td>\n",
       "    </tr>\n",
       "    <tr>\n",
       "      <th>temperature_2m (°C)</th>\n",
       "      <td>26280.0</td>\n",
       "      <td>14.41</td>\n",
       "      <td>10.29</td>\n",
       "      <td>-14.6</td>\n",
       "      <td>6.10</td>\n",
       "      <td>14.8</td>\n",
       "      <td>22.70</td>\n",
       "      <td>41.5</td>\n",
       "    </tr>\n",
       "    <tr>\n",
       "      <th>weathercode (wmo code)</th>\n",
       "      <td>26280.0</td>\n",
       "      <td>7.23</td>\n",
       "      <td>17.63</td>\n",
       "      <td>0.0</td>\n",
       "      <td>0.00</td>\n",
       "      <td>1.0</td>\n",
       "      <td>2.00</td>\n",
       "      <td>75.0</td>\n",
       "    </tr>\n",
       "    <tr>\n",
       "      <th>windspeed_10m (km/h)</th>\n",
       "      <td>26280.0</td>\n",
       "      <td>10.17</td>\n",
       "      <td>5.26</td>\n",
       "      <td>0.0</td>\n",
       "      <td>6.50</td>\n",
       "      <td>9.2</td>\n",
       "      <td>12.90</td>\n",
       "      <td>40.1</td>\n",
       "    </tr>\n",
       "  </tbody>\n",
       "</table>\n",
       "</div>"
      ],
      "text/plain": [
       "                           count    mean     std   min    25%    50%     75%  \\\n",
       "Casual                   26269.0  159.93  167.33   0.0  28.00  105.0  237.00   \n",
       "Hour                     26280.0   11.50    6.92   0.0   5.75   11.5   17.25   \n",
       "Member                   26269.0  247.17  225.28   0.0  55.00  203.0  371.00   \n",
       "Total_rides              26269.0  407.10  373.01   1.0  85.00  319.0  616.00   \n",
       "relativehumidity_2m (%)  26280.0   62.97   22.72   5.0  46.00   64.0   82.00   \n",
       "temperature_2m (°C)      26280.0   14.41   10.29 -14.6   6.10   14.8   22.70   \n",
       "weathercode (wmo code)   26280.0    7.23   17.63   0.0   0.00    1.0    2.00   \n",
       "windspeed_10m (km/h)     26280.0   10.17    5.26   0.0   6.50    9.2   12.90   \n",
       "\n",
       "                            max  \n",
       "Casual                   1206.0  \n",
       "Hour                       23.0  \n",
       "Member                   1534.0  \n",
       "Total_rides              2262.0  \n",
       "relativehumidity_2m (%)   100.0  \n",
       "temperature_2m (°C)        41.5  \n",
       "weathercode (wmo code)     75.0  \n",
       "windspeed_10m (km/h)       40.1  "
      ]
     },
     "execution_count": 9,
     "metadata": {},
     "output_type": "execute_result"
    }
   ],
   "source": [
    "# getting the statistics of the Dataset\n",
    "hour.describe().round(2).T"
   ]
  },
  {
   "cell_type": "code",
   "execution_count": 10,
   "metadata": {},
   "outputs": [
    {
     "data": {
      "text/plain": [
       "(26280, 9)"
      ]
     },
     "execution_count": 10,
     "metadata": {},
     "output_type": "execute_result"
    }
   ],
   "source": [
    "#getting the shape of the DataFrame\n",
    "hour.shape"
   ]
  },
  {
   "cell_type": "markdown",
   "metadata": {},
   "source": [
    "## Data Wrangling"
   ]
  },
  {
   "cell_type": "markdown",
   "metadata": {},
   "source": [
    "Renaming some features"
   ]
  },
  {
   "cell_type": "code",
   "execution_count": 11,
   "metadata": {},
   "outputs": [],
   "source": [
    "## renaming some features\n",
    "hour.rename(columns={'Member': 'Registered'}, inplace=True)"
   ]
  },
  {
   "cell_type": "code",
   "execution_count": 13,
   "metadata": {},
   "outputs": [
    {
     "name": "stdout",
     "output_type": "stream",
     "text": [
      "<class 'pandas.core.frame.DataFrame'>\n",
      "RangeIndex: 26280 entries, 0 to 26279\n",
      "Data columns (total 9 columns):\n",
      " #   Column                   Non-Null Count  Dtype  \n",
      "---  ------                   --------------  -----  \n",
      " 0   Casual                   26269 non-null  float64\n",
      " 1   Date                     26280 non-null  object \n",
      " 2   Hour                     26280 non-null  int64  \n",
      " 3   Registered               26269 non-null  float64\n",
      " 4   Total_rides              26269 non-null  float64\n",
      " 5   relativehumidity_2m (%)  26280 non-null  int64  \n",
      " 6   temperature_2m (°C)      26280 non-null  float64\n",
      " 7   weathercode (wmo code)   26280 non-null  int64  \n",
      " 8   windspeed_10m (km/h)     26280 non-null  float64\n",
      "dtypes: float64(5), int64(3), object(1)\n",
      "memory usage: 1.8+ MB\n"
     ]
    }
   ],
   "source": [
    "hour.info()"
   ]
  },
  {
   "cell_type": "code",
   "execution_count": 14,
   "metadata": {},
   "outputs": [
    {
     "data": {
      "text/html": [
       "<div>\n",
       "<style scoped>\n",
       "    .dataframe tbody tr th:only-of-type {\n",
       "        vertical-align: middle;\n",
       "    }\n",
       "\n",
       "    .dataframe tbody tr th {\n",
       "        vertical-align: top;\n",
       "    }\n",
       "\n",
       "    .dataframe thead th {\n",
       "        text-align: right;\n",
       "    }\n",
       "</style>\n",
       "<table border=\"1\" class=\"dataframe\">\n",
       "  <thead>\n",
       "    <tr style=\"text-align: right;\">\n",
       "      <th></th>\n",
       "      <th>Casual</th>\n",
       "      <th>Date</th>\n",
       "      <th>Hour</th>\n",
       "      <th>Registered</th>\n",
       "      <th>Total_rides</th>\n",
       "      <th>relativehumidity_2m (%)</th>\n",
       "      <th>temperature_2m (°C)</th>\n",
       "      <th>weathercode (wmo code)</th>\n",
       "      <th>windspeed_10m (km/h)</th>\n",
       "    </tr>\n",
       "  </thead>\n",
       "  <tbody>\n",
       "    <tr>\n",
       "      <th>0</th>\n",
       "      <td>20.0</td>\n",
       "      <td>2021-01-01</td>\n",
       "      <td>0</td>\n",
       "      <td>26.0</td>\n",
       "      <td>46.0</td>\n",
       "      <td>90</td>\n",
       "      <td>2.4</td>\n",
       "      <td>1</td>\n",
       "      <td>10.2</td>\n",
       "    </tr>\n",
       "    <tr>\n",
       "      <th>1</th>\n",
       "      <td>23.0</td>\n",
       "      <td>2021-01-01</td>\n",
       "      <td>1</td>\n",
       "      <td>23.0</td>\n",
       "      <td>46.0</td>\n",
       "      <td>88</td>\n",
       "      <td>1.8</td>\n",
       "      <td>1</td>\n",
       "      <td>10.0</td>\n",
       "    </tr>\n",
       "    <tr>\n",
       "      <th>2</th>\n",
       "      <td>20.0</td>\n",
       "      <td>2021-01-01</td>\n",
       "      <td>2</td>\n",
       "      <td>28.0</td>\n",
       "      <td>48.0</td>\n",
       "      <td>87</td>\n",
       "      <td>1.1</td>\n",
       "      <td>2</td>\n",
       "      <td>10.1</td>\n",
       "    </tr>\n",
       "    <tr>\n",
       "      <th>3</th>\n",
       "      <td>9.0</td>\n",
       "      <td>2021-01-01</td>\n",
       "      <td>3</td>\n",
       "      <td>7.0</td>\n",
       "      <td>16.0</td>\n",
       "      <td>81</td>\n",
       "      <td>1.6</td>\n",
       "      <td>2</td>\n",
       "      <td>10.6</td>\n",
       "    </tr>\n",
       "    <tr>\n",
       "      <th>4</th>\n",
       "      <td>7.0</td>\n",
       "      <td>2021-01-01</td>\n",
       "      <td>4</td>\n",
       "      <td>5.0</td>\n",
       "      <td>12.0</td>\n",
       "      <td>77</td>\n",
       "      <td>1.6</td>\n",
       "      <td>2</td>\n",
       "      <td>9.9</td>\n",
       "    </tr>\n",
       "    <tr>\n",
       "      <th>5</th>\n",
       "      <td>11.0</td>\n",
       "      <td>2021-01-01</td>\n",
       "      <td>5</td>\n",
       "      <td>3.0</td>\n",
       "      <td>14.0</td>\n",
       "      <td>75</td>\n",
       "      <td>1.4</td>\n",
       "      <td>2</td>\n",
       "      <td>8.7</td>\n",
       "    </tr>\n",
       "    <tr>\n",
       "      <th>6</th>\n",
       "      <td>8.0</td>\n",
       "      <td>2021-01-01</td>\n",
       "      <td>6</td>\n",
       "      <td>18.0</td>\n",
       "      <td>26.0</td>\n",
       "      <td>72</td>\n",
       "      <td>1.4</td>\n",
       "      <td>2</td>\n",
       "      <td>8.9</td>\n",
       "    </tr>\n",
       "    <tr>\n",
       "      <th>7</th>\n",
       "      <td>10.0</td>\n",
       "      <td>2021-01-01</td>\n",
       "      <td>7</td>\n",
       "      <td>17.0</td>\n",
       "      <td>27.0</td>\n",
       "      <td>71</td>\n",
       "      <td>1.4</td>\n",
       "      <td>3</td>\n",
       "      <td>7.9</td>\n",
       "    </tr>\n",
       "    <tr>\n",
       "      <th>8</th>\n",
       "      <td>22.0</td>\n",
       "      <td>2021-01-01</td>\n",
       "      <td>8</td>\n",
       "      <td>33.0</td>\n",
       "      <td>55.0</td>\n",
       "      <td>71</td>\n",
       "      <td>1.4</td>\n",
       "      <td>3</td>\n",
       "      <td>7.1</td>\n",
       "    </tr>\n",
       "    <tr>\n",
       "      <th>9</th>\n",
       "      <td>22.0</td>\n",
       "      <td>2021-01-01</td>\n",
       "      <td>9</td>\n",
       "      <td>54.0</td>\n",
       "      <td>76.0</td>\n",
       "      <td>70</td>\n",
       "      <td>1.6</td>\n",
       "      <td>3</td>\n",
       "      <td>7.2</td>\n",
       "    </tr>\n",
       "  </tbody>\n",
       "</table>\n",
       "</div>"
      ],
      "text/plain": [
       "   Casual        Date  Hour  Registered  Total_rides  relativehumidity_2m (%)  \\\n",
       "0    20.0  2021-01-01     0        26.0         46.0                       90   \n",
       "1    23.0  2021-01-01     1        23.0         46.0                       88   \n",
       "2    20.0  2021-01-01     2        28.0         48.0                       87   \n",
       "3     9.0  2021-01-01     3         7.0         16.0                       81   \n",
       "4     7.0  2021-01-01     4         5.0         12.0                       77   \n",
       "5    11.0  2021-01-01     5         3.0         14.0                       75   \n",
       "6     8.0  2021-01-01     6        18.0         26.0                       72   \n",
       "7    10.0  2021-01-01     7        17.0         27.0                       71   \n",
       "8    22.0  2021-01-01     8        33.0         55.0                       71   \n",
       "9    22.0  2021-01-01     9        54.0         76.0                       70   \n",
       "\n",
       "   temperature_2m (°C)  weathercode (wmo code)  windspeed_10m (km/h)  \n",
       "0                  2.4                       1                  10.2  \n",
       "1                  1.8                       1                  10.0  \n",
       "2                  1.1                       2                  10.1  \n",
       "3                  1.6                       2                  10.6  \n",
       "4                  1.6                       2                   9.9  \n",
       "5                  1.4                       2                   8.7  \n",
       "6                  1.4                       2                   8.9  \n",
       "7                  1.4                       3                   7.9  \n",
       "8                  1.4                       3                   7.1  \n",
       "9                  1.6                       3                   7.2  "
      ]
     },
     "execution_count": 14,
     "metadata": {},
     "output_type": "execute_result"
    }
   ],
   "source": [
    "hour.head(10)"
   ]
  },
  {
   "cell_type": "markdown",
   "metadata": {},
   "source": [
    "### Checking for Missing values"
   ]
  },
  {
   "cell_type": "code",
   "execution_count": 15,
   "metadata": {},
   "outputs": [
    {
     "data": {
      "text/plain": [
       "Casual                     11\n",
       "Date                        0\n",
       "Hour                        0\n",
       "Registered                 11\n",
       "Total_rides                11\n",
       "relativehumidity_2m (%)     0\n",
       "temperature_2m (°C)         0\n",
       "weathercode (wmo code)      0\n",
       "windspeed_10m (km/h)        0\n",
       "dtype: int64"
      ]
     },
     "execution_count": 15,
     "metadata": {},
     "output_type": "execute_result"
    }
   ],
   "source": [
    "## checking for missing values in Data Set\n",
    "hour.isnull().sum()\n",
    "## Missing values for casual, member,total_rides are 11,11,11 respectively"
   ]
  },
  {
   "cell_type": "markdown",
   "metadata": {},
   "source": [
    "Dropping of missing values"
   ]
  },
  {
   "cell_type": "code",
   "execution_count": 16,
   "metadata": {},
   "outputs": [],
   "source": [
    "#dropping missing values\n",
    "hour.dropna(inplace=True)"
   ]
  },
  {
   "cell_type": "code",
   "execution_count": 17,
   "metadata": {},
   "outputs": [
    {
     "name": "stdout",
     "output_type": "stream",
     "text": [
      "<class 'pandas.core.frame.DataFrame'>\n",
      "RangeIndex: 26269 entries, 0 to 26268\n",
      "Data columns (total 9 columns):\n",
      " #   Column                   Non-Null Count  Dtype  \n",
      "---  ------                   --------------  -----  \n",
      " 0   Casual                   26269 non-null  float64\n",
      " 1   Date                     26269 non-null  object \n",
      " 2   Hour                     26269 non-null  int64  \n",
      " 3   Registered               26269 non-null  float64\n",
      " 4   Total_rides              26269 non-null  float64\n",
      " 5   relativehumidity_2m (%)  26269 non-null  int64  \n",
      " 6   temperature_2m (°C)      26269 non-null  float64\n",
      " 7   weathercode (wmo code)   26269 non-null  int64  \n",
      " 8   windspeed_10m (km/h)     26269 non-null  float64\n",
      "dtypes: float64(5), int64(3), object(1)\n",
      "memory usage: 1.8+ MB\n",
      "None\n"
     ]
    }
   ],
   "source": [
    "#resetting index of the Data Frame\n",
    "hourly=hour.reset_index(drop=True)\n",
    "# get the info of the Data Frame\n",
    "print(hourly.info())"
   ]
  },
  {
   "cell_type": "markdown",
   "metadata": {},
   "source": [
    "converting some columns to integer"
   ]
  },
  {
   "cell_type": "code",
   "execution_count": 18,
   "metadata": {},
   "outputs": [],
   "source": [
    "# convert some features to correct Data type \n",
    "hour['Casual'] = hour['Casual'].astype(int)\n",
    "hour['Registered'] = hour['Registered'].astype(int)\n",
    "hour['Total_rides'] = hour['Total_rides'].astype(int)"
   ]
  },
  {
   "cell_type": "markdown",
   "metadata": {},
   "source": []
  },
  {
   "cell_type": "markdown",
   "metadata": {},
   "source": [
    "## Creating of new columns"
   ]
  },
  {
   "cell_type": "code",
   "execution_count": 19,
   "metadata": {},
   "outputs": [],
   "source": [
    "#Season\n",
    "# Function to get season\n",
    "def get_season(month):\n",
    "    if month in [12, 1, 2]:\n",
    "        return \"Winter\"\n",
    "    elif month in [3, 4, 5]:\n",
    "        return \"Spring\"\n",
    "    elif month in [6, 7, 8]:\n",
    "        return \"Summer\"\n",
    "    elif month in [9, 10, 11]:\n",
    "        return \"Fall\"\n",
    "\n",
    "# Function to categorize season based on date\n",
    "def categorize_season(date):\n",
    "    dt = datetime.strptime(date, \"%Y-%m-%d\")\n",
    "    month = dt.month\n",
    "    return get_season(month)\n",
    "\n",
    "# Apply function to create a new column\n",
    "hourly['Season'] = hourly['Date'].apply(categorize_season)\n",
    "\n"
   ]
  },
  {
   "cell_type": "code",
   "execution_count": 20,
   "metadata": {},
   "outputs": [],
   "source": [
    "##WEEKDAY\n",
    "# Function to get weekday\n",
    "def get_weekday(day):\n",
    "    weekdays = [\"Mon.\", \"Tue.\", \"Wed.\", \"Thur.\", \"Fri.\", \"Sat.\", \"Sun.\"]\n",
    "    return weekdays[day]\n",
    "\n",
    "# Function to categorize weekday based on date\n",
    "def categorize_week(date):\n",
    "    dt = datetime.strptime(date, \"%Y-%m-%d\")\n",
    "    weekday = dt.weekday()  # 0 for Monday, 1 for Tuesday, ..., 6 for Sunday\n",
    "    return get_weekday(weekday)\n",
    "\n",
    "# Apply function to create a new column\n",
    "hourly['Weekday'] = hourly['Date'].apply(categorize_week)"
   ]
  },
  {
   "cell_type": "code",
   "execution_count": 21,
   "metadata": {},
   "outputs": [],
   "source": [
    "#Month\n",
    "# Function to get month\n",
    "def get_month(month):\n",
    "    months = [\"Jan.\", \"Feb.\", \"Mar.\", \"Apr.\", \"May\", \"Jun.\", \"Jul.\", \"Aug.\", \"Sep.\", \"Oct.\", \"Nov.\", \"Dec.\"]\n",
    "    return months[month - 1]\n",
    "\n",
    "# Function to categorize month based on date\n",
    "def categorize_month(date):\n",
    "    dt = datetime.strptime(date, \"%Y-%m-%d\")\n",
    "    month = dt.month\n",
    "    return get_month(month)\n",
    "\n",
    "# Apply function to create a new column\n",
    "hourly['Month'] = hourly['Date'].apply(categorize_month)"
   ]
  },
  {
   "cell_type": "code",
   "execution_count": 22,
   "metadata": {},
   "outputs": [],
   "source": [
    "## Minutes\n",
    "# Function to convert hours to minutes\n",
    "def hours_to_minutes(hour):\n",
    "    return hour * 60\n",
    "\n",
    "# Apply function to create a new column 'Minutes'\n",
    "hourly['Minutes'] = hourly['Hour'].apply(hours_to_minutes)\n"
   ]
  },
  {
   "cell_type": "code",
   "execution_count": 23,
   "metadata": {},
   "outputs": [
    {
     "data": {
      "text/html": [
       "<div>\n",
       "<style scoped>\n",
       "    .dataframe tbody tr th:only-of-type {\n",
       "        vertical-align: middle;\n",
       "    }\n",
       "\n",
       "    .dataframe tbody tr th {\n",
       "        vertical-align: top;\n",
       "    }\n",
       "\n",
       "    .dataframe thead th {\n",
       "        text-align: right;\n",
       "    }\n",
       "</style>\n",
       "<table border=\"1\" class=\"dataframe\">\n",
       "  <thead>\n",
       "    <tr style=\"text-align: right;\">\n",
       "      <th></th>\n",
       "      <th>Casual</th>\n",
       "      <th>Date</th>\n",
       "      <th>Hour</th>\n",
       "      <th>Registered</th>\n",
       "      <th>Total_rides</th>\n",
       "      <th>relativehumidity_2m (%)</th>\n",
       "      <th>temperature_2m (°C)</th>\n",
       "      <th>weathercode (wmo code)</th>\n",
       "      <th>windspeed_10m (km/h)</th>\n",
       "      <th>Season</th>\n",
       "      <th>Weekday</th>\n",
       "      <th>Month</th>\n",
       "      <th>Minutes</th>\n",
       "    </tr>\n",
       "  </thead>\n",
       "  <tbody>\n",
       "    <tr>\n",
       "      <th>0</th>\n",
       "      <td>20.0</td>\n",
       "      <td>2021-01-01</td>\n",
       "      <td>0</td>\n",
       "      <td>26.0</td>\n",
       "      <td>46.0</td>\n",
       "      <td>90</td>\n",
       "      <td>2.4</td>\n",
       "      <td>1</td>\n",
       "      <td>10.2</td>\n",
       "      <td>Winter</td>\n",
       "      <td>Fri.</td>\n",
       "      <td>Jan.</td>\n",
       "      <td>0</td>\n",
       "    </tr>\n",
       "    <tr>\n",
       "      <th>1</th>\n",
       "      <td>23.0</td>\n",
       "      <td>2021-01-01</td>\n",
       "      <td>1</td>\n",
       "      <td>23.0</td>\n",
       "      <td>46.0</td>\n",
       "      <td>88</td>\n",
       "      <td>1.8</td>\n",
       "      <td>1</td>\n",
       "      <td>10.0</td>\n",
       "      <td>Winter</td>\n",
       "      <td>Fri.</td>\n",
       "      <td>Jan.</td>\n",
       "      <td>60</td>\n",
       "    </tr>\n",
       "    <tr>\n",
       "      <th>2</th>\n",
       "      <td>20.0</td>\n",
       "      <td>2021-01-01</td>\n",
       "      <td>2</td>\n",
       "      <td>28.0</td>\n",
       "      <td>48.0</td>\n",
       "      <td>87</td>\n",
       "      <td>1.1</td>\n",
       "      <td>2</td>\n",
       "      <td>10.1</td>\n",
       "      <td>Winter</td>\n",
       "      <td>Fri.</td>\n",
       "      <td>Jan.</td>\n",
       "      <td>120</td>\n",
       "    </tr>\n",
       "    <tr>\n",
       "      <th>3</th>\n",
       "      <td>9.0</td>\n",
       "      <td>2021-01-01</td>\n",
       "      <td>3</td>\n",
       "      <td>7.0</td>\n",
       "      <td>16.0</td>\n",
       "      <td>81</td>\n",
       "      <td>1.6</td>\n",
       "      <td>2</td>\n",
       "      <td>10.6</td>\n",
       "      <td>Winter</td>\n",
       "      <td>Fri.</td>\n",
       "      <td>Jan.</td>\n",
       "      <td>180</td>\n",
       "    </tr>\n",
       "    <tr>\n",
       "      <th>4</th>\n",
       "      <td>7.0</td>\n",
       "      <td>2021-01-01</td>\n",
       "      <td>4</td>\n",
       "      <td>5.0</td>\n",
       "      <td>12.0</td>\n",
       "      <td>77</td>\n",
       "      <td>1.6</td>\n",
       "      <td>2</td>\n",
       "      <td>9.9</td>\n",
       "      <td>Winter</td>\n",
       "      <td>Fri.</td>\n",
       "      <td>Jan.</td>\n",
       "      <td>240</td>\n",
       "    </tr>\n",
       "  </tbody>\n",
       "</table>\n",
       "</div>"
      ],
      "text/plain": [
       "   Casual        Date  Hour  Registered  Total_rides  relativehumidity_2m (%)  \\\n",
       "0    20.0  2021-01-01     0        26.0         46.0                       90   \n",
       "1    23.0  2021-01-01     1        23.0         46.0                       88   \n",
       "2    20.0  2021-01-01     2        28.0         48.0                       87   \n",
       "3     9.0  2021-01-01     3         7.0         16.0                       81   \n",
       "4     7.0  2021-01-01     4         5.0         12.0                       77   \n",
       "\n",
       "   temperature_2m (°C)  weathercode (wmo code)  windspeed_10m (km/h)  Season  \\\n",
       "0                  2.4                       1                  10.2  Winter   \n",
       "1                  1.8                       1                  10.0  Winter   \n",
       "2                  1.1                       2                  10.1  Winter   \n",
       "3                  1.6                       2                  10.6  Winter   \n",
       "4                  1.6                       2                   9.9  Winter   \n",
       "\n",
       "  Weekday Month  Minutes  \n",
       "0    Fri.  Jan.        0  \n",
       "1    Fri.  Jan.       60  \n",
       "2    Fri.  Jan.      120  \n",
       "3    Fri.  Jan.      180  \n",
       "4    Fri.  Jan.      240  "
      ]
     },
     "execution_count": 23,
     "metadata": {},
     "output_type": "execute_result"
    }
   ],
   "source": [
    "hourly.head()"
   ]
  },
  {
   "cell_type": "code",
   "execution_count": 24,
   "metadata": {},
   "outputs": [
    {
     "name": "stdout",
     "output_type": "stream",
     "text": [
      "<class 'pandas.core.frame.DataFrame'>\n",
      "RangeIndex: 26269 entries, 0 to 26268\n",
      "Data columns (total 13 columns):\n",
      " #   Column                   Non-Null Count  Dtype  \n",
      "---  ------                   --------------  -----  \n",
      " 0   Casual                   26269 non-null  float64\n",
      " 1   Date                     26269 non-null  object \n",
      " 2   Hour                     26269 non-null  int64  \n",
      " 3   Registered               26269 non-null  float64\n",
      " 4   Total_rides              26269 non-null  float64\n",
      " 5   relativehumidity_2m (%)  26269 non-null  int64  \n",
      " 6   temperature_2m (°C)      26269 non-null  float64\n",
      " 7   weathercode (wmo code)   26269 non-null  int64  \n",
      " 8   windspeed_10m (km/h)     26269 non-null  float64\n",
      " 9   Season                   26269 non-null  object \n",
      " 10  Weekday                  26269 non-null  object \n",
      " 11  Month                    26269 non-null  object \n",
      " 12  Minutes                  26269 non-null  int64  \n",
      "dtypes: float64(5), int64(4), object(4)\n",
      "memory usage: 2.6+ MB\n"
     ]
    }
   ],
   "source": [
    "hourly.info()"
   ]
  },
  {
   "cell_type": "markdown",
   "metadata": {},
   "source": [
    "2021 Data Frame"
   ]
  },
  {
   "cell_type": "code",
   "execution_count": 25,
   "metadata": {},
   "outputs": [],
   "source": [
    "# Convert 'Date' column to datetime type\n",
    "hourly['Date'] = pd.to_datetime(hourly['Date'])\n",
    "\n",
    "# Filter the DataFrame for rows where the year is 2021\n",
    "hourly_2021 = hourly[hourly['Date'].dt.year == 2021]\n"
   ]
  },
  {
   "cell_type": "code",
   "execution_count": 26,
   "metadata": {},
   "outputs": [
    {
     "data": {
      "text/plain": [
       "(8752, 13)"
      ]
     },
     "execution_count": 26,
     "metadata": {},
     "output_type": "execute_result"
    }
   ],
   "source": [
    "hourly_2021.shape"
   ]
  },
  {
   "cell_type": "code",
   "execution_count": 27,
   "metadata": {},
   "outputs": [
    {
     "name": "stderr",
     "output_type": "stream",
     "text": [
      "C:\\Users\\godwi\\AppData\\Local\\Temp\\ipykernel_656\\2109429784.py:4: SettingWithCopyWarning: \n",
      "A value is trying to be set on a copy of a slice from a DataFrame\n",
      "\n",
      "See the caveats in the documentation: https://pandas.pydata.org/pandas-docs/stable/user_guide/indexing.html#returning-a-view-versus-a-copy\n",
      "  hourly_2021.drop([\"index\"],axis=1, inplace=True)\n"
     ]
    }
   ],
   "source": [
    "# resetting index\n",
    "hourly_2021.reset_index(inplace=True)\n",
    "#dropping the index column\n",
    "hourly_2021.drop([\"index\"],axis=1, inplace=True)"
   ]
  },
  {
   "cell_type": "markdown",
   "metadata": {},
   "source": [
    "2022 Data Frame"
   ]
  },
  {
   "cell_type": "code",
   "execution_count": 28,
   "metadata": {},
   "outputs": [],
   "source": [
    "# Convert 'Date' column to datetime type\n",
    "hourly['Date'] = pd.to_datetime(hourly['Date'])\n",
    "# Filter the DataFrame for rows where the year is 2021\n",
    "hourly_2022 = hourly[hourly['Date'].dt.year == 2022]\n"
   ]
  },
  {
   "cell_type": "code",
   "execution_count": 29,
   "metadata": {},
   "outputs": [
    {
     "data": {
      "text/plain": [
       "(8758, 13)"
      ]
     },
     "execution_count": 29,
     "metadata": {},
     "output_type": "execute_result"
    }
   ],
   "source": [
    "hourly_2022.shape"
   ]
  },
  {
   "cell_type": "code",
   "execution_count": 30,
   "metadata": {},
   "outputs": [
    {
     "name": "stderr",
     "output_type": "stream",
     "text": [
      "C:\\Users\\godwi\\AppData\\Local\\Temp\\ipykernel_656\\3099469902.py:4: SettingWithCopyWarning: \n",
      "A value is trying to be set on a copy of a slice from a DataFrame\n",
      "\n",
      "See the caveats in the documentation: https://pandas.pydata.org/pandas-docs/stable/user_guide/indexing.html#returning-a-view-versus-a-copy\n",
      "  hourly_2022.drop([\"index\"],axis=1, inplace=True)\n"
     ]
    }
   ],
   "source": [
    "# resetting index\n",
    "hourly_2022.reset_index(inplace=True)\n",
    "#dropping the index column\n",
    "hourly_2022.drop([\"index\"],axis=1, inplace=True)\n"
   ]
  },
  {
   "cell_type": "markdown",
   "metadata": {},
   "source": [
    "2023 Data Frame"
   ]
  },
  {
   "cell_type": "code",
   "execution_count": 31,
   "metadata": {},
   "outputs": [],
   "source": [
    "# Convert 'Date' column to datetime type\n",
    "hourly['Date'] = pd.to_datetime(hourly['Date'])\n",
    "\n",
    "# Filter the DataFrame for rows where the year is 2021\n",
    "hourly_2023 = hourly[hourly['Date'].dt.year == 2023]\n"
   ]
  },
  {
   "cell_type": "code",
   "execution_count": 32,
   "metadata": {},
   "outputs": [
    {
     "data": {
      "text/plain": [
       "(8759, 13)"
      ]
     },
     "execution_count": 32,
     "metadata": {},
     "output_type": "execute_result"
    }
   ],
   "source": [
    "hourly_2023.shape"
   ]
  },
  {
   "cell_type": "code",
   "execution_count": 33,
   "metadata": {},
   "outputs": [
    {
     "name": "stderr",
     "output_type": "stream",
     "text": [
      "C:\\Users\\godwi\\AppData\\Local\\Temp\\ipykernel_656\\2019195505.py:4: SettingWithCopyWarning: \n",
      "A value is trying to be set on a copy of a slice from a DataFrame\n",
      "\n",
      "See the caveats in the documentation: https://pandas.pydata.org/pandas-docs/stable/user_guide/indexing.html#returning-a-view-versus-a-copy\n",
      "  hourly_2023.drop([\"index\"],axis=1, inplace=True)\n"
     ]
    }
   ],
   "source": [
    "# resetting index\n",
    "hourly_2023.reset_index(inplace=True)\n",
    "# dropping the index column\n",
    "hourly_2023.drop([\"index\"],axis=1, inplace=True)\n"
   ]
  },
  {
   "cell_type": "code",
   "execution_count": 34,
   "metadata": {},
   "outputs": [
    {
     "data": {
      "text/html": [
       "<div>\n",
       "<style scoped>\n",
       "    .dataframe tbody tr th:only-of-type {\n",
       "        vertical-align: middle;\n",
       "    }\n",
       "\n",
       "    .dataframe tbody tr th {\n",
       "        vertical-align: top;\n",
       "    }\n",
       "\n",
       "    .dataframe thead th {\n",
       "        text-align: right;\n",
       "    }\n",
       "</style>\n",
       "<table border=\"1\" class=\"dataframe\">\n",
       "  <thead>\n",
       "    <tr style=\"text-align: right;\">\n",
       "      <th></th>\n",
       "      <th>Casual</th>\n",
       "      <th>Date</th>\n",
       "      <th>Hour</th>\n",
       "      <th>Registered</th>\n",
       "      <th>Total_rides</th>\n",
       "      <th>relativehumidity_2m (%)</th>\n",
       "      <th>temperature_2m (°C)</th>\n",
       "      <th>weathercode (wmo code)</th>\n",
       "      <th>windspeed_10m (km/h)</th>\n",
       "      <th>Season</th>\n",
       "      <th>Weekday</th>\n",
       "      <th>Month</th>\n",
       "      <th>Minutes</th>\n",
       "    </tr>\n",
       "  </thead>\n",
       "  <tbody>\n",
       "    <tr>\n",
       "      <th>8754</th>\n",
       "      <td>132.0</td>\n",
       "      <td>2023-12-31</td>\n",
       "      <td>19</td>\n",
       "      <td>190.0</td>\n",
       "      <td>322.0</td>\n",
       "      <td>71</td>\n",
       "      <td>-7.7</td>\n",
       "      <td>0</td>\n",
       "      <td>3.3</td>\n",
       "      <td>Winter</td>\n",
       "      <td>Sun.</td>\n",
       "      <td>Dec.</td>\n",
       "      <td>1140</td>\n",
       "    </tr>\n",
       "    <tr>\n",
       "      <th>8755</th>\n",
       "      <td>125.0</td>\n",
       "      <td>2023-12-31</td>\n",
       "      <td>20</td>\n",
       "      <td>194.0</td>\n",
       "      <td>319.0</td>\n",
       "      <td>79</td>\n",
       "      <td>-10.2</td>\n",
       "      <td>0</td>\n",
       "      <td>6.7</td>\n",
       "      <td>Winter</td>\n",
       "      <td>Sun.</td>\n",
       "      <td>Dec.</td>\n",
       "      <td>1200</td>\n",
       "    </tr>\n",
       "    <tr>\n",
       "      <th>8756</th>\n",
       "      <td>84.0</td>\n",
       "      <td>2023-12-31</td>\n",
       "      <td>21</td>\n",
       "      <td>137.0</td>\n",
       "      <td>221.0</td>\n",
       "      <td>80</td>\n",
       "      <td>-11.0</td>\n",
       "      <td>0</td>\n",
       "      <td>10.0</td>\n",
       "      <td>Winter</td>\n",
       "      <td>Sun.</td>\n",
       "      <td>Dec.</td>\n",
       "      <td>1260</td>\n",
       "    </tr>\n",
       "    <tr>\n",
       "      <th>8757</th>\n",
       "      <td>83.0</td>\n",
       "      <td>2023-12-31</td>\n",
       "      <td>22</td>\n",
       "      <td>142.0</td>\n",
       "      <td>225.0</td>\n",
       "      <td>80</td>\n",
       "      <td>-10.4</td>\n",
       "      <td>0</td>\n",
       "      <td>8.7</td>\n",
       "      <td>Winter</td>\n",
       "      <td>Sun.</td>\n",
       "      <td>Dec.</td>\n",
       "      <td>1320</td>\n",
       "    </tr>\n",
       "    <tr>\n",
       "      <th>8758</th>\n",
       "      <td>82.0</td>\n",
       "      <td>2023-12-31</td>\n",
       "      <td>23</td>\n",
       "      <td>106.0</td>\n",
       "      <td>188.0</td>\n",
       "      <td>73</td>\n",
       "      <td>-8.5</td>\n",
       "      <td>0</td>\n",
       "      <td>3.7</td>\n",
       "      <td>Winter</td>\n",
       "      <td>Sun.</td>\n",
       "      <td>Dec.</td>\n",
       "      <td>1380</td>\n",
       "    </tr>\n",
       "  </tbody>\n",
       "</table>\n",
       "</div>"
      ],
      "text/plain": [
       "      Casual       Date  Hour  Registered  Total_rides  \\\n",
       "8754   132.0 2023-12-31    19       190.0        322.0   \n",
       "8755   125.0 2023-12-31    20       194.0        319.0   \n",
       "8756    84.0 2023-12-31    21       137.0        221.0   \n",
       "8757    83.0 2023-12-31    22       142.0        225.0   \n",
       "8758    82.0 2023-12-31    23       106.0        188.0   \n",
       "\n",
       "      relativehumidity_2m (%)  temperature_2m (°C)  weathercode (wmo code)  \\\n",
       "8754                       71                 -7.7                       0   \n",
       "8755                       79                -10.2                       0   \n",
       "8756                       80                -11.0                       0   \n",
       "8757                       80                -10.4                       0   \n",
       "8758                       73                 -8.5                       0   \n",
       "\n",
       "      windspeed_10m (km/h)  Season Weekday Month  Minutes  \n",
       "8754                   3.3  Winter    Sun.  Dec.     1140  \n",
       "8755                   6.7  Winter    Sun.  Dec.     1200  \n",
       "8756                  10.0  Winter    Sun.  Dec.     1260  \n",
       "8757                   8.7  Winter    Sun.  Dec.     1320  \n",
       "8758                   3.7  Winter    Sun.  Dec.     1380  "
      ]
     },
     "execution_count": 34,
     "metadata": {},
     "output_type": "execute_result"
    }
   ],
   "source": [
    "hourly_2023.tail()"
   ]
  },
  {
   "cell_type": "markdown",
   "metadata": {},
   "source": [
    "## Exploratory Data Analysis"
   ]
  },
  {
   "cell_type": "markdown",
   "metadata": {},
   "source": [
    "Some Hypotheses formulation"
   ]
  },
  {
   "cell_type": "code",
   "execution_count": 35,
   "metadata": {},
   "outputs": [
    {
     "data": {
      "text/plain": [
       "'\"\"\\nHourly trend: most of the businesses have rush hours and weak hours. It should not be an exception for bike rentals as well.\\n\\nDaily Trend: weekdays vs weekends and registered users vs casual users.\\n\\nRelative humdity: the demand for bikes might be changed on a rainy day as compared to a sunny day. Similarly, people prefer to go out on less humid days.\\n\\nTemperature: in warm countries, temperature generally keeps people inside.\\n\\nBusiness model: businesses often rely on customers who are members more than casual users. There might be some interesting insights that can strengthen this assumption.\\n'"
      ]
     },
     "execution_count": 35,
     "metadata": {},
     "output_type": "execute_result"
    }
   ],
   "source": [
    "\"\"\"\"\"\n",
    "Hourly trend: most of the businesses have rush hours and weak hours. It should not be an exception for bike rentals as well.\n",
    "\n",
    "Daily Trend: weekdays vs weekends and registered users vs casual users.\n",
    "\n",
    "Relative humdity: the demand for bikes might be changed on a rainy day as compared to a sunny day. Similarly, people prefer to go out on less humid days.\n",
    "\n",
    "Temperature: in warm countries, temperature generally keeps people inside.\n",
    "\n",
    "Business model: businesses often rely on customers who are members more than casual users. There might be some interesting insights that can strengthen this assumption.\n",
    "\"\"\""
   ]
  },
  {
   "cell_type": "markdown",
   "metadata": {},
   "source": [
    "Temporal Analysis"
   ]
  },
  {
   "cell_type": "code",
   "execution_count": 59,
   "metadata": {},
   "outputs": [
    {
     "data": {
      "text/plain": [
       "Text(0.5, 1.0, 'Monthly Distribution of Bike Total Rides 2023')"
      ]
     },
     "execution_count": 59,
     "metadata": {},
     "output_type": "execute_result"
    },
    {
     "data": {
      "image/png": "[encoded data removed]",
      "text/plain": [
       "<Figure size 800x600 with 1 Axes>"
      ]
     },
     "metadata": {},
     "output_type": "display_data"
    }
   ],
   "source": [
    "#Explore ride counts over time (daily, hourly, monthly) using line plots or bar plots.\n",
    "## Month\n",
    "plt.figure(figsize=(8, 6))\n",
    "sns.lineplot(x=\"Month\", y=\"Total_rides\",\n",
    "          \n",
    "             data=hourly_2023)\n",
    "plt.title(\"Monthly Distribution of Bike Total Rides 2023\")"
   ]
  },
  {
   "cell_type": "code",
   "execution_count": 57,
   "metadata": {},
   "outputs": [
    {
     "data": {
      "text/plain": [
       "Text(0.5, 1.0, 'Daily Distribution of Bike Total Rides 2023')"
      ]
     },
     "execution_count": 57,
     "metadata": {},
     "output_type": "execute_result"
    },
    {
     "data": {
      "image/png": "[encoded data removed]",
      "text/plain": [
       "<Figure size 600x600 with 1 Axes>"
      ]
     },
     "metadata": {},
     "output_type": "display_data"
    }
   ],
   "source": [
    "plt.figure(figsize=(6, 6))\n",
    "sns.barplot(x=\"Weekday\", y=\"Total_rides\",\n",
    "          \n",
    "             data=hourly_2023)\n",
    "plt.title(\"Daily Distribution of Bike Total Rides 2023\")"
   ]
  },
  {
   "cell_type": "code",
   "execution_count": null,
   "metadata": {},
   "outputs": [],
   "source": []
  },
  {
   "cell_type": "code",
   "execution_count": 61,
   "metadata": {},
   "outputs": [
    {
     "data": {
      "text/plain": [
       "Text(0.5, 1.0, 'Season wise Hourly Distribution of Bike Total Rides 2023')"
      ]
     },
     "execution_count": 61,
     "metadata": {},
     "output_type": "execute_result"
    },
    {
     "data": {
      "image/png": "[encoded data removed]",
      "text/plain": [
       "<Figure size 600x600 with 1 Axes>"
      ]
     },
     "metadata": {},
     "output_type": "display_data"
    }
   ],
   "source": [
    "\n",
    "#sns.set_theme(style=\"darkgrid\")\n",
    "\n",
    "# Load an example dataset with long-form data\n",
    "\n",
    "\n",
    "plt.figure(figsize=(6, 6))\n",
    "sns.lineplot(x=\"Hour\", y=\"Total_rides\",\n",
    "             hue=\"Season\",\n",
    "             data=hourly_2023)\n",
    "plt.title(\"Season wise Hourly Distribution of Bike Total Rides 2023\")"
   ]
  },
  {
   "cell_type": "code",
   "execution_count": 39,
   "metadata": {},
   "outputs": [
    {
     "data": {
      "text/plain": [
       "Text(0.5, 1.0, '2021 Minutes Ride Count')"
      ]
     },
     "execution_count": 39,
     "metadata": {},
     "output_type": "execute_result"
    },
    {
     "data": {
      "image/png": "[encoded data removed]",
      "text/plain": [
       "<Figure size 1500x600 with 1 Axes>"
      ]
     },
     "metadata": {},
     "output_type": "display_data"
    }
   ],
   "source": [
    "plt.figure(figsize=(15, 6))\n",
    "sns.barplot(x=\"Minutes\", y=\"Total_rides\",\n",
    "      \n",
    "             data=hourly_2023)\n",
    "plt.title(\"2021 Minutes Ride Count\")"
   ]
  },
  {
   "cell_type": "code",
   "execution_count": 64,
   "metadata": {},
   "outputs": [],
   "source": [
    "#Categorical Variables:\n",
    "\n",
    "#Explore distribution of rides by categorical variables such as season, weather conditions, holidays, etc. using bar plots or count plots.\n",
    "\n",
    "\n"
   ]
  },
  {
   "cell_type": "code",
   "execution_count": 40,
   "metadata": {},
   "outputs": [],
   "source": [
    "season_analysis_2023=hourly_2023.iloc[:,[9,0,3,4]]"
   ]
  },
  {
   "cell_type": "code",
   "execution_count": 41,
   "metadata": {},
   "outputs": [
    {
     "data": {
      "text/html": [
       "<div>\n",
       "<style scoped>\n",
       "    .dataframe tbody tr th:only-of-type {\n",
       "        vertical-align: middle;\n",
       "    }\n",
       "\n",
       "    .dataframe tbody tr th {\n",
       "        vertical-align: top;\n",
       "    }\n",
       "\n",
       "    .dataframe thead th {\n",
       "        text-align: right;\n",
       "    }\n",
       "</style>\n",
       "<table border=\"1\" class=\"dataframe\">\n",
       "  <thead>\n",
       "    <tr style=\"text-align: right;\">\n",
       "      <th></th>\n",
       "      <th>Season</th>\n",
       "      <th>Casual</th>\n",
       "      <th>Registered</th>\n",
       "      <th>Total_rides</th>\n",
       "    </tr>\n",
       "  </thead>\n",
       "  <tbody>\n",
       "    <tr>\n",
       "      <th>0</th>\n",
       "      <td>Winter</td>\n",
       "      <td>57.0</td>\n",
       "      <td>77.0</td>\n",
       "      <td>134.0</td>\n",
       "    </tr>\n",
       "    <tr>\n",
       "      <th>1</th>\n",
       "      <td>Winter</td>\n",
       "      <td>96.0</td>\n",
       "      <td>100.0</td>\n",
       "      <td>196.0</td>\n",
       "    </tr>\n",
       "    <tr>\n",
       "      <th>2</th>\n",
       "      <td>Winter</td>\n",
       "      <td>107.0</td>\n",
       "      <td>74.0</td>\n",
       "      <td>181.0</td>\n",
       "    </tr>\n",
       "    <tr>\n",
       "      <th>3</th>\n",
       "      <td>Winter</td>\n",
       "      <td>46.0</td>\n",
       "      <td>34.0</td>\n",
       "      <td>80.0</td>\n",
       "    </tr>\n",
       "    <tr>\n",
       "      <th>4</th>\n",
       "      <td>Winter</td>\n",
       "      <td>11.0</td>\n",
       "      <td>15.0</td>\n",
       "      <td>26.0</td>\n",
       "    </tr>\n",
       "    <tr>\n",
       "      <th>...</th>\n",
       "      <td>...</td>\n",
       "      <td>...</td>\n",
       "      <td>...</td>\n",
       "      <td>...</td>\n",
       "    </tr>\n",
       "    <tr>\n",
       "      <th>8754</th>\n",
       "      <td>Winter</td>\n",
       "      <td>132.0</td>\n",
       "      <td>190.0</td>\n",
       "      <td>322.0</td>\n",
       "    </tr>\n",
       "    <tr>\n",
       "      <th>8755</th>\n",
       "      <td>Winter</td>\n",
       "      <td>125.0</td>\n",
       "      <td>194.0</td>\n",
       "      <td>319.0</td>\n",
       "    </tr>\n",
       "    <tr>\n",
       "      <th>8756</th>\n",
       "      <td>Winter</td>\n",
       "      <td>84.0</td>\n",
       "      <td>137.0</td>\n",
       "      <td>221.0</td>\n",
       "    </tr>\n",
       "    <tr>\n",
       "      <th>8757</th>\n",
       "      <td>Winter</td>\n",
       "      <td>83.0</td>\n",
       "      <td>142.0</td>\n",
       "      <td>225.0</td>\n",
       "    </tr>\n",
       "    <tr>\n",
       "      <th>8758</th>\n",
       "      <td>Winter</td>\n",
       "      <td>82.0</td>\n",
       "      <td>106.0</td>\n",
       "      <td>188.0</td>\n",
       "    </tr>\n",
       "  </tbody>\n",
       "</table>\n",
       "<p>8759 rows × 4 columns</p>\n",
       "</div>"
      ],
      "text/plain": [
       "      Season  Casual  Registered  Total_rides\n",
       "0     Winter    57.0        77.0        134.0\n",
       "1     Winter    96.0       100.0        196.0\n",
       "2     Winter   107.0        74.0        181.0\n",
       "3     Winter    46.0        34.0         80.0\n",
       "4     Winter    11.0        15.0         26.0\n",
       "...      ...     ...         ...          ...\n",
       "8754  Winter   132.0       190.0        322.0\n",
       "8755  Winter   125.0       194.0        319.0\n",
       "8756  Winter    84.0       137.0        221.0\n",
       "8757  Winter    83.0       142.0        225.0\n",
       "8758  Winter    82.0       106.0        188.0\n",
       "\n",
       "[8759 rows x 4 columns]"
      ]
     },
     "execution_count": 41,
     "metadata": {},
     "output_type": "execute_result"
    }
   ],
   "source": [
    "season_analysis_2023_copy= season_analysis_2023.copy()\n",
    "season_analysis_2023"
   ]
  },
  {
   "cell_type": "code",
   "execution_count": 42,
   "metadata": {},
   "outputs": [],
   "source": [
    "season_analysis_result=season_analysis_2023.groupby(\"Season\").sum()"
   ]
  },
  {
   "cell_type": "code",
   "execution_count": 43,
   "metadata": {},
   "outputs": [
    {
     "data": {
      "text/plain": [
       "Text(0.5, 1.0, 'Season Analysis 2023')"
      ]
     },
     "execution_count": 43,
     "metadata": {},
     "output_type": "execute_result"
    },
    {
     "data": {
      "image/png": "[encoded data removed]",
      "text/plain": [
       "<Figure size 640x480 with 1 Axes>"
      ]
     },
     "metadata": {},
     "output_type": "display_data"
    }
   ],
   "source": [
    "#sns.barplot(data=season_analysis_result)\n",
    "season_analysis_result.plot.bar()\n",
    "plt.title(\"Season Analysis 2023\")"
   ]
  },
  {
   "cell_type": "code",
   "execution_count": 44,
   "metadata": {},
   "outputs": [],
   "source": [
    "season_analysis_2023_copy.drop([\"Total_rides\"], axis=1, inplace=True)\n",
    "\n"
   ]
  },
  {
   "cell_type": "code",
   "execution_count": 45,
   "metadata": {},
   "outputs": [
    {
     "data": {
      "text/html": [
       "<div>\n",
       "<style scoped>\n",
       "    .dataframe tbody tr th:only-of-type {\n",
       "        vertical-align: middle;\n",
       "    }\n",
       "\n",
       "    .dataframe tbody tr th {\n",
       "        vertical-align: top;\n",
       "    }\n",
       "\n",
       "    .dataframe thead th {\n",
       "        text-align: right;\n",
       "    }\n",
       "</style>\n",
       "<table border=\"1\" class=\"dataframe\">\n",
       "  <thead>\n",
       "    <tr style=\"text-align: right;\">\n",
       "      <th></th>\n",
       "      <th>Season</th>\n",
       "      <th>Casual</th>\n",
       "      <th>Registered</th>\n",
       "    </tr>\n",
       "  </thead>\n",
       "  <tbody>\n",
       "    <tr>\n",
       "      <th>0</th>\n",
       "      <td>Winter</td>\n",
       "      <td>57.0</td>\n",
       "      <td>77.0</td>\n",
       "    </tr>\n",
       "    <tr>\n",
       "      <th>1</th>\n",
       "      <td>Winter</td>\n",
       "      <td>96.0</td>\n",
       "      <td>100.0</td>\n",
       "    </tr>\n",
       "    <tr>\n",
       "      <th>2</th>\n",
       "      <td>Winter</td>\n",
       "      <td>107.0</td>\n",
       "      <td>74.0</td>\n",
       "    </tr>\n",
       "    <tr>\n",
       "      <th>3</th>\n",
       "      <td>Winter</td>\n",
       "      <td>46.0</td>\n",
       "      <td>34.0</td>\n",
       "    </tr>\n",
       "    <tr>\n",
       "      <th>4</th>\n",
       "      <td>Winter</td>\n",
       "      <td>11.0</td>\n",
       "      <td>15.0</td>\n",
       "    </tr>\n",
       "    <tr>\n",
       "      <th>...</th>\n",
       "      <td>...</td>\n",
       "      <td>...</td>\n",
       "      <td>...</td>\n",
       "    </tr>\n",
       "    <tr>\n",
       "      <th>8754</th>\n",
       "      <td>Winter</td>\n",
       "      <td>132.0</td>\n",
       "      <td>190.0</td>\n",
       "    </tr>\n",
       "    <tr>\n",
       "      <th>8755</th>\n",
       "      <td>Winter</td>\n",
       "      <td>125.0</td>\n",
       "      <td>194.0</td>\n",
       "    </tr>\n",
       "    <tr>\n",
       "      <th>8756</th>\n",
       "      <td>Winter</td>\n",
       "      <td>84.0</td>\n",
       "      <td>137.0</td>\n",
       "    </tr>\n",
       "    <tr>\n",
       "      <th>8757</th>\n",
       "      <td>Winter</td>\n",
       "      <td>83.0</td>\n",
       "      <td>142.0</td>\n",
       "    </tr>\n",
       "    <tr>\n",
       "      <th>8758</th>\n",
       "      <td>Winter</td>\n",
       "      <td>82.0</td>\n",
       "      <td>106.0</td>\n",
       "    </tr>\n",
       "  </tbody>\n",
       "</table>\n",
       "<p>8759 rows × 3 columns</p>\n",
       "</div>"
      ],
      "text/plain": [
       "      Season  Casual  Registered\n",
       "0     Winter    57.0        77.0\n",
       "1     Winter    96.0       100.0\n",
       "2     Winter   107.0        74.0\n",
       "3     Winter    46.0        34.0\n",
       "4     Winter    11.0        15.0\n",
       "...      ...     ...         ...\n",
       "8754  Winter   132.0       190.0\n",
       "8755  Winter   125.0       194.0\n",
       "8756  Winter    84.0       137.0\n",
       "8757  Winter    83.0       142.0\n",
       "8758  Winter    82.0       106.0\n",
       "\n",
       "[8759 rows x 3 columns]"
      ]
     },
     "execution_count": 45,
     "metadata": {},
     "output_type": "execute_result"
    }
   ],
   "source": [
    "season_analysis_2023_copy"
   ]
  },
  {
   "cell_type": "code",
   "execution_count": 46,
   "metadata": {},
   "outputs": [
    {
     "data": {
      "image/png": "[encoded data removed]",
      "text/plain": [
       "<Figure size 640x480 with 1 Axes>"
      ]
     },
     "metadata": {},
     "output_type": "display_data"
    }
   ],
   "source": [
    "# Sample data\n",
    "\n",
    "\n",
    "# Aggregate data by summing up 'Casual' and 'Registered' counts\n",
    "season_counts = season_analysis_2023_copy.groupby('Season').sum().reset_index()\n",
    "\n",
    "# Plotting\n",
    "labels = ['Casual', 'Registered']\n",
    "sizes = season_counts.loc[0, ['Casual', 'Registered']].values\n",
    "\n",
    "plt.pie(sizes, labels=labels, autopct='%1.1f%%', startangle=140)\n",
    "plt.axis('equal')  # Equal aspect ratio ensures that pie is drawn as a circle.\n",
    "\n",
    "# Title\n",
    "plt.title('Distribution of Casual vs Registered Users in 2023')\n",
    "\n",
    "# Show plot\n",
    "plt.show()\n"
   ]
  },
  {
   "cell_type": "code",
   "execution_count": 47,
   "metadata": {},
   "outputs": [],
   "source": [
    "weekday_analysis=hourly.iloc[:,[10,0,3,4]]"
   ]
  },
  {
   "cell_type": "code",
   "execution_count": 48,
   "metadata": {},
   "outputs": [],
   "source": [
    "weekday_analysis_result=weekday_analysis.groupby(\"Weekday\").sum()"
   ]
  },
  {
   "cell_type": "code",
   "execution_count": 49,
   "metadata": {},
   "outputs": [
    {
     "data": {
      "text/plain": [
       "<Axes: xlabel='Weekday'>"
      ]
     },
     "execution_count": 49,
     "metadata": {},
     "output_type": "execute_result"
    },
    {
     "data": {
      "image/png": "[encoded data removed]",
      "text/plain": [
       "<Figure size 640x480 with 1 Axes>"
      ]
     },
     "metadata": {},
     "output_type": "display_data"
    }
   ],
   "source": [
    "weekday_analysis_result.plot.bar()"
   ]
  },
  {
   "cell_type": "code",
   "execution_count": 50,
   "metadata": {},
   "outputs": [
    {
     "name": "stdout",
     "output_type": "stream",
     "text": [
      "<class 'pandas.core.frame.DataFrame'>\n",
      "RangeIndex: 8759 entries, 0 to 8758\n",
      "Data columns (total 13 columns):\n",
      " #   Column                   Non-Null Count  Dtype         \n",
      "---  ------                   --------------  -----         \n",
      " 0   Casual                   8759 non-null   float64       \n",
      " 1   Date                     8759 non-null   datetime64[ns]\n",
      " 2   Hour                     8759 non-null   int64         \n",
      " 3   Registered               8759 non-null   float64       \n",
      " 4   Total_rides              8759 non-null   float64       \n",
      " 5   relativehumidity_2m (%)  8759 non-null   int64         \n",
      " 6   temperature_2m (°C)      8759 non-null   float64       \n",
      " 7   weathercode (wmo code)   8759 non-null   int64         \n",
      " 8   windspeed_10m (km/h)     8759 non-null   float64       \n",
      " 9   Season                   8759 non-null   object        \n",
      " 10  Weekday                  8759 non-null   object        \n",
      " 11  Month                    8759 non-null   object        \n",
      " 12  Minutes                  8759 non-null   int64         \n",
      "dtypes: datetime64[ns](1), float64(5), int64(4), object(3)\n",
      "memory usage: 889.7+ KB\n"
     ]
    }
   ],
   "source": [
    "hourly_2023.info()"
   ]
  },
  {
   "cell_type": "code",
   "execution_count": 51,
   "metadata": {},
   "outputs": [],
   "source": [
    "temp_analysis=hourly_2023.iloc[:,[6,0,3,4]]"
   ]
  },
  {
   "cell_type": "code",
   "execution_count": 52,
   "metadata": {},
   "outputs": [
    {
     "data": {
      "text/html": [
       "<div>\n",
       "<style scoped>\n",
       "    .dataframe tbody tr th:only-of-type {\n",
       "        vertical-align: middle;\n",
       "    }\n",
       "\n",
       "    .dataframe tbody tr th {\n",
       "        vertical-align: top;\n",
       "    }\n",
       "\n",
       "    .dataframe thead th {\n",
       "        text-align: right;\n",
       "    }\n",
       "</style>\n",
       "<table border=\"1\" class=\"dataframe\">\n",
       "  <thead>\n",
       "    <tr style=\"text-align: right;\">\n",
       "      <th></th>\n",
       "      <th>temperature_2m (°C)</th>\n",
       "      <th>Casual</th>\n",
       "      <th>Registered</th>\n",
       "      <th>Total_rides</th>\n",
       "    </tr>\n",
       "  </thead>\n",
       "  <tbody>\n",
       "    <tr>\n",
       "      <th>0</th>\n",
       "      <td>10.7</td>\n",
       "      <td>57.0</td>\n",
       "      <td>77.0</td>\n",
       "      <td>134.0</td>\n",
       "    </tr>\n",
       "    <tr>\n",
       "      <th>1</th>\n",
       "      <td>10.1</td>\n",
       "      <td>96.0</td>\n",
       "      <td>100.0</td>\n",
       "      <td>196.0</td>\n",
       "    </tr>\n",
       "    <tr>\n",
       "      <th>2</th>\n",
       "      <td>9.9</td>\n",
       "      <td>107.0</td>\n",
       "      <td>74.0</td>\n",
       "      <td>181.0</td>\n",
       "    </tr>\n",
       "    <tr>\n",
       "      <th>3</th>\n",
       "      <td>10.1</td>\n",
       "      <td>46.0</td>\n",
       "      <td>34.0</td>\n",
       "      <td>80.0</td>\n",
       "    </tr>\n",
       "    <tr>\n",
       "      <th>4</th>\n",
       "      <td>9.5</td>\n",
       "      <td>11.0</td>\n",
       "      <td>15.0</td>\n",
       "      <td>26.0</td>\n",
       "    </tr>\n",
       "    <tr>\n",
       "      <th>...</th>\n",
       "      <td>...</td>\n",
       "      <td>...</td>\n",
       "      <td>...</td>\n",
       "      <td>...</td>\n",
       "    </tr>\n",
       "    <tr>\n",
       "      <th>8754</th>\n",
       "      <td>-7.7</td>\n",
       "      <td>132.0</td>\n",
       "      <td>190.0</td>\n",
       "      <td>322.0</td>\n",
       "    </tr>\n",
       "    <tr>\n",
       "      <th>8755</th>\n",
       "      <td>-10.2</td>\n",
       "      <td>125.0</td>\n",
       "      <td>194.0</td>\n",
       "      <td>319.0</td>\n",
       "    </tr>\n",
       "    <tr>\n",
       "      <th>8756</th>\n",
       "      <td>-11.0</td>\n",
       "      <td>84.0</td>\n",
       "      <td>137.0</td>\n",
       "      <td>221.0</td>\n",
       "    </tr>\n",
       "    <tr>\n",
       "      <th>8757</th>\n",
       "      <td>-10.4</td>\n",
       "      <td>83.0</td>\n",
       "      <td>142.0</td>\n",
       "      <td>225.0</td>\n",
       "    </tr>\n",
       "    <tr>\n",
       "      <th>8758</th>\n",
       "      <td>-8.5</td>\n",
       "      <td>82.0</td>\n",
       "      <td>106.0</td>\n",
       "      <td>188.0</td>\n",
       "    </tr>\n",
       "  </tbody>\n",
       "</table>\n",
       "<p>8759 rows × 4 columns</p>\n",
       "</div>"
      ],
      "text/plain": [
       "      temperature_2m (°C)  Casual  Registered  Total_rides\n",
       "0                    10.7    57.0        77.0        134.0\n",
       "1                    10.1    96.0       100.0        196.0\n",
       "2                     9.9   107.0        74.0        181.0\n",
       "3                    10.1    46.0        34.0         80.0\n",
       "4                     9.5    11.0        15.0         26.0\n",
       "...                   ...     ...         ...          ...\n",
       "8754                 -7.7   132.0       190.0        322.0\n",
       "8755                -10.2   125.0       194.0        319.0\n",
       "8756                -11.0    84.0       137.0        221.0\n",
       "8757                -10.4    83.0       142.0        225.0\n",
       "8758                 -8.5    82.0       106.0        188.0\n",
       "\n",
       "[8759 rows x 4 columns]"
      ]
     },
     "execution_count": 52,
     "metadata": {},
     "output_type": "execute_result"
    }
   ],
   "source": [
    "temp_analysis"
   ]
  },
  {
   "cell_type": "code",
   "execution_count": 53,
   "metadata": {},
   "outputs": [
    {
     "ename": "ValueError",
     "evalue": "Could not interpret value `temperature_2m (°C)` for parameter `x`",
     "output_type": "error",
     "traceback": [
      "\u001b[1;31m---------------------------------------------------------------------------\u001b[0m",
      "\u001b[1;31mValueError\u001b[0m                                Traceback (most recent call last)",
      "Cell \u001b[1;32mIn[53], line 1\u001b[0m\n\u001b[1;32m----> 1\u001b[0m sns\u001b[38;5;241m.\u001b[39mlineplot(x\u001b[38;5;241m=\u001b[39m\u001b[38;5;124m\"\u001b[39m\u001b[38;5;124mtemperature_2m (°C)\u001b[39m\u001b[38;5;124m\"\u001b[39m, y\u001b[38;5;241m=\u001b[39m\u001b[38;5;124m\"\u001b[39m\u001b[38;5;124mTotal_rides\u001b[39m\u001b[38;5;124m\"\u001b[39m)\n",
      "File \u001b[1;32mc:\\ProgramData\\anaconda3\\Lib\\site-packages\\seaborn\\relational.py:618\u001b[0m, in \u001b[0;36mlineplot\u001b[1;34m(data, x, y, hue, size, style, units, palette, hue_order, hue_norm, sizes, size_order, size_norm, dashes, markers, style_order, estimator, errorbar, n_boot, seed, orient, sort, err_style, err_kws, legend, ci, ax, **kwargs)\u001b[0m\n\u001b[0;32m    615\u001b[0m errorbar \u001b[38;5;241m=\u001b[39m _deprecate_ci(errorbar, ci)\n\u001b[0;32m    617\u001b[0m variables \u001b[38;5;241m=\u001b[39m _LinePlotter\u001b[38;5;241m.\u001b[39mget_semantics(\u001b[38;5;28mlocals\u001b[39m())\n\u001b[1;32m--> 618\u001b[0m p \u001b[38;5;241m=\u001b[39m _LinePlotter(\n\u001b[0;32m    619\u001b[0m     data\u001b[38;5;241m=\u001b[39mdata, variables\u001b[38;5;241m=\u001b[39mvariables,\n\u001b[0;32m    620\u001b[0m     estimator\u001b[38;5;241m=\u001b[39mestimator, n_boot\u001b[38;5;241m=\u001b[39mn_boot, seed\u001b[38;5;241m=\u001b[39mseed, errorbar\u001b[38;5;241m=\u001b[39merrorbar,\n\u001b[0;32m    621\u001b[0m     sort\u001b[38;5;241m=\u001b[39msort, orient\u001b[38;5;241m=\u001b[39morient, err_style\u001b[38;5;241m=\u001b[39merr_style, err_kws\u001b[38;5;241m=\u001b[39merr_kws,\n\u001b[0;32m    622\u001b[0m     legend\u001b[38;5;241m=\u001b[39mlegend,\n\u001b[0;32m    623\u001b[0m )\n\u001b[0;32m    625\u001b[0m p\u001b[38;5;241m.\u001b[39mmap_hue(palette\u001b[38;5;241m=\u001b[39mpalette, order\u001b[38;5;241m=\u001b[39mhue_order, norm\u001b[38;5;241m=\u001b[39mhue_norm)\n\u001b[0;32m    626\u001b[0m p\u001b[38;5;241m.\u001b[39mmap_size(sizes\u001b[38;5;241m=\u001b[39msizes, order\u001b[38;5;241m=\u001b[39msize_order, norm\u001b[38;5;241m=\u001b[39msize_norm)\n",
      "File \u001b[1;32mc:\\ProgramData\\anaconda3\\Lib\\site-packages\\seaborn\\relational.py:365\u001b[0m, in \u001b[0;36m_LinePlotter.__init__\u001b[1;34m(self, data, variables, estimator, n_boot, seed, errorbar, sort, orient, err_style, err_kws, legend)\u001b[0m\n\u001b[0;32m    351\u001b[0m \u001b[38;5;28;01mdef\u001b[39;00m \u001b[38;5;21m__init__\u001b[39m(\n\u001b[0;32m    352\u001b[0m     \u001b[38;5;28mself\u001b[39m, \u001b[38;5;241m*\u001b[39m,\n\u001b[0;32m    353\u001b[0m     data\u001b[38;5;241m=\u001b[39m\u001b[38;5;28;01mNone\u001b[39;00m, variables\u001b[38;5;241m=\u001b[39m{},\n\u001b[1;32m   (...)\u001b[0m\n\u001b[0;32m    359\u001b[0m     \u001b[38;5;66;03m# the kind of plot to draw, but for the time being we need to set\u001b[39;00m\n\u001b[0;32m    360\u001b[0m     \u001b[38;5;66;03m# this information so the SizeMapping can use it\u001b[39;00m\n\u001b[0;32m    361\u001b[0m     \u001b[38;5;28mself\u001b[39m\u001b[38;5;241m.\u001b[39m_default_size_range \u001b[38;5;241m=\u001b[39m (\n\u001b[0;32m    362\u001b[0m         np\u001b[38;5;241m.\u001b[39mr_[\u001b[38;5;241m.5\u001b[39m, \u001b[38;5;241m2\u001b[39m] \u001b[38;5;241m*\u001b[39m mpl\u001b[38;5;241m.\u001b[39mrcParams[\u001b[38;5;124m\"\u001b[39m\u001b[38;5;124mlines.linewidth\u001b[39m\u001b[38;5;124m\"\u001b[39m]\n\u001b[0;32m    363\u001b[0m     )\n\u001b[1;32m--> 365\u001b[0m     \u001b[38;5;28msuper\u001b[39m()\u001b[38;5;241m.\u001b[39m\u001b[38;5;21m__init__\u001b[39m(data\u001b[38;5;241m=\u001b[39mdata, variables\u001b[38;5;241m=\u001b[39mvariables)\n\u001b[0;32m    367\u001b[0m     \u001b[38;5;28mself\u001b[39m\u001b[38;5;241m.\u001b[39mestimator \u001b[38;5;241m=\u001b[39m estimator\n\u001b[0;32m    368\u001b[0m     \u001b[38;5;28mself\u001b[39m\u001b[38;5;241m.\u001b[39merrorbar \u001b[38;5;241m=\u001b[39m errorbar\n",
      "File \u001b[1;32mc:\\ProgramData\\anaconda3\\Lib\\site-packages\\seaborn\\_oldcore.py:640\u001b[0m, in \u001b[0;36mVectorPlotter.__init__\u001b[1;34m(self, data, variables)\u001b[0m\n\u001b[0;32m    635\u001b[0m \u001b[38;5;66;03m# var_ordered is relevant only for categorical axis variables, and may\u001b[39;00m\n\u001b[0;32m    636\u001b[0m \u001b[38;5;66;03m# be better handled by an internal axis information object that tracks\u001b[39;00m\n\u001b[0;32m    637\u001b[0m \u001b[38;5;66;03m# such information and is set up by the scale_* methods. The analogous\u001b[39;00m\n\u001b[0;32m    638\u001b[0m \u001b[38;5;66;03m# information for numeric axes would be information about log scales.\u001b[39;00m\n\u001b[0;32m    639\u001b[0m \u001b[38;5;28mself\u001b[39m\u001b[38;5;241m.\u001b[39m_var_ordered \u001b[38;5;241m=\u001b[39m {\u001b[38;5;124m\"\u001b[39m\u001b[38;5;124mx\u001b[39m\u001b[38;5;124m\"\u001b[39m: \u001b[38;5;28;01mFalse\u001b[39;00m, \u001b[38;5;124m\"\u001b[39m\u001b[38;5;124my\u001b[39m\u001b[38;5;124m\"\u001b[39m: \u001b[38;5;28;01mFalse\u001b[39;00m}  \u001b[38;5;66;03m# alt., used DefaultDict\u001b[39;00m\n\u001b[1;32m--> 640\u001b[0m \u001b[38;5;28mself\u001b[39m\u001b[38;5;241m.\u001b[39massign_variables(data, variables)\n\u001b[0;32m    642\u001b[0m \u001b[38;5;28;01mfor\u001b[39;00m var, \u001b[38;5;28mcls\u001b[39m \u001b[38;5;129;01min\u001b[39;00m \u001b[38;5;28mself\u001b[39m\u001b[38;5;241m.\u001b[39m_semantic_mappings\u001b[38;5;241m.\u001b[39mitems():\n\u001b[0;32m    643\u001b[0m \n\u001b[0;32m    644\u001b[0m     \u001b[38;5;66;03m# Create the mapping function\u001b[39;00m\n\u001b[0;32m    645\u001b[0m     map_func \u001b[38;5;241m=\u001b[39m partial(\u001b[38;5;28mcls\u001b[39m\u001b[38;5;241m.\u001b[39mmap, plotter\u001b[38;5;241m=\u001b[39m\u001b[38;5;28mself\u001b[39m)\n",
      "File \u001b[1;32mc:\\ProgramData\\anaconda3\\Lib\\site-packages\\seaborn\\_oldcore.py:701\u001b[0m, in \u001b[0;36mVectorPlotter.assign_variables\u001b[1;34m(self, data, variables)\u001b[0m\n\u001b[0;32m    699\u001b[0m \u001b[38;5;28;01melse\u001b[39;00m:\n\u001b[0;32m    700\u001b[0m     \u001b[38;5;28mself\u001b[39m\u001b[38;5;241m.\u001b[39minput_format \u001b[38;5;241m=\u001b[39m \u001b[38;5;124m\"\u001b[39m\u001b[38;5;124mlong\u001b[39m\u001b[38;5;124m\"\u001b[39m\n\u001b[1;32m--> 701\u001b[0m     plot_data, variables \u001b[38;5;241m=\u001b[39m \u001b[38;5;28mself\u001b[39m\u001b[38;5;241m.\u001b[39m_assign_variables_longform(\n\u001b[0;32m    702\u001b[0m         data, \u001b[38;5;241m*\u001b[39m\u001b[38;5;241m*\u001b[39mvariables,\n\u001b[0;32m    703\u001b[0m     )\n\u001b[0;32m    705\u001b[0m \u001b[38;5;28mself\u001b[39m\u001b[38;5;241m.\u001b[39mplot_data \u001b[38;5;241m=\u001b[39m plot_data\n\u001b[0;32m    706\u001b[0m \u001b[38;5;28mself\u001b[39m\u001b[38;5;241m.\u001b[39mvariables \u001b[38;5;241m=\u001b[39m variables\n",
      "File \u001b[1;32mc:\\ProgramData\\anaconda3\\Lib\\site-packages\\seaborn\\_oldcore.py:938\u001b[0m, in \u001b[0;36mVectorPlotter._assign_variables_longform\u001b[1;34m(self, data, **kwargs)\u001b[0m\n\u001b[0;32m    933\u001b[0m \u001b[38;5;28;01melif\u001b[39;00m \u001b[38;5;28misinstance\u001b[39m(val, (\u001b[38;5;28mstr\u001b[39m, \u001b[38;5;28mbytes\u001b[39m)):\n\u001b[0;32m    934\u001b[0m \n\u001b[0;32m    935\u001b[0m     \u001b[38;5;66;03m# This looks like a column name but we don't know what it means!\u001b[39;00m\n\u001b[0;32m    937\u001b[0m     err \u001b[38;5;241m=\u001b[39m \u001b[38;5;124mf\u001b[39m\u001b[38;5;124m\"\u001b[39m\u001b[38;5;124mCould not interpret value `\u001b[39m\u001b[38;5;132;01m{\u001b[39;00mval\u001b[38;5;132;01m}\u001b[39;00m\u001b[38;5;124m` for parameter `\u001b[39m\u001b[38;5;132;01m{\u001b[39;00mkey\u001b[38;5;132;01m}\u001b[39;00m\u001b[38;5;124m`\u001b[39m\u001b[38;5;124m\"\u001b[39m\n\u001b[1;32m--> 938\u001b[0m     \u001b[38;5;28;01mraise\u001b[39;00m \u001b[38;5;167;01mValueError\u001b[39;00m(err)\n\u001b[0;32m    940\u001b[0m \u001b[38;5;28;01melse\u001b[39;00m:\n\u001b[0;32m    941\u001b[0m \n\u001b[0;32m    942\u001b[0m     \u001b[38;5;66;03m# Otherwise, assume the value is itself data\u001b[39;00m\n\u001b[0;32m    943\u001b[0m \n\u001b[0;32m    944\u001b[0m     \u001b[38;5;66;03m# Raise when data object is present and a vector can't matched\u001b[39;00m\n\u001b[0;32m    945\u001b[0m     \u001b[38;5;28;01mif\u001b[39;00m \u001b[38;5;28misinstance\u001b[39m(data, pd\u001b[38;5;241m.\u001b[39mDataFrame) \u001b[38;5;129;01mand\u001b[39;00m \u001b[38;5;129;01mnot\u001b[39;00m \u001b[38;5;28misinstance\u001b[39m(val, pd\u001b[38;5;241m.\u001b[39mSeries):\n",
      "\u001b[1;31mValueError\u001b[0m: Could not interpret value `temperature_2m (°C)` for parameter `x`"
     ]
    }
   ],
   "source": [
    "sns.lineplot(x=\"temperature_2m (°C)\", y=\"Total_rides\")"
   ]
  },
  {
   "cell_type": "code",
   "execution_count": null,
   "metadata": {},
   "outputs": [
    {
     "ename": "",
     "evalue": "",
     "output_type": "error",
     "traceback": [
      "\u001b[1;31mFailed to start the Kernel. \n",
      "\u001b[1;31mUnable to start Kernel 'base (Python 3.11.5)' due to a connection timeout. \n",
      "\u001b[1;31mView Jupyter <a href='command:jupyter.viewOutput'>log</a> for further details."
     ]
    }
   ],
   "source": [
    "temp_analysis[\"temperature_2m (°C)\"].describe()"
   ]
  },
  {
   "cell_type": "code",
   "execution_count": null,
   "metadata": {},
   "outputs": [
    {
     "ename": "",
     "evalue": "",
     "output_type": "error",
     "traceback": [
      "\u001b[1;31mFailed to start the Kernel. \n",
      "\u001b[1;31mUnable to start Kernel 'base (Python 3.11.5)' due to a connection timeout. \n",
      "\u001b[1;31mView Jupyter <a href='command:jupyter.viewOutput'>log</a> for further details."
     ]
    }
   ],
   "source": [
    "#plt.figure(figsize=(15.10))\n",
    "#temp_analysis.plot.scatter(x=\"temperature_2m (°C)\", y=\"Total_rides\")\n",
    "#plt.figure(figsize=(15, 10))\n",
    "#plt.scatter(x=temp_analysis[\"temperature_2m (°C)\"], y=temp_analysis[\"Total_rides\"])"
   ]
  }
 ],
 "metadata": {
  "kernelspec": {
   "display_name": "com",
   "language": "python",
   "name": "python3"
  },
  "language_info": {
   "codemirror_mode": {
    "name": "ipython",
    "version": 3
   },
   "file_extension": ".py",
   "mimetype": "text/x-python",
   "name": "python",
   "nbconvert_exporter": "python",
   "pygments_lexer": "ipython3",
   "version": "3.11.5"
  }
 },
 "nbformat": 4,
 "nbformat_minor": 2
}
