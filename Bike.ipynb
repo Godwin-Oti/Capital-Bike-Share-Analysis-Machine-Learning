{
 "cells": [
  {
   "cell_type": "code",
   "execution_count": 25,
   "metadata": {},
   "outputs": [
    {
     "name": "stdout",
     "output_type": "stream",
     "text": [
      "Hello World!\n"
     ]
    }
   ],
   "source": [
    "print(\"Hello World!\")"
   ]
  },
  {
   "cell_type": "code",
   "execution_count": 26,
   "metadata": {},
   "outputs": [],
   "source": [
    "# importing libraries\n",
    "import pandas as pd\n",
    "import numpy as np\n",
    "import matplotlib as pylt\n",
    "import seaborn as sns"
   ]
  },
  {
   "cell_type": "markdown",
   "metadata": {},
   "source": [
    "## Bike Sharing"
   ]
  },
  {
   "cell_type": "code",
   "execution_count": 27,
   "metadata": {},
   "outputs": [
    {
     "data": {
      "text/plain": [
       "'\"\\nThis dataset contains the hourly and daily count of rental bikes between years 2022 and 2023 in Capital bikeshare system with the corresponding weather and seasonal information.\\n'"
      ]
     },
     "execution_count": 27,
     "metadata": {},
     "output_type": "execute_result"
    }
   ],
   "source": [
    "\"\"\"\"\n",
    "This dataset contains the hourly and daily count of rental bikes between years 2022 and 2023 in Capital bikeshare system with the corresponding weather and seasonal information.\n",
    "\n",
    "Additional Information aboutb the Variable.\n",
    "Both hourly.csv and daily.csv have the following fields, except hour which is not available in daily.csv\n",
    "\n",
    " Casual: count of casual users\n",
    " Member: count of member users\n",
    " Date: Year:month:day\n",
    " Hour: (0 to 23)\n",
    " Total_rides: count of total rental bikes including both casual and members \n",
    " relativehumidity_2m (%): Normalized humidity. The values are divided to 100\n",
    " temperature_2m (°C):Normalized temperature in Celsius\n",
    " apparent_temperature_mean (°C): Normalized feeling temperature in Celsius.\n",
    " weathercode (wmo code): represents different weather conditions. \n",
    " windspeed_10m (km/h): Normalized wind speed \n",
    "\n",
    "\n",
    "\n",
    "\"\"\""
   ]
  },
  {
   "cell_type": "markdown",
   "metadata": {},
   "source": [
    "## Loading Hourly Dataset"
   ]
  },
  {
   "cell_type": "code",
   "execution_count": 28,
   "metadata": {},
   "outputs": [
    {
     "name": "stderr",
     "output_type": "stream",
     "text": [
      "C:\\Users\\godwi\\AppData\\Local\\Temp\\ipykernel_1328\\2537278405.py:2: ParserWarning: Falling back to the 'python' engine because the 'c' engine does not support sep=None with delim_whitespace=False; you can avoid this warning by specifying engine='python'.\n",
      "  hour=pd.read_csv(\"CBS_2021-2023_Hourly_Weather.csv\", sep=None)\n"
     ]
    }
   ],
   "source": [
    "# loading csv file\n",
    "hour=pd.read_csv(\"CBS_2021-2023_Hourly_Weather.csv\", sep=None)"
   ]
  },
  {
   "cell_type": "code",
   "execution_count": 29,
   "metadata": {},
   "outputs": [
    {
     "name": "stdout",
     "output_type": "stream",
     "text": [
      "<class 'pandas.core.frame.DataFrame'>\n",
      "RangeIndex: 26280 entries, 0 to 26279\n",
      "Data columns (total 9 columns):\n",
      " #   Column                   Non-Null Count  Dtype  \n",
      "---  ------                   --------------  -----  \n",
      " 0   Casual                   26269 non-null  float64\n",
      " 1   Date                     26280 non-null  object \n",
      " 2   Hour                     26280 non-null  int64  \n",
      " 3   Member                   26269 non-null  float64\n",
      " 4   Total_rides              26269 non-null  float64\n",
      " 5   relativehumidity_2m (%)  26280 non-null  int64  \n",
      " 6   temperature_2m (°C)      26280 non-null  float64\n",
      " 7   weathercode (wmo code)   26280 non-null  int64  \n",
      " 8   windspeed_10m (km/h)     26280 non-null  float64\n",
      "dtypes: float64(5), int64(3), object(1)\n",
      "memory usage: 1.8+ MB\n"
     ]
    }
   ],
   "source": [
    "# getting summary of Data set\n",
    "hour.info()"
   ]
  },
  {
   "cell_type": "code",
   "execution_count": 42,
   "metadata": {},
   "outputs": [
    {
     "data": {
      "text/html": [
       "<div>\n",
       "<style scoped>\n",
       "    .dataframe tbody tr th:only-of-type {\n",
       "        vertical-align: middle;\n",
       "    }\n",
       "\n",
       "    .dataframe tbody tr th {\n",
       "        vertical-align: top;\n",
       "    }\n",
       "\n",
       "    .dataframe thead th {\n",
       "        text-align: right;\n",
       "    }\n",
       "</style>\n",
       "<table border=\"1\" class=\"dataframe\">\n",
       "  <thead>\n",
       "    <tr style=\"text-align: right;\">\n",
       "      <th></th>\n",
       "      <th>Casual</th>\n",
       "      <th>Date</th>\n",
       "      <th>Hour</th>\n",
       "      <th>Member</th>\n",
       "      <th>Total_rides</th>\n",
       "      <th>relativehumidity_2m (%)</th>\n",
       "      <th>temperature_2m (°C)</th>\n",
       "      <th>weathercode (wmo code)</th>\n",
       "      <th>windspeed_10m (km/h)</th>\n",
       "    </tr>\n",
       "  </thead>\n",
       "  <tbody>\n",
       "    <tr>\n",
       "      <th>0</th>\n",
       "      <td>20.0</td>\n",
       "      <td>2021-01-01</td>\n",
       "      <td>0</td>\n",
       "      <td>26.0</td>\n",
       "      <td>46.0</td>\n",
       "      <td>90</td>\n",
       "      <td>2.4</td>\n",
       "      <td>1</td>\n",
       "      <td>10.2</td>\n",
       "    </tr>\n",
       "    <tr>\n",
       "      <th>1</th>\n",
       "      <td>23.0</td>\n",
       "      <td>2021-01-01</td>\n",
       "      <td>1</td>\n",
       "      <td>23.0</td>\n",
       "      <td>46.0</td>\n",
       "      <td>88</td>\n",
       "      <td>1.8</td>\n",
       "      <td>1</td>\n",
       "      <td>10.0</td>\n",
       "    </tr>\n",
       "    <tr>\n",
       "      <th>2</th>\n",
       "      <td>20.0</td>\n",
       "      <td>2021-01-01</td>\n",
       "      <td>2</td>\n",
       "      <td>28.0</td>\n",
       "      <td>48.0</td>\n",
       "      <td>87</td>\n",
       "      <td>1.1</td>\n",
       "      <td>2</td>\n",
       "      <td>10.1</td>\n",
       "    </tr>\n",
       "    <tr>\n",
       "      <th>3</th>\n",
       "      <td>9.0</td>\n",
       "      <td>2021-01-01</td>\n",
       "      <td>3</td>\n",
       "      <td>7.0</td>\n",
       "      <td>16.0</td>\n",
       "      <td>81</td>\n",
       "      <td>1.6</td>\n",
       "      <td>2</td>\n",
       "      <td>10.6</td>\n",
       "    </tr>\n",
       "    <tr>\n",
       "      <th>4</th>\n",
       "      <td>7.0</td>\n",
       "      <td>2021-01-01</td>\n",
       "      <td>4</td>\n",
       "      <td>5.0</td>\n",
       "      <td>12.0</td>\n",
       "      <td>77</td>\n",
       "      <td>1.6</td>\n",
       "      <td>2</td>\n",
       "      <td>9.9</td>\n",
       "    </tr>\n",
       "    <tr>\n",
       "      <th>5</th>\n",
       "      <td>11.0</td>\n",
       "      <td>2021-01-01</td>\n",
       "      <td>5</td>\n",
       "      <td>3.0</td>\n",
       "      <td>14.0</td>\n",
       "      <td>75</td>\n",
       "      <td>1.4</td>\n",
       "      <td>2</td>\n",
       "      <td>8.7</td>\n",
       "    </tr>\n",
       "    <tr>\n",
       "      <th>6</th>\n",
       "      <td>8.0</td>\n",
       "      <td>2021-01-01</td>\n",
       "      <td>6</td>\n",
       "      <td>18.0</td>\n",
       "      <td>26.0</td>\n",
       "      <td>72</td>\n",
       "      <td>1.4</td>\n",
       "      <td>2</td>\n",
       "      <td>8.9</td>\n",
       "    </tr>\n",
       "    <tr>\n",
       "      <th>7</th>\n",
       "      <td>10.0</td>\n",
       "      <td>2021-01-01</td>\n",
       "      <td>7</td>\n",
       "      <td>17.0</td>\n",
       "      <td>27.0</td>\n",
       "      <td>71</td>\n",
       "      <td>1.4</td>\n",
       "      <td>3</td>\n",
       "      <td>7.9</td>\n",
       "    </tr>\n",
       "    <tr>\n",
       "      <th>8</th>\n",
       "      <td>22.0</td>\n",
       "      <td>2021-01-01</td>\n",
       "      <td>8</td>\n",
       "      <td>33.0</td>\n",
       "      <td>55.0</td>\n",
       "      <td>71</td>\n",
       "      <td>1.4</td>\n",
       "      <td>3</td>\n",
       "      <td>7.1</td>\n",
       "    </tr>\n",
       "    <tr>\n",
       "      <th>9</th>\n",
       "      <td>22.0</td>\n",
       "      <td>2021-01-01</td>\n",
       "      <td>9</td>\n",
       "      <td>54.0</td>\n",
       "      <td>76.0</td>\n",
       "      <td>70</td>\n",
       "      <td>1.6</td>\n",
       "      <td>3</td>\n",
       "      <td>7.2</td>\n",
       "    </tr>\n",
       "    <tr>\n",
       "      <th>10</th>\n",
       "      <td>29.0</td>\n",
       "      <td>2021-01-01</td>\n",
       "      <td>10</td>\n",
       "      <td>56.0</td>\n",
       "      <td>85.0</td>\n",
       "      <td>69</td>\n",
       "      <td>1.9</td>\n",
       "      <td>3</td>\n",
       "      <td>9.0</td>\n",
       "    </tr>\n",
       "    <tr>\n",
       "      <th>11</th>\n",
       "      <td>16.0</td>\n",
       "      <td>2021-01-01</td>\n",
       "      <td>11</td>\n",
       "      <td>40.0</td>\n",
       "      <td>56.0</td>\n",
       "      <td>71</td>\n",
       "      <td>2.0</td>\n",
       "      <td>3</td>\n",
       "      <td>9.6</td>\n",
       "    </tr>\n",
       "    <tr>\n",
       "      <th>12</th>\n",
       "      <td>21.0</td>\n",
       "      <td>2021-01-01</td>\n",
       "      <td>12</td>\n",
       "      <td>38.0</td>\n",
       "      <td>59.0</td>\n",
       "      <td>80</td>\n",
       "      <td>2.0</td>\n",
       "      <td>51</td>\n",
       "      <td>8.4</td>\n",
       "    </tr>\n",
       "    <tr>\n",
       "      <th>13</th>\n",
       "      <td>30.0</td>\n",
       "      <td>2021-01-01</td>\n",
       "      <td>13</td>\n",
       "      <td>35.0</td>\n",
       "      <td>65.0</td>\n",
       "      <td>87</td>\n",
       "      <td>2.1</td>\n",
       "      <td>53</td>\n",
       "      <td>7.8</td>\n",
       "    </tr>\n",
       "    <tr>\n",
       "      <th>14</th>\n",
       "      <td>39.0</td>\n",
       "      <td>2021-01-01</td>\n",
       "      <td>14</td>\n",
       "      <td>54.0</td>\n",
       "      <td>93.0</td>\n",
       "      <td>90</td>\n",
       "      <td>2.2</td>\n",
       "      <td>53</td>\n",
       "      <td>9.4</td>\n",
       "    </tr>\n",
       "    <tr>\n",
       "      <th>15</th>\n",
       "      <td>24.0</td>\n",
       "      <td>2021-01-01</td>\n",
       "      <td>15</td>\n",
       "      <td>40.0</td>\n",
       "      <td>64.0</td>\n",
       "      <td>92</td>\n",
       "      <td>2.3</td>\n",
       "      <td>53</td>\n",
       "      <td>6.3</td>\n",
       "    </tr>\n",
       "    <tr>\n",
       "      <th>16</th>\n",
       "      <td>14.0</td>\n",
       "      <td>2021-01-01</td>\n",
       "      <td>16</td>\n",
       "      <td>32.0</td>\n",
       "      <td>46.0</td>\n",
       "      <td>94</td>\n",
       "      <td>2.5</td>\n",
       "      <td>53</td>\n",
       "      <td>8.4</td>\n",
       "    </tr>\n",
       "    <tr>\n",
       "      <th>17</th>\n",
       "      <td>6.0</td>\n",
       "      <td>2021-01-01</td>\n",
       "      <td>17</td>\n",
       "      <td>13.0</td>\n",
       "      <td>19.0</td>\n",
       "      <td>95</td>\n",
       "      <td>2.5</td>\n",
       "      <td>53</td>\n",
       "      <td>8.7</td>\n",
       "    </tr>\n",
       "    <tr>\n",
       "      <th>18</th>\n",
       "      <td>3.0</td>\n",
       "      <td>2021-01-01</td>\n",
       "      <td>18</td>\n",
       "      <td>12.0</td>\n",
       "      <td>15.0</td>\n",
       "      <td>96</td>\n",
       "      <td>2.7</td>\n",
       "      <td>61</td>\n",
       "      <td>8.5</td>\n",
       "    </tr>\n",
       "    <tr>\n",
       "      <th>19</th>\n",
       "      <td>2.0</td>\n",
       "      <td>2021-01-01</td>\n",
       "      <td>19</td>\n",
       "      <td>7.0</td>\n",
       "      <td>9.0</td>\n",
       "      <td>97</td>\n",
       "      <td>3.0</td>\n",
       "      <td>63</td>\n",
       "      <td>6.1</td>\n",
       "    </tr>\n",
       "  </tbody>\n",
       "</table>\n",
       "</div>"
      ],
      "text/plain": [
       "    Casual        Date  Hour  Member  Total_rides  relativehumidity_2m (%)  \\\n",
       "0     20.0  2021-01-01     0    26.0         46.0                       90   \n",
       "1     23.0  2021-01-01     1    23.0         46.0                       88   \n",
       "2     20.0  2021-01-01     2    28.0         48.0                       87   \n",
       "3      9.0  2021-01-01     3     7.0         16.0                       81   \n",
       "4      7.0  2021-01-01     4     5.0         12.0                       77   \n",
       "5     11.0  2021-01-01     5     3.0         14.0                       75   \n",
       "6      8.0  2021-01-01     6    18.0         26.0                       72   \n",
       "7     10.0  2021-01-01     7    17.0         27.0                       71   \n",
       "8     22.0  2021-01-01     8    33.0         55.0                       71   \n",
       "9     22.0  2021-01-01     9    54.0         76.0                       70   \n",
       "10    29.0  2021-01-01    10    56.0         85.0                       69   \n",
       "11    16.0  2021-01-01    11    40.0         56.0                       71   \n",
       "12    21.0  2021-01-01    12    38.0         59.0                       80   \n",
       "13    30.0  2021-01-01    13    35.0         65.0                       87   \n",
       "14    39.0  2021-01-01    14    54.0         93.0                       90   \n",
       "15    24.0  2021-01-01    15    40.0         64.0                       92   \n",
       "16    14.0  2021-01-01    16    32.0         46.0                       94   \n",
       "17     6.0  2021-01-01    17    13.0         19.0                       95   \n",
       "18     3.0  2021-01-01    18    12.0         15.0                       96   \n",
       "19     2.0  2021-01-01    19     7.0          9.0                       97   \n",
       "\n",
       "    temperature_2m (°C)  weathercode (wmo code)  windspeed_10m (km/h)  \n",
       "0                   2.4                       1                  10.2  \n",
       "1                   1.8                       1                  10.0  \n",
       "2                   1.1                       2                  10.1  \n",
       "3                   1.6                       2                  10.6  \n",
       "4                   1.6                       2                   9.9  \n",
       "5                   1.4                       2                   8.7  \n",
       "6                   1.4                       2                   8.9  \n",
       "7                   1.4                       3                   7.9  \n",
       "8                   1.4                       3                   7.1  \n",
       "9                   1.6                       3                   7.2  \n",
       "10                  1.9                       3                   9.0  \n",
       "11                  2.0                       3                   9.6  \n",
       "12                  2.0                      51                   8.4  \n",
       "13                  2.1                      53                   7.8  \n",
       "14                  2.2                      53                   9.4  \n",
       "15                  2.3                      53                   6.3  \n",
       "16                  2.5                      53                   8.4  \n",
       "17                  2.5                      53                   8.7  \n",
       "18                  2.7                      61                   8.5  \n",
       "19                  3.0                      63                   6.1  "
      ]
     },
     "execution_count": 42,
     "metadata": {},
     "output_type": "execute_result"
    }
   ],
   "source": [
    "hour.head(20)"
   ]
  },
  {
   "cell_type": "code",
   "execution_count": 31,
   "metadata": {},
   "outputs": [
    {
     "data": {
      "text/html": [
       "<div>\n",
       "<style scoped>\n",
       "    .dataframe tbody tr th:only-of-type {\n",
       "        vertical-align: middle;\n",
       "    }\n",
       "\n",
       "    .dataframe tbody tr th {\n",
       "        vertical-align: top;\n",
       "    }\n",
       "\n",
       "    .dataframe thead th {\n",
       "        text-align: right;\n",
       "    }\n",
       "</style>\n",
       "<table border=\"1\" class=\"dataframe\">\n",
       "  <thead>\n",
       "    <tr style=\"text-align: right;\">\n",
       "      <th></th>\n",
       "      <th>count</th>\n",
       "      <th>mean</th>\n",
       "      <th>std</th>\n",
       "      <th>min</th>\n",
       "      <th>25%</th>\n",
       "      <th>50%</th>\n",
       "      <th>75%</th>\n",
       "      <th>max</th>\n",
       "    </tr>\n",
       "  </thead>\n",
       "  <tbody>\n",
       "    <tr>\n",
       "      <th>Casual</th>\n",
       "      <td>26269.0</td>\n",
       "      <td>159.93</td>\n",
       "      <td>167.33</td>\n",
       "      <td>0.0</td>\n",
       "      <td>28.00</td>\n",
       "      <td>105.0</td>\n",
       "      <td>237.00</td>\n",
       "      <td>1206.0</td>\n",
       "    </tr>\n",
       "    <tr>\n",
       "      <th>Hour</th>\n",
       "      <td>26280.0</td>\n",
       "      <td>11.50</td>\n",
       "      <td>6.92</td>\n",
       "      <td>0.0</td>\n",
       "      <td>5.75</td>\n",
       "      <td>11.5</td>\n",
       "      <td>17.25</td>\n",
       "      <td>23.0</td>\n",
       "    </tr>\n",
       "    <tr>\n",
       "      <th>Member</th>\n",
       "      <td>26269.0</td>\n",
       "      <td>247.17</td>\n",
       "      <td>225.28</td>\n",
       "      <td>0.0</td>\n",
       "      <td>55.00</td>\n",
       "      <td>203.0</td>\n",
       "      <td>371.00</td>\n",
       "      <td>1534.0</td>\n",
       "    </tr>\n",
       "    <tr>\n",
       "      <th>Total_rides</th>\n",
       "      <td>26269.0</td>\n",
       "      <td>407.10</td>\n",
       "      <td>373.01</td>\n",
       "      <td>1.0</td>\n",
       "      <td>85.00</td>\n",
       "      <td>319.0</td>\n",
       "      <td>616.00</td>\n",
       "      <td>2262.0</td>\n",
       "    </tr>\n",
       "    <tr>\n",
       "      <th>relativehumidity_2m (%)</th>\n",
       "      <td>26280.0</td>\n",
       "      <td>62.97</td>\n",
       "      <td>22.72</td>\n",
       "      <td>5.0</td>\n",
       "      <td>46.00</td>\n",
       "      <td>64.0</td>\n",
       "      <td>82.00</td>\n",
       "      <td>100.0</td>\n",
       "    </tr>\n",
       "    <tr>\n",
       "      <th>temperature_2m (°C)</th>\n",
       "      <td>26280.0</td>\n",
       "      <td>14.41</td>\n",
       "      <td>10.29</td>\n",
       "      <td>-14.6</td>\n",
       "      <td>6.10</td>\n",
       "      <td>14.8</td>\n",
       "      <td>22.70</td>\n",
       "      <td>41.5</td>\n",
       "    </tr>\n",
       "    <tr>\n",
       "      <th>weathercode (wmo code)</th>\n",
       "      <td>26280.0</td>\n",
       "      <td>7.23</td>\n",
       "      <td>17.63</td>\n",
       "      <td>0.0</td>\n",
       "      <td>0.00</td>\n",
       "      <td>1.0</td>\n",
       "      <td>2.00</td>\n",
       "      <td>75.0</td>\n",
       "    </tr>\n",
       "    <tr>\n",
       "      <th>windspeed_10m (km/h)</th>\n",
       "      <td>26280.0</td>\n",
       "      <td>10.17</td>\n",
       "      <td>5.26</td>\n",
       "      <td>0.0</td>\n",
       "      <td>6.50</td>\n",
       "      <td>9.2</td>\n",
       "      <td>12.90</td>\n",
       "      <td>40.1</td>\n",
       "    </tr>\n",
       "  </tbody>\n",
       "</table>\n",
       "</div>"
      ],
      "text/plain": [
       "                           count    mean     std   min    25%    50%     75%  \\\n",
       "Casual                   26269.0  159.93  167.33   0.0  28.00  105.0  237.00   \n",
       "Hour                     26280.0   11.50    6.92   0.0   5.75   11.5   17.25   \n",
       "Member                   26269.0  247.17  225.28   0.0  55.00  203.0  371.00   \n",
       "Total_rides              26269.0  407.10  373.01   1.0  85.00  319.0  616.00   \n",
       "relativehumidity_2m (%)  26280.0   62.97   22.72   5.0  46.00   64.0   82.00   \n",
       "temperature_2m (°C)      26280.0   14.41   10.29 -14.6   6.10   14.8   22.70   \n",
       "weathercode (wmo code)   26280.0    7.23   17.63   0.0   0.00    1.0    2.00   \n",
       "windspeed_10m (km/h)     26280.0   10.17    5.26   0.0   6.50    9.2   12.90   \n",
       "\n",
       "                            max  \n",
       "Casual                   1206.0  \n",
       "Hour                       23.0  \n",
       "Member                   1534.0  \n",
       "Total_rides              2262.0  \n",
       "relativehumidity_2m (%)   100.0  \n",
       "temperature_2m (°C)        41.5  \n",
       "weathercode (wmo code)     75.0  \n",
       "windspeed_10m (km/h)       40.1  "
      ]
     },
     "execution_count": 31,
     "metadata": {},
     "output_type": "execute_result"
    }
   ],
   "source": [
    "# getting the statistics of the Dataset\n",
    "hour.describe().round(2).T"
   ]
  },
  {
   "cell_type": "code",
   "execution_count": 32,
   "metadata": {},
   "outputs": [
    {
     "data": {
      "text/plain": [
       "(26280, 9)"
      ]
     },
     "execution_count": 32,
     "metadata": {},
     "output_type": "execute_result"
    }
   ],
   "source": [
    "#getting the shape of the DataFrame\n",
    "hour.shape"
   ]
  },
  {
   "cell_type": "markdown",
   "metadata": {},
   "source": [
    "## Loading Daily Dataset"
   ]
  },
  {
   "cell_type": "code",
   "execution_count": 33,
   "metadata": {},
   "outputs": [
    {
     "name": "stderr",
     "output_type": "stream",
     "text": [
      "C:\\Users\\godwi\\AppData\\Local\\Temp\\ipykernel_1328\\2472823599.py:2: ParserWarning: Falling back to the 'python' engine because the 'c' engine does not support sep=None with delim_whitespace=False; you can avoid this warning by specifying engine='python'.\n",
      "  daily=pd.read_csv(\"CBS_2021-2023_Daily_Weather.csv\", sep=None)\n"
     ]
    }
   ],
   "source": [
    "# loading csv file\n",
    "daily=pd.read_csv(\"CBS_2021-2023_Daily_Weather.csv\", sep=None)"
   ]
  },
  {
   "cell_type": "code",
   "execution_count": 34,
   "metadata": {},
   "outputs": [
    {
     "name": "stdout",
     "output_type": "stream",
     "text": [
      "<class 'pandas.core.frame.DataFrame'>\n",
      "RangeIndex: 1095 entries, 0 to 1094\n",
      "Data columns (total 8 columns):\n",
      " #   Column                          Non-Null Count  Dtype  \n",
      "---  ------                          --------------  -----  \n",
      " 0   Casual                          1095 non-null   int64  \n",
      " 1   Date                            1095 non-null   object \n",
      " 2   Member                          1095 non-null   int64  \n",
      " 3   Total_rides                     1095 non-null   int64  \n",
      " 4   apparent_temperature_mean (°C)  1095 non-null   float64\n",
      " 5   temperature_2m_mean (°C)        1095 non-null   float64\n",
      " 6   weathercode (wmo code)          1095 non-null   int64  \n",
      " 7   windspeed_10m_max (km/h)        1095 non-null   float64\n",
      "dtypes: float64(3), int64(4), object(1)\n",
      "memory usage: 68.6+ KB\n"
     ]
    }
   ],
   "source": [
    "# getting summary of Data set\n",
    "daily.info()"
   ]
  },
  {
   "cell_type": "code",
   "execution_count": 35,
   "metadata": {},
   "outputs": [
    {
     "data": {
      "text/html": [
       "<div>\n",
       "<style scoped>\n",
       "    .dataframe tbody tr th:only-of-type {\n",
       "        vertical-align: middle;\n",
       "    }\n",
       "\n",
       "    .dataframe tbody tr th {\n",
       "        vertical-align: top;\n",
       "    }\n",
       "\n",
       "    .dataframe thead th {\n",
       "        text-align: right;\n",
       "    }\n",
       "</style>\n",
       "<table border=\"1\" class=\"dataframe\">\n",
       "  <thead>\n",
       "    <tr style=\"text-align: right;\">\n",
       "      <th></th>\n",
       "      <th>Casual</th>\n",
       "      <th>Date</th>\n",
       "      <th>Member</th>\n",
       "      <th>Total_rides</th>\n",
       "      <th>apparent_temperature_mean (°C)</th>\n",
       "      <th>temperature_2m_mean (°C)</th>\n",
       "      <th>weathercode (wmo code)</th>\n",
       "      <th>windspeed_10m_max (km/h)</th>\n",
       "    </tr>\n",
       "  </thead>\n",
       "  <tbody>\n",
       "    <tr>\n",
       "      <th>0</th>\n",
       "      <td>371</td>\n",
       "      <td>2021-01-01</td>\n",
       "      <td>590</td>\n",
       "      <td>961</td>\n",
       "      <td>-0.9</td>\n",
       "      <td>2.3</td>\n",
       "      <td>63</td>\n",
       "      <td>10.6</td>\n",
       "    </tr>\n",
       "    <tr>\n",
       "      <th>1</th>\n",
       "      <td>2874</td>\n",
       "      <td>2021-01-02</td>\n",
       "      <td>2844</td>\n",
       "      <td>5718</td>\n",
       "      <td>4.8</td>\n",
       "      <td>7.6</td>\n",
       "      <td>61</td>\n",
       "      <td>19.1</td>\n",
       "    </tr>\n",
       "    <tr>\n",
       "      <th>2</th>\n",
       "      <td>495</td>\n",
       "      <td>2021-01-03</td>\n",
       "      <td>1133</td>\n",
       "      <td>1628</td>\n",
       "      <td>0.9</td>\n",
       "      <td>3.9</td>\n",
       "      <td>63</td>\n",
       "      <td>13.0</td>\n",
       "    </tr>\n",
       "    <tr>\n",
       "      <th>3</th>\n",
       "      <td>907</td>\n",
       "      <td>2021-01-04</td>\n",
       "      <td>2074</td>\n",
       "      <td>2981</td>\n",
       "      <td>1.0</td>\n",
       "      <td>4.1</td>\n",
       "      <td>3</td>\n",
       "      <td>13.3</td>\n",
       "    </tr>\n",
       "    <tr>\n",
       "      <th>4</th>\n",
       "      <td>1057</td>\n",
       "      <td>2021-01-05</td>\n",
       "      <td>2004</td>\n",
       "      <td>3061</td>\n",
       "      <td>1.4</td>\n",
       "      <td>4.0</td>\n",
       "      <td>51</td>\n",
       "      <td>9.2</td>\n",
       "    </tr>\n",
       "  </tbody>\n",
       "</table>\n",
       "</div>"
      ],
      "text/plain": [
       "   Casual        Date  Member  Total_rides  apparent_temperature_mean (°C)  \\\n",
       "0     371  2021-01-01     590          961                            -0.9   \n",
       "1    2874  2021-01-02    2844         5718                             4.8   \n",
       "2     495  2021-01-03    1133         1628                             0.9   \n",
       "3     907  2021-01-04    2074         2981                             1.0   \n",
       "4    1057  2021-01-05    2004         3061                             1.4   \n",
       "\n",
       "   temperature_2m_mean (°C)  weathercode (wmo code)  windspeed_10m_max (km/h)  \n",
       "0                       2.3                      63                      10.6  \n",
       "1                       7.6                      61                      19.1  \n",
       "2                       3.9                      63                      13.0  \n",
       "3                       4.1                       3                      13.3  \n",
       "4                       4.0                      51                       9.2  "
      ]
     },
     "execution_count": 35,
     "metadata": {},
     "output_type": "execute_result"
    }
   ],
   "source": [
    "daily.head()"
   ]
  },
  {
   "cell_type": "code",
   "execution_count": 36,
   "metadata": {},
   "outputs": [
    {
     "data": {
      "text/html": [
       "<div>\n",
       "<style scoped>\n",
       "    .dataframe tbody tr th:only-of-type {\n",
       "        vertical-align: middle;\n",
       "    }\n",
       "\n",
       "    .dataframe tbody tr th {\n",
       "        vertical-align: top;\n",
       "    }\n",
       "\n",
       "    .dataframe thead th {\n",
       "        text-align: right;\n",
       "    }\n",
       "</style>\n",
       "<table border=\"1\" class=\"dataframe\">\n",
       "  <thead>\n",
       "    <tr style=\"text-align: right;\">\n",
       "      <th></th>\n",
       "      <th>count</th>\n",
       "      <th>mean</th>\n",
       "      <th>std</th>\n",
       "      <th>min</th>\n",
       "      <th>25%</th>\n",
       "      <th>50%</th>\n",
       "      <th>75%</th>\n",
       "      <th>max</th>\n",
       "    </tr>\n",
       "  </thead>\n",
       "  <tbody>\n",
       "    <tr>\n",
       "      <th>Casual</th>\n",
       "      <td>1095.0</td>\n",
       "      <td>3836.72</td>\n",
       "      <td>2114.90</td>\n",
       "      <td>174.0</td>\n",
       "      <td>2122.00</td>\n",
       "      <td>3595.0</td>\n",
       "      <td>5321.00</td>\n",
       "      <td>12839.0</td>\n",
       "    </tr>\n",
       "    <tr>\n",
       "      <th>Member</th>\n",
       "      <td>1095.0</td>\n",
       "      <td>5929.49</td>\n",
       "      <td>2419.27</td>\n",
       "      <td>323.0</td>\n",
       "      <td>4292.50</td>\n",
       "      <td>5848.0</td>\n",
       "      <td>7577.00</td>\n",
       "      <td>12580.0</td>\n",
       "    </tr>\n",
       "    <tr>\n",
       "      <th>Total_rides</th>\n",
       "      <td>1095.0</td>\n",
       "      <td>9766.21</td>\n",
       "      <td>4129.63</td>\n",
       "      <td>497.0</td>\n",
       "      <td>6741.50</td>\n",
       "      <td>9759.0</td>\n",
       "      <td>13020.00</td>\n",
       "      <td>20174.0</td>\n",
       "    </tr>\n",
       "    <tr>\n",
       "      <th>apparent_temperature_mean (°C)</th>\n",
       "      <td>1095.0</td>\n",
       "      <td>12.84</td>\n",
       "      <td>11.89</td>\n",
       "      <td>-15.2</td>\n",
       "      <td>2.70</td>\n",
       "      <td>13.1</td>\n",
       "      <td>23.40</td>\n",
       "      <td>34.7</td>\n",
       "    </tr>\n",
       "    <tr>\n",
       "      <th>temperature_2m_mean (°C)</th>\n",
       "      <td>1095.0</td>\n",
       "      <td>14.41</td>\n",
       "      <td>9.67</td>\n",
       "      <td>-9.1</td>\n",
       "      <td>6.25</td>\n",
       "      <td>14.9</td>\n",
       "      <td>22.75</td>\n",
       "      <td>34.7</td>\n",
       "    </tr>\n",
       "    <tr>\n",
       "      <th>weathercode (wmo code)</th>\n",
       "      <td>1095.0</td>\n",
       "      <td>24.39</td>\n",
       "      <td>27.77</td>\n",
       "      <td>0.0</td>\n",
       "      <td>1.00</td>\n",
       "      <td>3.0</td>\n",
       "      <td>53.00</td>\n",
       "      <td>75.0</td>\n",
       "    </tr>\n",
       "    <tr>\n",
       "      <th>windspeed_10m_max (km/h)</th>\n",
       "      <td>1095.0</td>\n",
       "      <td>16.05</td>\n",
       "      <td>5.88</td>\n",
       "      <td>5.6</td>\n",
       "      <td>11.70</td>\n",
       "      <td>14.7</td>\n",
       "      <td>19.40</td>\n",
       "      <td>40.1</td>\n",
       "    </tr>\n",
       "  </tbody>\n",
       "</table>\n",
       "</div>"
      ],
      "text/plain": [
       "                                 count     mean      std    min      25%  \\\n",
       "Casual                          1095.0  3836.72  2114.90  174.0  2122.00   \n",
       "Member                          1095.0  5929.49  2419.27  323.0  4292.50   \n",
       "Total_rides                     1095.0  9766.21  4129.63  497.0  6741.50   \n",
       "apparent_temperature_mean (°C)  1095.0    12.84    11.89  -15.2     2.70   \n",
       "temperature_2m_mean (°C)        1095.0    14.41     9.67   -9.1     6.25   \n",
       "weathercode (wmo code)          1095.0    24.39    27.77    0.0     1.00   \n",
       "windspeed_10m_max (km/h)        1095.0    16.05     5.88    5.6    11.70   \n",
       "\n",
       "                                   50%       75%      max  \n",
       "Casual                          3595.0   5321.00  12839.0  \n",
       "Member                          5848.0   7577.00  12580.0  \n",
       "Total_rides                     9759.0  13020.00  20174.0  \n",
       "apparent_temperature_mean (°C)    13.1     23.40     34.7  \n",
       "temperature_2m_mean (°C)          14.9     22.75     34.7  \n",
       "weathercode (wmo code)             3.0     53.00     75.0  \n",
       "windspeed_10m_max (km/h)          14.7     19.40     40.1  "
      ]
     },
     "execution_count": 36,
     "metadata": {},
     "output_type": "execute_result"
    }
   ],
   "source": [
    "# getting the statistics of the Dataset\n",
    "daily.describe().round(2).T"
   ]
  },
  {
   "cell_type": "code",
   "execution_count": 37,
   "metadata": {},
   "outputs": [
    {
     "data": {
      "text/plain": [
       "(1095, 8)"
      ]
     },
     "execution_count": 37,
     "metadata": {},
     "output_type": "execute_result"
    }
   ],
   "source": [
    "#getting the shape of the DataFrame\n",
    "daily.shape"
   ]
  },
  {
   "cell_type": "markdown",
   "metadata": {},
   "source": [
    "### Checking for Missing values"
   ]
  },
  {
   "cell_type": "code",
   "execution_count": 38,
   "metadata": {},
   "outputs": [
    {
     "data": {
      "text/plain": [
       "Casual                     11\n",
       "Date                        0\n",
       "Hour                        0\n",
       "Member                     11\n",
       "Total_rides                11\n",
       "relativehumidity_2m (%)     0\n",
       "temperature_2m (°C)         0\n",
       "weathercode (wmo code)      0\n",
       "windspeed_10m (km/h)        0\n",
       "dtype: int64"
      ]
     },
     "execution_count": 38,
     "metadata": {},
     "output_type": "execute_result"
    }
   ],
   "source": [
    "## checking for missing values in Data Set\n",
    "hour.isnull().sum()\n",
    "## Missing values for casual, member,total_rides are 11,11,11 respectively"
   ]
  },
  {
   "cell_type": "code",
   "execution_count": 39,
   "metadata": {},
   "outputs": [
    {
     "data": {
      "text/plain": [
       "Casual                            0\n",
       "Date                              0\n",
       "Member                            0\n",
       "Total_rides                       0\n",
       "apparent_temperature_mean (°C)    0\n",
       "temperature_2m_mean (°C)          0\n",
       "weathercode (wmo code)            0\n",
       "windspeed_10m_max (km/h)          0\n",
       "dtype: int64"
      ]
     },
     "execution_count": 39,
     "metadata": {},
     "output_type": "execute_result"
    }
   ],
   "source": [
    "daily.isnull().sum()"
   ]
  },
  {
   "cell_type": "markdown",
   "metadata": {},
   "source": [
    "Dropping of missing values"
   ]
  },
  {
   "cell_type": "code",
   "execution_count": 40,
   "metadata": {},
   "outputs": [],
   "source": [
    "#dropping missing values\n",
    "hour.dropna(inplace=True)"
   ]
  },
  {
   "cell_type": "code",
   "execution_count": 41,
   "metadata": {},
   "outputs": [
    {
     "name": "stdout",
     "output_type": "stream",
     "text": [
      "<class 'pandas.core.frame.DataFrame'>\n",
      "RangeIndex: 26269 entries, 0 to 26268\n",
      "Data columns (total 9 columns):\n",
      " #   Column                   Non-Null Count  Dtype  \n",
      "---  ------                   --------------  -----  \n",
      " 0   Casual                   26269 non-null  float64\n",
      " 1   Date                     26269 non-null  object \n",
      " 2   Hour                     26269 non-null  int64  \n",
      " 3   Member                   26269 non-null  float64\n",
      " 4   Total_rides              26269 non-null  float64\n",
      " 5   relativehumidity_2m (%)  26269 non-null  int64  \n",
      " 6   temperature_2m (°C)      26269 non-null  float64\n",
      " 7   weathercode (wmo code)   26269 non-null  int64  \n",
      " 8   windspeed_10m (km/h)     26269 non-null  float64\n",
      "dtypes: float64(5), int64(3), object(1)\n",
      "memory usage: 1.8+ MB\n",
      "None\n"
     ]
    }
   ],
   "source": [
    "#resetting index of the Data Frame\n",
    "hourly=hour.reset_index(drop=True)\n",
    "# get the info of the Data Frame\n",
    "print(hourly.info())"
   ]
  },
  {
   "cell_type": "markdown",
   "metadata": {},
   "source": [
    "Adding some columns"
   ]
  },
  {
   "cell_type": "code",
   "execution_count": 50,
   "metadata": {},
   "outputs": [
    {
     "data": {
      "text/plain": [
       "0        False\n",
       "1        False\n",
       "2        False\n",
       "3        False\n",
       "4        False\n",
       "         ...  \n",
       "26264    False\n",
       "26265    False\n",
       "26266    False\n",
       "26267    False\n",
       "26268    False\n",
       "Name: Casual, Length: 26269, dtype: bool"
      ]
     },
     "execution_count": 50,
     "metadata": {},
     "output_type": "execute_result"
    }
   ],
   "source": [
    "\n",
    "hourly[\"Member\"] ==\"Registered\"\n",
    "hourly[\"Casual\"] ==\"Unregistered\"\n",
    "\n",
    "\n"
   ]
  },
  {
   "cell_type": "markdown",
   "metadata": {},
   "source": [
    "## Exploratory Data Analysis"
   ]
  },
  {
   "cell_type": "markdown",
   "metadata": {},
   "source": [
    "Some Hypotheses formulation"
   ]
  },
  {
   "cell_type": "code",
   "execution_count": null,
   "metadata": {},
   "outputs": [],
   "source": [
    "\"\"\"\"\"\n",
    "Hourly trend: most of the businesses have rush hours and weak hours. It should not be an exception for bike rentals as well.\n",
    "\n",
    "Daily Trend: weekdays vs weekends and registered users vs casual users.\n",
    "\n",
    "Relative humdity: the demand for bikes might be changed on a rainy day as compared to a sunny day. Similarly, people prefer to go out on less humid days.\n",
    "\n",
    "Temperature: in warm countries, temperature generally keeps people inside.\n",
    "\n",
    "Business model: businesses often rely on customers who are members more than casual users. There might be some interesting insights that can strengthen this assumption.\n",
    "\"\"\""
   ]
  },
  {
   "cell_type": "code",
   "execution_count": 43,
   "metadata": {},
   "outputs": [
    {
     "data": {
      "text/plain": [
       "<Axes: xlabel='Hour', ylabel='Total_rides'>"
      ]
     },
     "execution_count": 43,
     "metadata": {},
     "output_type": "execute_result"
    },
    {
     "data": {
      "image/png": "[encoded data removed]",
      "text/plain": [
       "<Figure size 640x480 with 1 Axes>"
      ]
     },
     "metadata": {},
     "output_type": "display_data"
    }
   ],
   "source": [
    "import seaborn as sns\n",
    "#sns.set_theme(style=\"darkgrid\")\n",
    "\n",
    "# Load an example dataset with long-form data\n",
    "\n",
    "\n",
    "# Plot the responses for different events and regions\n",
    "sns.lineplot(x=\"Hour\", y=\"Total_rides\",\n",
    "             \n",
    "             data=hourly)"
   ]
  }
 ],
 "metadata": {
  "kernelspec": {
   "display_name": "com",
   "language": "python",
   "name": "python3"
  },
  "language_info": {
   "codemirror_mode": {
    "name": "ipython",
    "version": 3
   },
   "file_extension": ".py",
   "mimetype": "text/x-python",
   "name": "python",
   "nbconvert_exporter": "python",
   "pygments_lexer": "ipython3",
   "version": "3.11.5"
  }
 },
 "nbformat": 4,
 "nbformat_minor": 2
}
