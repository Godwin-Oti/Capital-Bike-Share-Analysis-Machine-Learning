{
 "cells": [
  {
   "cell_type": "code",
   "execution_count": 1,
   "metadata": {},
   "outputs": [
    {
     "name": "stdout",
     "output_type": "stream",
     "text": [
      "Hello World!\n"
     ]
    }
   ],
   "source": [
    "print(\"Hello World!\")"
   ]
  },
  {
   "cell_type": "markdown",
   "metadata": {},
   "source": []
  },
  {
   "cell_type": "code",
   "execution_count": 2,
   "metadata": {},
   "outputs": [],
   "source": [
    "# importing relevant modules\n",
    "import numpy as np\n",
    "import pandas as pd \n",
    "import matplotlib.pyplot as plt\n",
    "import seaborn as sns\n",
    "import scipy.stats as stats\n",
    "from sklearn import preprocessing as sk\n",
    "from sklearn.model_selection import train_test_split\n",
    "from sklearn.linear_model import LogisticRegression \n",
    "from sklearn.metrics import accuracy_score\n",
    "from sklearn.preprocessing import OneHotEncoder\n",
    "from sklearn.preprocessing import LabelEncoder\n",
    "from sklearn.preprocessing import OrdinalEncoder\n",
    "from sklearn.preprocessing import MinMaxScaler, RobustScaler, StandardScaler\n",
    "from sklearn.ensemble import RandomForestClassifier\n",
    "from sklearn import svm \n",
    "from sklearn.metrics import confusion_matrix, ConfusionMatrixDisplay\n",
    "from sklearn.metrics import classification_report\n",
    "from sklearn.model_selection import StratifiedKFold\n",
    "from sklearn.metrics import cohen_kappa_score\n",
    "from sklearn.model_selection import cross_val_score\n",
    "from sklearn.tree import DecisionTreeClassifier\n",
    "from sklearn.ensemble import GradientBoostingClassifier\n",
    "from sklearn.svm import SVC\n",
    "from sklearn.neighbors import KNeighborsClassifier\n",
    "from sklearn.naive_bayes import ComplementNB\n",
    "from sklearn.model_selection import cross_val_predict\n",
    "from sklearn.model_selection import RandomizedSearchCV\n",
    "from scipy.stats import uniform"
   ]
  },
  {
   "cell_type": "markdown",
   "metadata": {},
   "source": [
    "## Capital Bike Share"
   ]
  },
  {
   "cell_type": "code",
   "execution_count": 3,
   "metadata": {},
   "outputs": [
    {
     "data": {
      "text/plain": [
       "'\"\\nThis dataset contains the hourly and daily count of rental bikes between years 2022 and 2023 in Capital bikeshare system with the corresponding weather and seasonal information.\\n\\nAdditional Information aboutb the Variable.\\nBoth hourly.csv and daily.csv have the following fields, except hour which is not available in daily.csv\\n\\n Casual: count of casual users\\n Member: count of member users\\n Date: Year:month:day\\n Hour: (0 to 23)\\n Total_rides: count of total rental bikes including both casual and members \\n relativehumidity_2m (%): Normalized humidity. The values are divided to 100\\n temperature_2m (°C):Normalized temperature in Celsius\\n apparent_temperature_mean (°C): Normalized feeling temperature in Celsius.\\n weathercode (wmo code): represents different weather conditions. \\n windspeed_10m (km/h): Normalized wind speed \\n\\n\\n\\n'"
      ]
     },
     "execution_count": 3,
     "metadata": {},
     "output_type": "execute_result"
    }
   ],
   "source": [
    "\"\"\"\"\n",
    "This dataset contains the hourly and daily count of rental bikes between years 2022 and 2023 in Capital bikeshare system with the corresponding weather and seasonal information.\n",
    "\n",
    "Additional Information aboutb the Variable.\n",
    "Both hourly.csv and daily.csv have the following fields, except hour which is not available in daily.csv\n",
    "\n",
    " Casual: count of casual users\n",
    " Member: count of member users\n",
    " Date: Year:month:day\n",
    " Hour: (0 to 23)\n",
    " Total_rides: count of total rental bikes including both casual and members \n",
    " relativehumidity_2m (%): Normalized humidity. The values are divided to 100\n",
    " temperature_2m (°C):Normalized temperature in Celsius\n",
    " apparent_temperature_mean (°C): Normalized feeling temperature in Celsius.\n",
    " weathercode (wmo code): represents different weather conditions. \n",
    " windspeed_10m (km/h): Normalized wind speed \n",
    "\n",
    "\n",
    "\n",
    "\"\"\""
   ]
  },
  {
   "cell_type": "markdown",
   "metadata": {},
   "source": [
    "## Loading Daily Dataset"
   ]
  },
  {
   "cell_type": "code",
   "execution_count": 4,
   "metadata": {},
   "outputs": [
    {
     "name": "stderr",
     "output_type": "stream",
     "text": [
      "C:\\Users\\godwi\\AppData\\Local\\Temp\\ipykernel_13948\\2472823599.py:2: ParserWarning: Falling back to the 'python' engine because the 'c' engine does not support sep=None with delim_whitespace=False; you can avoid this warning by specifying engine='python'.\n",
      "  daily=pd.read_csv(\"CBS_2021-2023_Daily_Weather.csv\", sep=None)\n"
     ]
    }
   ],
   "source": [
    "# loading csv file\n",
    "daily=pd.read_csv(\"CBS_2021-2023_Daily_Weather.csv\", sep=None)"
   ]
  },
  {
   "cell_type": "code",
   "execution_count": 5,
   "metadata": {},
   "outputs": [
    {
     "name": "stdout",
     "output_type": "stream",
     "text": [
      "<class 'pandas.core.frame.DataFrame'>\n",
      "RangeIndex: 1095 entries, 0 to 1094\n",
      "Data columns (total 8 columns):\n",
      " #   Column                          Non-Null Count  Dtype  \n",
      "---  ------                          --------------  -----  \n",
      " 0   Casual                          1095 non-null   int64  \n",
      " 1   Date                            1095 non-null   object \n",
      " 2   Member                          1095 non-null   int64  \n",
      " 3   Total_rides                     1095 non-null   int64  \n",
      " 4   apparent_temperature_mean (°C)  1095 non-null   float64\n",
      " 5   temperature_2m_mean (°C)        1095 non-null   float64\n",
      " 6   weathercode (wmo code)          1095 non-null   int64  \n",
      " 7   windspeed_10m_max (km/h)        1095 non-null   float64\n",
      "dtypes: float64(3), int64(4), object(1)\n",
      "memory usage: 68.6+ KB\n"
     ]
    }
   ],
   "source": [
    "# getting summary of Data set\n",
    "daily.info()"
   ]
  },
  {
   "cell_type": "code",
   "execution_count": 6,
   "metadata": {},
   "outputs": [
    {
     "data": {
      "text/html": [
       "<div>\n",
       "<style scoped>\n",
       "    .dataframe tbody tr th:only-of-type {\n",
       "        vertical-align: middle;\n",
       "    }\n",
       "\n",
       "    .dataframe tbody tr th {\n",
       "        vertical-align: top;\n",
       "    }\n",
       "\n",
       "    .dataframe thead th {\n",
       "        text-align: right;\n",
       "    }\n",
       "</style>\n",
       "<table border=\"1\" class=\"dataframe\">\n",
       "  <thead>\n",
       "    <tr style=\"text-align: right;\">\n",
       "      <th></th>\n",
       "      <th>Casual</th>\n",
       "      <th>Date</th>\n",
       "      <th>Member</th>\n",
       "      <th>Total_rides</th>\n",
       "      <th>apparent_temperature_mean (°C)</th>\n",
       "      <th>temperature_2m_mean (°C)</th>\n",
       "      <th>weathercode (wmo code)</th>\n",
       "      <th>windspeed_10m_max (km/h)</th>\n",
       "    </tr>\n",
       "  </thead>\n",
       "  <tbody>\n",
       "    <tr>\n",
       "      <th>0</th>\n",
       "      <td>371</td>\n",
       "      <td>2021-01-01</td>\n",
       "      <td>590</td>\n",
       "      <td>961</td>\n",
       "      <td>-0.9</td>\n",
       "      <td>2.3</td>\n",
       "      <td>63</td>\n",
       "      <td>10.6</td>\n",
       "    </tr>\n",
       "    <tr>\n",
       "      <th>1</th>\n",
       "      <td>2874</td>\n",
       "      <td>2021-01-02</td>\n",
       "      <td>2844</td>\n",
       "      <td>5718</td>\n",
       "      <td>4.8</td>\n",
       "      <td>7.6</td>\n",
       "      <td>61</td>\n",
       "      <td>19.1</td>\n",
       "    </tr>\n",
       "    <tr>\n",
       "      <th>2</th>\n",
       "      <td>495</td>\n",
       "      <td>2021-01-03</td>\n",
       "      <td>1133</td>\n",
       "      <td>1628</td>\n",
       "      <td>0.9</td>\n",
       "      <td>3.9</td>\n",
       "      <td>63</td>\n",
       "      <td>13.0</td>\n",
       "    </tr>\n",
       "    <tr>\n",
       "      <th>3</th>\n",
       "      <td>907</td>\n",
       "      <td>2021-01-04</td>\n",
       "      <td>2074</td>\n",
       "      <td>2981</td>\n",
       "      <td>1.0</td>\n",
       "      <td>4.1</td>\n",
       "      <td>3</td>\n",
       "      <td>13.3</td>\n",
       "    </tr>\n",
       "    <tr>\n",
       "      <th>4</th>\n",
       "      <td>1057</td>\n",
       "      <td>2021-01-05</td>\n",
       "      <td>2004</td>\n",
       "      <td>3061</td>\n",
       "      <td>1.4</td>\n",
       "      <td>4.0</td>\n",
       "      <td>51</td>\n",
       "      <td>9.2</td>\n",
       "    </tr>\n",
       "  </tbody>\n",
       "</table>\n",
       "</div>"
      ],
      "text/plain": [
       "   Casual        Date  Member  Total_rides  apparent_temperature_mean (°C)  \\\n",
       "0     371  2021-01-01     590          961                            -0.9   \n",
       "1    2874  2021-01-02    2844         5718                             4.8   \n",
       "2     495  2021-01-03    1133         1628                             0.9   \n",
       "3     907  2021-01-04    2074         2981                             1.0   \n",
       "4    1057  2021-01-05    2004         3061                             1.4   \n",
       "\n",
       "   temperature_2m_mean (°C)  weathercode (wmo code)  windspeed_10m_max (km/h)  \n",
       "0                       2.3                      63                      10.6  \n",
       "1                       7.6                      61                      19.1  \n",
       "2                       3.9                      63                      13.0  \n",
       "3                       4.1                       3                      13.3  \n",
       "4                       4.0                      51                       9.2  "
      ]
     },
     "execution_count": 6,
     "metadata": {},
     "output_type": "execute_result"
    }
   ],
   "source": [
    "daily.head()"
   ]
  },
  {
   "cell_type": "code",
   "execution_count": 7,
   "metadata": {},
   "outputs": [
    {
     "data": {
      "text/html": [
       "<div>\n",
       "<style scoped>\n",
       "    .dataframe tbody tr th:only-of-type {\n",
       "        vertical-align: middle;\n",
       "    }\n",
       "\n",
       "    .dataframe tbody tr th {\n",
       "        vertical-align: top;\n",
       "    }\n",
       "\n",
       "    .dataframe thead th {\n",
       "        text-align: right;\n",
       "    }\n",
       "</style>\n",
       "<table border=\"1\" class=\"dataframe\">\n",
       "  <thead>\n",
       "    <tr style=\"text-align: right;\">\n",
       "      <th></th>\n",
       "      <th>count</th>\n",
       "      <th>mean</th>\n",
       "      <th>std</th>\n",
       "      <th>min</th>\n",
       "      <th>25%</th>\n",
       "      <th>50%</th>\n",
       "      <th>75%</th>\n",
       "      <th>max</th>\n",
       "    </tr>\n",
       "  </thead>\n",
       "  <tbody>\n",
       "    <tr>\n",
       "      <th>Casual</th>\n",
       "      <td>1095.0</td>\n",
       "      <td>3836.72</td>\n",
       "      <td>2114.90</td>\n",
       "      <td>174.0</td>\n",
       "      <td>2122.00</td>\n",
       "      <td>3595.0</td>\n",
       "      <td>5321.00</td>\n",
       "      <td>12839.0</td>\n",
       "    </tr>\n",
       "    <tr>\n",
       "      <th>Member</th>\n",
       "      <td>1095.0</td>\n",
       "      <td>5929.49</td>\n",
       "      <td>2419.27</td>\n",
       "      <td>323.0</td>\n",
       "      <td>4292.50</td>\n",
       "      <td>5848.0</td>\n",
       "      <td>7577.00</td>\n",
       "      <td>12580.0</td>\n",
       "    </tr>\n",
       "    <tr>\n",
       "      <th>Total_rides</th>\n",
       "      <td>1095.0</td>\n",
       "      <td>9766.21</td>\n",
       "      <td>4129.63</td>\n",
       "      <td>497.0</td>\n",
       "      <td>6741.50</td>\n",
       "      <td>9759.0</td>\n",
       "      <td>13020.00</td>\n",
       "      <td>20174.0</td>\n",
       "    </tr>\n",
       "    <tr>\n",
       "      <th>apparent_temperature_mean (°C)</th>\n",
       "      <td>1095.0</td>\n",
       "      <td>12.84</td>\n",
       "      <td>11.89</td>\n",
       "      <td>-15.2</td>\n",
       "      <td>2.70</td>\n",
       "      <td>13.1</td>\n",
       "      <td>23.40</td>\n",
       "      <td>34.7</td>\n",
       "    </tr>\n",
       "    <tr>\n",
       "      <th>temperature_2m_mean (°C)</th>\n",
       "      <td>1095.0</td>\n",
       "      <td>14.41</td>\n",
       "      <td>9.67</td>\n",
       "      <td>-9.1</td>\n",
       "      <td>6.25</td>\n",
       "      <td>14.9</td>\n",
       "      <td>22.75</td>\n",
       "      <td>34.7</td>\n",
       "    </tr>\n",
       "    <tr>\n",
       "      <th>weathercode (wmo code)</th>\n",
       "      <td>1095.0</td>\n",
       "      <td>24.39</td>\n",
       "      <td>27.77</td>\n",
       "      <td>0.0</td>\n",
       "      <td>1.00</td>\n",
       "      <td>3.0</td>\n",
       "      <td>53.00</td>\n",
       "      <td>75.0</td>\n",
       "    </tr>\n",
       "    <tr>\n",
       "      <th>windspeed_10m_max (km/h)</th>\n",
       "      <td>1095.0</td>\n",
       "      <td>16.05</td>\n",
       "      <td>5.88</td>\n",
       "      <td>5.6</td>\n",
       "      <td>11.70</td>\n",
       "      <td>14.7</td>\n",
       "      <td>19.40</td>\n",
       "      <td>40.1</td>\n",
       "    </tr>\n",
       "  </tbody>\n",
       "</table>\n",
       "</div>"
      ],
      "text/plain": [
       "                                 count     mean      std    min      25%  \\\n",
       "Casual                          1095.0  3836.72  2114.90  174.0  2122.00   \n",
       "Member                          1095.0  5929.49  2419.27  323.0  4292.50   \n",
       "Total_rides                     1095.0  9766.21  4129.63  497.0  6741.50   \n",
       "apparent_temperature_mean (°C)  1095.0    12.84    11.89  -15.2     2.70   \n",
       "temperature_2m_mean (°C)        1095.0    14.41     9.67   -9.1     6.25   \n",
       "weathercode (wmo code)          1095.0    24.39    27.77    0.0     1.00   \n",
       "windspeed_10m_max (km/h)        1095.0    16.05     5.88    5.6    11.70   \n",
       "\n",
       "                                   50%       75%      max  \n",
       "Casual                          3595.0   5321.00  12839.0  \n",
       "Member                          5848.0   7577.00  12580.0  \n",
       "Total_rides                     9759.0  13020.00  20174.0  \n",
       "apparent_temperature_mean (°C)    13.1     23.40     34.7  \n",
       "temperature_2m_mean (°C)          14.9     22.75     34.7  \n",
       "weathercode (wmo code)             3.0     53.00     75.0  \n",
       "windspeed_10m_max (km/h)          14.7     19.40     40.1  "
      ]
     },
     "execution_count": 7,
     "metadata": {},
     "output_type": "execute_result"
    }
   ],
   "source": [
    "# getting the statistics of the Dataset\n",
    "daily.describe().round(2).T"
   ]
  },
  {
   "cell_type": "code",
   "execution_count": 8,
   "metadata": {},
   "outputs": [
    {
     "data": {
      "text/plain": [
       "(1095, 8)"
      ]
     },
     "execution_count": 8,
     "metadata": {},
     "output_type": "execute_result"
    }
   ],
   "source": [
    "#getting the shape of the DataFrame\n",
    "daily.shape"
   ]
  },
  {
   "cell_type": "markdown",
   "metadata": {},
   "source": [
    "### Checking for Missing values"
   ]
  },
  {
   "cell_type": "code",
   "execution_count": 10,
   "metadata": {},
   "outputs": [
    {
     "data": {
      "text/plain": [
       "Casual                            0\n",
       "Date                              0\n",
       "Member                            0\n",
       "Total_rides                       0\n",
       "apparent_temperature_mean (°C)    0\n",
       "temperature_2m_mean (°C)          0\n",
       "weathercode (wmo code)            0\n",
       "windspeed_10m_max (km/h)          0\n",
       "dtype: int64"
      ]
     },
     "execution_count": 10,
     "metadata": {},
     "output_type": "execute_result"
    }
   ],
   "source": [
    "## checking for missing values in Data Set\n",
    "daily.isnull().sum()\n",
    "## There are no Missing values "
   ]
  },
  {
   "cell_type": "markdown",
   "metadata": {},
   "source": [
    "## Exploratory Data Analysis"
   ]
  },
  {
   "cell_type": "markdown",
   "metadata": {},
   "source": [
    "Some Hypotheses formulation"
   ]
  },
  {
   "cell_type": "code",
   "execution_count": 11,
   "metadata": {},
   "outputs": [
    {
     "data": {
      "text/plain": [
       "'\"\"\\nHourly trend: most of the businesses have rush hours and weak hours. It should not be an exception for bike rentals as well.\\n\\nDaily Trend: weekdays vs weekends and registered users vs casual users.\\n\\nRelative humdity: the demand for bikes might be changed on a rainy day as compared to a sunny day. Similarly, people prefer to go out on less humid days.\\n\\nTemperature: in warm countries, temperature generally keeps people inside.\\n\\nBusiness model: businesses often rely on customers who are members more than casual users. There might be some interesting insights that can strengthen this assumption.\\n'"
      ]
     },
     "execution_count": 11,
     "metadata": {},
     "output_type": "execute_result"
    }
   ],
   "source": [
    "\"\"\"\"\"\n",
    "Hourly trend: most of the businesses have rush hours and weak hours. It should not be an exception for bike rentals as well.\n",
    "\n",
    "Daily Trend: weekdays vs weekends and registered users vs casual users.\n",
    "\n",
    "Relative humdity: the demand for bikes might be changed on a rainy day as compared to a sunny day. Similarly, people prefer to go out on less humid days.\n",
    "\n",
    "Temperature: in warm countries, temperature generally keeps people inside.\n",
    "\n",
    "Business model: businesses often rely on customers who are members more than casual users. There might be some interesting insights that can strengthen this assumption.\n",
    "\"\"\""
   ]
  },
  {
   "cell_type": "code",
   "execution_count": null,
   "metadata": {},
   "outputs": [],
   "source": [
    "#sns.set_theme(style=\"darkgrid\")\n",
    "\n",
    "# Load an example dataset with long-form data\n",
    "\n",
    "\n",
    "# Plot the responses for different events and regions\n",
    "sns.lineplot(x=\"Hour\", y=\"Total_rides\",\n",
    "             \n",
    "             data=hourly)"
   ]
  }
 ],
 "metadata": {
  "kernelspec": {
   "display_name": "base",
   "language": "python",
   "name": "python3"
  },
  "language_info": {
   "codemirror_mode": {
    "name": "ipython",
    "version": 3
   },
   "file_extension": ".py",
   "mimetype": "text/x-python",
   "name": "python",
   "nbconvert_exporter": "python",
   "pygments_lexer": "ipython3",
   "version": "3.11.5"
  }
 },
 "nbformat": 4,
 "nbformat_minor": 2
}
