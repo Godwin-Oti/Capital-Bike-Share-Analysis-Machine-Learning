{
 "cells": [
  {
   "cell_type": "code",
   "execution_count": 2,
   "metadata": {},
   "outputs": [
    {
     "name": "stdout",
     "output_type": "stream",
     "text": [
      "Hello World!\n"
     ]
    }
   ],
   "source": [
    "print(\"Hello World!\")"
   ]
  },
  {
   "cell_type": "markdown",
   "metadata": {},
   "source": []
  },
  {
   "cell_type": "code",
   "execution_count": 3,
   "metadata": {},
   "outputs": [],
   "source": [
    "# importing relevant modules\n",
    "import numpy as np\n",
    "import pandas as pd \n",
    "import matplotlib.pyplot as plt\n",
    "import seaborn as sns\n",
    "import scipy.stats as stats\n",
    "from sklearn import preprocessing as sk\n",
    "from sklearn.model_selection import train_test_split\n",
    "from sklearn.linear_model import LogisticRegression \n",
    "from sklearn.metrics import accuracy_score\n",
    "from sklearn.preprocessing import OneHotEncoder\n",
    "from sklearn.preprocessing import LabelEncoder\n",
    "from sklearn.preprocessing import OrdinalEncoder\n",
    "from sklearn.preprocessing import MinMaxScaler, RobustScaler, StandardScaler\n",
    "from sklearn.ensemble import RandomForestClassifier\n",
    "from sklearn import svm \n",
    "from sklearn.metrics import confusion_matrix, ConfusionMatrixDisplay\n",
    "from sklearn.metrics import classification_report\n",
    "from sklearn.model_selection import StratifiedKFold\n",
    "from sklearn.metrics import cohen_kappa_score\n",
    "from sklearn.model_selection import cross_val_score\n",
    "from sklearn.tree import DecisionTreeClassifier\n",
    "from sklearn.ensemble import GradientBoostingClassifier\n",
    "from sklearn.svm import SVC\n",
    "from sklearn.neighbors import KNeighborsClassifier\n",
    "from sklearn.naive_bayes import ComplementNB\n",
    "from sklearn.model_selection import cross_val_predict\n",
    "from sklearn.model_selection import RandomizedSearchCV\n",
    "from scipy.stats import uniform\n",
    "from datetime import datetime"
   ]
  },
  {
   "cell_type": "markdown",
   "metadata": {},
   "source": [
    "## Capital Bike Share"
   ]
  },
  {
   "cell_type": "code",
   "execution_count": 4,
   "metadata": {},
   "outputs": [
    {
     "data": {
      "text/plain": [
       "'\"\\nThis dataset contains the hourly and daily count of rental bikes between years 2022 and 2023 in Capital bikeshare system with the corresponding weather and seasonal information.\\n\\nAdditional Information aboutb the Variable.\\nBoth hourly.csv and daily.csv have the following fields, except hour which is not available in daily.csv\\n\\n Casual: count of casual users\\n Member: count of member users\\n Date: Year:month:day\\n Hour: (0 to 23)\\n Total_rides: count of total rental bikes including both casual and members \\n relativehumidity_2m (%): Normalized humidity. The values are divided to 100\\n temperature_2m (°C):Normalized temperature in Celsius\\n apparent_temperature_mean (°C): Normalized feeling temperature in Celsius.\\n weathercode (wmo code): represents different weather conditions. \\n windspeed_10m (km/h): Normalized wind speed \\n\\n\\n\\n'"
      ]
     },
     "execution_count": 4,
     "metadata": {},
     "output_type": "execute_result"
    }
   ],
   "source": [
    "\"\"\"\"\n",
    "This dataset contains the hourly and daily count of rental bikes between years 2022 and 2023 in Capital bikeshare system with the corresponding weather and seasonal information.\n",
    "\n",
    "Additional Information aboutb the Variable.\n",
    "Both hourly.csv and daily.csv have the following fields, except hour which is not available in daily.csv\n",
    "\n",
    " Casual: count of casual users\n",
    " Member: count of member users\n",
    " Date: Year:month:day\n",
    " Hour: (0 to 23)\n",
    " Total_rides: count of total rental bikes including both casual and members \n",
    " relativehumidity_2m (%): Normalized humidity. The values are divided to 100\n",
    " temperature_2m (°C):Normalized temperature in Celsius\n",
    " apparent_temperature_mean (°C): Normalized feeling temperature in Celsius.\n",
    " weathercode (wmo code): represents different weather conditions. \n",
    " windspeed_10m (km/h): Normalized wind speed \n",
    "\n",
    "\n",
    "\n",
    "\"\"\""
   ]
  },
  {
   "cell_type": "markdown",
   "metadata": {},
   "source": [
    "## Loading Daily Dataset"
   ]
  },
  {
   "cell_type": "code",
   "execution_count": 5,
   "metadata": {},
   "outputs": [
    {
     "name": "stderr",
     "output_type": "stream",
     "text": [
      "C:\\Users\\godwi\\AppData\\Local\\Temp\\ipykernel_2392\\2472823599.py:2: ParserWarning: Falling back to the 'python' engine because the 'c' engine does not support sep=None with delim_whitespace=False; you can avoid this warning by specifying engine='python'.\n",
      "  daily=pd.read_csv(\"CBS_2021-2023_Daily_Weather.csv\", sep=None)\n"
     ]
    }
   ],
   "source": [
    "# loading csv file\n",
    "daily=pd.read_csv(\"CBS_2021-2023_Daily_Weather.csv\", sep=None)"
   ]
  },
  {
   "cell_type": "code",
   "execution_count": 6,
   "metadata": {},
   "outputs": [
    {
     "name": "stdout",
     "output_type": "stream",
     "text": [
      "<class 'pandas.core.frame.DataFrame'>\n",
      "RangeIndex: 1095 entries, 0 to 1094\n",
      "Data columns (total 8 columns):\n",
      " #   Column                          Non-Null Count  Dtype  \n",
      "---  ------                          --------------  -----  \n",
      " 0   Casual                          1095 non-null   int64  \n",
      " 1   Date                            1095 non-null   object \n",
      " 2   Member                          1095 non-null   int64  \n",
      " 3   Total_rides                     1095 non-null   int64  \n",
      " 4   apparent_temperature_mean (°C)  1095 non-null   float64\n",
      " 5   temperature_2m_mean (°C)        1095 non-null   float64\n",
      " 6   weathercode (wmo code)          1095 non-null   int64  \n",
      " 7   windspeed_10m_max (km/h)        1095 non-null   float64\n",
      "dtypes: float64(3), int64(4), object(1)\n",
      "memory usage: 68.6+ KB\n"
     ]
    }
   ],
   "source": [
    "# getting summary of Data set\n",
    "daily.info()"
   ]
  },
  {
   "cell_type": "code",
   "execution_count": 7,
   "metadata": {},
   "outputs": [
    {
     "data": {
      "text/html": [
       "<div>\n",
       "<style scoped>\n",
       "    .dataframe tbody tr th:only-of-type {\n",
       "        vertical-align: middle;\n",
       "    }\n",
       "\n",
       "    .dataframe tbody tr th {\n",
       "        vertical-align: top;\n",
       "    }\n",
       "\n",
       "    .dataframe thead th {\n",
       "        text-align: right;\n",
       "    }\n",
       "</style>\n",
       "<table border=\"1\" class=\"dataframe\">\n",
       "  <thead>\n",
       "    <tr style=\"text-align: right;\">\n",
       "      <th></th>\n",
       "      <th>Casual</th>\n",
       "      <th>Date</th>\n",
       "      <th>Member</th>\n",
       "      <th>Total_rides</th>\n",
       "      <th>apparent_temperature_mean (°C)</th>\n",
       "      <th>temperature_2m_mean (°C)</th>\n",
       "      <th>weathercode (wmo code)</th>\n",
       "      <th>windspeed_10m_max (km/h)</th>\n",
       "    </tr>\n",
       "  </thead>\n",
       "  <tbody>\n",
       "    <tr>\n",
       "      <th>0</th>\n",
       "      <td>371</td>\n",
       "      <td>2021-01-01</td>\n",
       "      <td>590</td>\n",
       "      <td>961</td>\n",
       "      <td>-0.9</td>\n",
       "      <td>2.3</td>\n",
       "      <td>63</td>\n",
       "      <td>10.6</td>\n",
       "    </tr>\n",
       "    <tr>\n",
       "      <th>1</th>\n",
       "      <td>2874</td>\n",
       "      <td>2021-01-02</td>\n",
       "      <td>2844</td>\n",
       "      <td>5718</td>\n",
       "      <td>4.8</td>\n",
       "      <td>7.6</td>\n",
       "      <td>61</td>\n",
       "      <td>19.1</td>\n",
       "    </tr>\n",
       "    <tr>\n",
       "      <th>2</th>\n",
       "      <td>495</td>\n",
       "      <td>2021-01-03</td>\n",
       "      <td>1133</td>\n",
       "      <td>1628</td>\n",
       "      <td>0.9</td>\n",
       "      <td>3.9</td>\n",
       "      <td>63</td>\n",
       "      <td>13.0</td>\n",
       "    </tr>\n",
       "    <tr>\n",
       "      <th>3</th>\n",
       "      <td>907</td>\n",
       "      <td>2021-01-04</td>\n",
       "      <td>2074</td>\n",
       "      <td>2981</td>\n",
       "      <td>1.0</td>\n",
       "      <td>4.1</td>\n",
       "      <td>3</td>\n",
       "      <td>13.3</td>\n",
       "    </tr>\n",
       "    <tr>\n",
       "      <th>4</th>\n",
       "      <td>1057</td>\n",
       "      <td>2021-01-05</td>\n",
       "      <td>2004</td>\n",
       "      <td>3061</td>\n",
       "      <td>1.4</td>\n",
       "      <td>4.0</td>\n",
       "      <td>51</td>\n",
       "      <td>9.2</td>\n",
       "    </tr>\n",
       "  </tbody>\n",
       "</table>\n",
       "</div>"
      ],
      "text/plain": [
       "   Casual        Date  Member  Total_rides  apparent_temperature_mean (°C)  \\\n",
       "0     371  2021-01-01     590          961                            -0.9   \n",
       "1    2874  2021-01-02    2844         5718                             4.8   \n",
       "2     495  2021-01-03    1133         1628                             0.9   \n",
       "3     907  2021-01-04    2074         2981                             1.0   \n",
       "4    1057  2021-01-05    2004         3061                             1.4   \n",
       "\n",
       "   temperature_2m_mean (°C)  weathercode (wmo code)  windspeed_10m_max (km/h)  \n",
       "0                       2.3                      63                      10.6  \n",
       "1                       7.6                      61                      19.1  \n",
       "2                       3.9                      63                      13.0  \n",
       "3                       4.1                       3                      13.3  \n",
       "4                       4.0                      51                       9.2  "
      ]
     },
     "execution_count": 7,
     "metadata": {},
     "output_type": "execute_result"
    }
   ],
   "source": [
    "daily.head()"
   ]
  },
  {
   "cell_type": "code",
   "execution_count": 8,
   "metadata": {},
   "outputs": [
    {
     "data": {
      "text/html": [
       "<div>\n",
       "<style scoped>\n",
       "    .dataframe tbody tr th:only-of-type {\n",
       "        vertical-align: middle;\n",
       "    }\n",
       "\n",
       "    .dataframe tbody tr th {\n",
       "        vertical-align: top;\n",
       "    }\n",
       "\n",
       "    .dataframe thead th {\n",
       "        text-align: right;\n",
       "    }\n",
       "</style>\n",
       "<table border=\"1\" class=\"dataframe\">\n",
       "  <thead>\n",
       "    <tr style=\"text-align: right;\">\n",
       "      <th></th>\n",
       "      <th>count</th>\n",
       "      <th>mean</th>\n",
       "      <th>std</th>\n",
       "      <th>min</th>\n",
       "      <th>25%</th>\n",
       "      <th>50%</th>\n",
       "      <th>75%</th>\n",
       "      <th>max</th>\n",
       "    </tr>\n",
       "  </thead>\n",
       "  <tbody>\n",
       "    <tr>\n",
       "      <th>Casual</th>\n",
       "      <td>1095.0</td>\n",
       "      <td>3836.72</td>\n",
       "      <td>2114.90</td>\n",
       "      <td>174.0</td>\n",
       "      <td>2122.00</td>\n",
       "      <td>3595.0</td>\n",
       "      <td>5321.00</td>\n",
       "      <td>12839.0</td>\n",
       "    </tr>\n",
       "    <tr>\n",
       "      <th>Member</th>\n",
       "      <td>1095.0</td>\n",
       "      <td>5929.49</td>\n",
       "      <td>2419.27</td>\n",
       "      <td>323.0</td>\n",
       "      <td>4292.50</td>\n",
       "      <td>5848.0</td>\n",
       "      <td>7577.00</td>\n",
       "      <td>12580.0</td>\n",
       "    </tr>\n",
       "    <tr>\n",
       "      <th>Total_rides</th>\n",
       "      <td>1095.0</td>\n",
       "      <td>9766.21</td>\n",
       "      <td>4129.63</td>\n",
       "      <td>497.0</td>\n",
       "      <td>6741.50</td>\n",
       "      <td>9759.0</td>\n",
       "      <td>13020.00</td>\n",
       "      <td>20174.0</td>\n",
       "    </tr>\n",
       "    <tr>\n",
       "      <th>apparent_temperature_mean (°C)</th>\n",
       "      <td>1095.0</td>\n",
       "      <td>12.84</td>\n",
       "      <td>11.89</td>\n",
       "      <td>-15.2</td>\n",
       "      <td>2.70</td>\n",
       "      <td>13.1</td>\n",
       "      <td>23.40</td>\n",
       "      <td>34.7</td>\n",
       "    </tr>\n",
       "    <tr>\n",
       "      <th>temperature_2m_mean (°C)</th>\n",
       "      <td>1095.0</td>\n",
       "      <td>14.41</td>\n",
       "      <td>9.67</td>\n",
       "      <td>-9.1</td>\n",
       "      <td>6.25</td>\n",
       "      <td>14.9</td>\n",
       "      <td>22.75</td>\n",
       "      <td>34.7</td>\n",
       "    </tr>\n",
       "    <tr>\n",
       "      <th>weathercode (wmo code)</th>\n",
       "      <td>1095.0</td>\n",
       "      <td>24.39</td>\n",
       "      <td>27.77</td>\n",
       "      <td>0.0</td>\n",
       "      <td>1.00</td>\n",
       "      <td>3.0</td>\n",
       "      <td>53.00</td>\n",
       "      <td>75.0</td>\n",
       "    </tr>\n",
       "    <tr>\n",
       "      <th>windspeed_10m_max (km/h)</th>\n",
       "      <td>1095.0</td>\n",
       "      <td>16.05</td>\n",
       "      <td>5.88</td>\n",
       "      <td>5.6</td>\n",
       "      <td>11.70</td>\n",
       "      <td>14.7</td>\n",
       "      <td>19.40</td>\n",
       "      <td>40.1</td>\n",
       "    </tr>\n",
       "  </tbody>\n",
       "</table>\n",
       "</div>"
      ],
      "text/plain": [
       "                                 count     mean      std    min      25%  \\\n",
       "Casual                          1095.0  3836.72  2114.90  174.0  2122.00   \n",
       "Member                          1095.0  5929.49  2419.27  323.0  4292.50   \n",
       "Total_rides                     1095.0  9766.21  4129.63  497.0  6741.50   \n",
       "apparent_temperature_mean (°C)  1095.0    12.84    11.89  -15.2     2.70   \n",
       "temperature_2m_mean (°C)        1095.0    14.41     9.67   -9.1     6.25   \n",
       "weathercode (wmo code)          1095.0    24.39    27.77    0.0     1.00   \n",
       "windspeed_10m_max (km/h)        1095.0    16.05     5.88    5.6    11.70   \n",
       "\n",
       "                                   50%       75%      max  \n",
       "Casual                          3595.0   5321.00  12839.0  \n",
       "Member                          5848.0   7577.00  12580.0  \n",
       "Total_rides                     9759.0  13020.00  20174.0  \n",
       "apparent_temperature_mean (°C)    13.1     23.40     34.7  \n",
       "temperature_2m_mean (°C)          14.9     22.75     34.7  \n",
       "weathercode (wmo code)             3.0     53.00     75.0  \n",
       "windspeed_10m_max (km/h)          14.7     19.40     40.1  "
      ]
     },
     "execution_count": 8,
     "metadata": {},
     "output_type": "execute_result"
    }
   ],
   "source": [
    "# getting the statistics of the Dataset\n",
    "daily.describe().round(2).T"
   ]
  },
  {
   "cell_type": "code",
   "execution_count": 9,
   "metadata": {},
   "outputs": [
    {
     "data": {
      "text/plain": [
       "(1095, 8)"
      ]
     },
     "execution_count": 9,
     "metadata": {},
     "output_type": "execute_result"
    }
   ],
   "source": [
    "#getting the shape of the DataFrame\n",
    "daily.shape"
   ]
  },
  {
   "cell_type": "markdown",
   "metadata": {},
   "source": [
    "## Data Wrangling"
   ]
  },
  {
   "cell_type": "markdown",
   "metadata": {},
   "source": [
    "Renaming some features"
   ]
  },
  {
   "cell_type": "code",
   "execution_count": 10,
   "metadata": {},
   "outputs": [],
   "source": [
    "## renaming some features\n",
    "daily.rename(columns={'Member': 'Registered'}, inplace=True)"
   ]
  },
  {
   "cell_type": "code",
   "execution_count": 11,
   "metadata": {},
   "outputs": [],
   "source": [
    "# convert some features to correct Data type \n",
    "daily['Casual'] = daily['Casual'].astype(int)\n",
    "daily['Registered'] = daily['Registered'].astype(int)\n",
    "daily['Total_rides'] = daily['Total_rides'].astype(int)"
   ]
  },
  {
   "cell_type": "code",
   "execution_count": 12,
   "metadata": {},
   "outputs": [
    {
     "name": "stdout",
     "output_type": "stream",
     "text": [
      "<class 'pandas.core.frame.DataFrame'>\n",
      "RangeIndex: 1095 entries, 0 to 1094\n",
      "Data columns (total 8 columns):\n",
      " #   Column                          Non-Null Count  Dtype  \n",
      "---  ------                          --------------  -----  \n",
      " 0   Casual                          1095 non-null   int32  \n",
      " 1   Date                            1095 non-null   object \n",
      " 2   Registered                      1095 non-null   int32  \n",
      " 3   Total_rides                     1095 non-null   int32  \n",
      " 4   apparent_temperature_mean (°C)  1095 non-null   float64\n",
      " 5   temperature_2m_mean (°C)        1095 non-null   float64\n",
      " 6   weathercode (wmo code)          1095 non-null   int64  \n",
      " 7   windspeed_10m_max (km/h)        1095 non-null   float64\n",
      "dtypes: float64(3), int32(3), int64(1), object(1)\n",
      "memory usage: 55.7+ KB\n"
     ]
    }
   ],
   "source": [
    "daily.info()"
   ]
  },
  {
   "cell_type": "markdown",
   "metadata": {},
   "source": [
    "### Checking for Missing values"
   ]
  },
  {
   "cell_type": "code",
   "execution_count": 13,
   "metadata": {},
   "outputs": [
    {
     "data": {
      "text/plain": [
       "Casual                            0\n",
       "Date                              0\n",
       "Registered                        0\n",
       "Total_rides                       0\n",
       "apparent_temperature_mean (°C)    0\n",
       "temperature_2m_mean (°C)          0\n",
       "weathercode (wmo code)            0\n",
       "windspeed_10m_max (km/h)          0\n",
       "dtype: int64"
      ]
     },
     "execution_count": 13,
     "metadata": {},
     "output_type": "execute_result"
    }
   ],
   "source": [
    "## checking for missing values in Data Set\n",
    "daily.isnull().sum()\n",
    "## There are no Missing values "
   ]
  },
  {
   "cell_type": "markdown",
   "metadata": {},
   "source": [
    "## Creating of new columns"
   ]
  },
  {
   "cell_type": "code",
   "execution_count": 14,
   "metadata": {},
   "outputs": [],
   "source": [
    "#Season\n",
    "# Function to get season\n",
    "def get_season(month):\n",
    "    if month in [12, 1, 2]:\n",
    "        return \"Winter\"\n",
    "    elif month in [3, 4, 5]:\n",
    "        return \"Spring\"\n",
    "    elif month in [6, 7, 8]:\n",
    "        return \"Summer\"\n",
    "    elif month in [9, 10, 11]:\n",
    "        return \"Fall\"\n",
    "\n",
    "# Function to categorize season based on date\n",
    "def categorize_season(date):\n",
    "    dt = datetime.strptime(date, \"%Y-%m-%d\")\n",
    "    month = dt.month\n",
    "    return get_season(month)\n",
    "\n",
    "# Apply function to create a new column\n",
    "daily['Season'] = daily['Date'].apply(categorize_season)\n",
    "\n"
   ]
  },
  {
   "cell_type": "code",
   "execution_count": 15,
   "metadata": {},
   "outputs": [],
   "source": [
    "##WEEKDAY\n",
    "# Function to get weekday\n",
    "def get_weekday(day):\n",
    "    weekdays = [\"Mon.\", \"Tue.\", \"Wed.\", \"Thur.\", \"Fri.\", \"Sat.\", \"Sun.\"]\n",
    "    return weekdays[day]\n",
    "\n",
    "# Function to categorize weekday based on date\n",
    "def categorize_week(date):\n",
    "    dt = datetime.strptime(date, \"%Y-%m-%d\")\n",
    "    weekday = dt.weekday()  # 0 for Monday, 1 for Tuesday, ..., 6 for Sunday\n",
    "    return get_weekday(weekday)\n",
    "\n",
    "# Apply function to create a new column\n",
    "daily['Weekday'] = daily['Date'].apply(categorize_week)"
   ]
  },
  {
   "cell_type": "code",
   "execution_count": 16,
   "metadata": {},
   "outputs": [],
   "source": [
    "#Month\n",
    "# Function to get month\n",
    "def get_month(month):\n",
    "    months = [\"Jan.\", \"Feb.\", \"Mar.\", \"Apr.\", \"May\", \"Jun.\", \"Jul.\", \"Aug.\", \"Sep.\", \"Oct.\", \"Nov.\", \"Dec.\"]\n",
    "    return months[month - 1]\n",
    "\n",
    "# Function to categorize month based on date\n",
    "def categorize_month(date):\n",
    "    dt = datetime.strptime(date, \"%Y-%m-%d\")\n",
    "    month = dt.month\n",
    "    return get_month(month)\n",
    "\n",
    "# Apply function to create a new column\n",
    "daily['Month'] = daily['Date'].apply(categorize_month)"
   ]
  },
  {
   "cell_type": "code",
   "execution_count": 17,
   "metadata": {},
   "outputs": [
    {
     "data": {
      "text/html": [
       "<div>\n",
       "<style scoped>\n",
       "    .dataframe tbody tr th:only-of-type {\n",
       "        vertical-align: middle;\n",
       "    }\n",
       "\n",
       "    .dataframe tbody tr th {\n",
       "        vertical-align: top;\n",
       "    }\n",
       "\n",
       "    .dataframe thead th {\n",
       "        text-align: right;\n",
       "    }\n",
       "</style>\n",
       "<table border=\"1\" class=\"dataframe\">\n",
       "  <thead>\n",
       "    <tr style=\"text-align: right;\">\n",
       "      <th></th>\n",
       "      <th>Casual</th>\n",
       "      <th>Date</th>\n",
       "      <th>Registered</th>\n",
       "      <th>Total_rides</th>\n",
       "      <th>apparent_temperature_mean (°C)</th>\n",
       "      <th>temperature_2m_mean (°C)</th>\n",
       "      <th>weathercode (wmo code)</th>\n",
       "      <th>windspeed_10m_max (km/h)</th>\n",
       "      <th>Season</th>\n",
       "      <th>Weekday</th>\n",
       "      <th>Month</th>\n",
       "    </tr>\n",
       "  </thead>\n",
       "  <tbody>\n",
       "    <tr>\n",
       "      <th>0</th>\n",
       "      <td>371</td>\n",
       "      <td>2021-01-01</td>\n",
       "      <td>590</td>\n",
       "      <td>961</td>\n",
       "      <td>-0.9</td>\n",
       "      <td>2.3</td>\n",
       "      <td>63</td>\n",
       "      <td>10.6</td>\n",
       "      <td>Winter</td>\n",
       "      <td>Fri.</td>\n",
       "      <td>Jan.</td>\n",
       "    </tr>\n",
       "    <tr>\n",
       "      <th>1</th>\n",
       "      <td>2874</td>\n",
       "      <td>2021-01-02</td>\n",
       "      <td>2844</td>\n",
       "      <td>5718</td>\n",
       "      <td>4.8</td>\n",
       "      <td>7.6</td>\n",
       "      <td>61</td>\n",
       "      <td>19.1</td>\n",
       "      <td>Winter</td>\n",
       "      <td>Sat.</td>\n",
       "      <td>Jan.</td>\n",
       "    </tr>\n",
       "    <tr>\n",
       "      <th>2</th>\n",
       "      <td>495</td>\n",
       "      <td>2021-01-03</td>\n",
       "      <td>1133</td>\n",
       "      <td>1628</td>\n",
       "      <td>0.9</td>\n",
       "      <td>3.9</td>\n",
       "      <td>63</td>\n",
       "      <td>13.0</td>\n",
       "      <td>Winter</td>\n",
       "      <td>Sun.</td>\n",
       "      <td>Jan.</td>\n",
       "    </tr>\n",
       "    <tr>\n",
       "      <th>3</th>\n",
       "      <td>907</td>\n",
       "      <td>2021-01-04</td>\n",
       "      <td>2074</td>\n",
       "      <td>2981</td>\n",
       "      <td>1.0</td>\n",
       "      <td>4.1</td>\n",
       "      <td>3</td>\n",
       "      <td>13.3</td>\n",
       "      <td>Winter</td>\n",
       "      <td>Mon.</td>\n",
       "      <td>Jan.</td>\n",
       "    </tr>\n",
       "    <tr>\n",
       "      <th>4</th>\n",
       "      <td>1057</td>\n",
       "      <td>2021-01-05</td>\n",
       "      <td>2004</td>\n",
       "      <td>3061</td>\n",
       "      <td>1.4</td>\n",
       "      <td>4.0</td>\n",
       "      <td>51</td>\n",
       "      <td>9.2</td>\n",
       "      <td>Winter</td>\n",
       "      <td>Tue.</td>\n",
       "      <td>Jan.</td>\n",
       "    </tr>\n",
       "  </tbody>\n",
       "</table>\n",
       "</div>"
      ],
      "text/plain": [
       "   Casual        Date  Registered  Total_rides  \\\n",
       "0     371  2021-01-01         590          961   \n",
       "1    2874  2021-01-02        2844         5718   \n",
       "2     495  2021-01-03        1133         1628   \n",
       "3     907  2021-01-04        2074         2981   \n",
       "4    1057  2021-01-05        2004         3061   \n",
       "\n",
       "   apparent_temperature_mean (°C)  temperature_2m_mean (°C)  \\\n",
       "0                            -0.9                       2.3   \n",
       "1                             4.8                       7.6   \n",
       "2                             0.9                       3.9   \n",
       "3                             1.0                       4.1   \n",
       "4                             1.4                       4.0   \n",
       "\n",
       "   weathercode (wmo code)  windspeed_10m_max (km/h)  Season Weekday Month  \n",
       "0                      63                      10.6  Winter    Fri.  Jan.  \n",
       "1                      61                      19.1  Winter    Sat.  Jan.  \n",
       "2                      63                      13.0  Winter    Sun.  Jan.  \n",
       "3                       3                      13.3  Winter    Mon.  Jan.  \n",
       "4                      51                       9.2  Winter    Tue.  Jan.  "
      ]
     },
     "execution_count": 17,
     "metadata": {},
     "output_type": "execute_result"
    }
   ],
   "source": [
    "daily.head()"
   ]
  },
  {
   "cell_type": "markdown",
   "metadata": {},
   "source": [
    "2021 Data Frame"
   ]
  },
  {
   "cell_type": "code",
   "execution_count": 18,
   "metadata": {},
   "outputs": [],
   "source": [
    "# Convert 'Date' column to datetime type\n",
    "daily['Date'] = pd.to_datetime(daily['Date'])\n",
    "\n",
    "# Filter the DataFrame for rows where the year is 2021\n",
    "daily_2021 = daily[daily['Date'].dt.year == 2021]\n"
   ]
  },
  {
   "cell_type": "code",
   "execution_count": 19,
   "metadata": {},
   "outputs": [
    {
     "data": {
      "text/plain": [
       "(365, 11)"
      ]
     },
     "execution_count": 19,
     "metadata": {},
     "output_type": "execute_result"
    }
   ],
   "source": [
    "daily_2021.shape"
   ]
  },
  {
   "cell_type": "code",
   "execution_count": 20,
   "metadata": {},
   "outputs": [
    {
     "name": "stderr",
     "output_type": "stream",
     "text": [
      "C:\\Users\\godwi\\AppData\\Local\\Temp\\ipykernel_2392\\3999199966.py:4: SettingWithCopyWarning: \n",
      "A value is trying to be set on a copy of a slice from a DataFrame\n",
      "\n",
      "See the caveats in the documentation: https://pandas.pydata.org/pandas-docs/stable/user_guide/indexing.html#returning-a-view-versus-a-copy\n",
      "  daily_2021.drop([\"index\"],axis=1, inplace=True)\n"
     ]
    }
   ],
   "source": [
    "# resetting index\n",
    "daily_2021.reset_index(inplace=True)\n",
    "#dropping the index column\n",
    "daily_2021.drop([\"index\"],axis=1, inplace=True)"
   ]
  },
  {
   "cell_type": "code",
   "execution_count": 21,
   "metadata": {},
   "outputs": [
    {
     "data": {
      "text/plain": [
       "(365, 11)"
      ]
     },
     "execution_count": 21,
     "metadata": {},
     "output_type": "execute_result"
    }
   ],
   "source": [
    "daily_2021.shape"
   ]
  },
  {
   "cell_type": "markdown",
   "metadata": {},
   "source": [
    "2022 DataFrame"
   ]
  },
  {
   "cell_type": "code",
   "execution_count": 22,
   "metadata": {},
   "outputs": [],
   "source": [
    "# Convert 'Date' column to datetime type\n",
    "daily['Date'] = pd.to_datetime(daily['Date'])\n",
    "\n",
    "# Filter the DataFrame for rows where the year is 2022\n",
    "daily_2022 = daily[daily['Date'].dt.year == 2022]\n"
   ]
  },
  {
   "cell_type": "code",
   "execution_count": 23,
   "metadata": {},
   "outputs": [
    {
     "name": "stderr",
     "output_type": "stream",
     "text": [
      "C:\\Users\\godwi\\AppData\\Local\\Temp\\ipykernel_2392\\2756519225.py:4: SettingWithCopyWarning: \n",
      "A value is trying to be set on a copy of a slice from a DataFrame\n",
      "\n",
      "See the caveats in the documentation: https://pandas.pydata.org/pandas-docs/stable/user_guide/indexing.html#returning-a-view-versus-a-copy\n",
      "  daily_2022.drop([\"index\"],axis=1, inplace=True)\n"
     ]
    }
   ],
   "source": [
    "# resetting index\n",
    "daily_2022.reset_index(inplace=True)\n",
    "#dropping the index column\n",
    "daily_2022.drop([\"index\"],axis=1, inplace=True)"
   ]
  },
  {
   "cell_type": "code",
   "execution_count": 24,
   "metadata": {},
   "outputs": [
    {
     "data": {
      "text/plain": [
       "(365, 11)"
      ]
     },
     "execution_count": 24,
     "metadata": {},
     "output_type": "execute_result"
    }
   ],
   "source": [
    "daily_2022.shape"
   ]
  },
  {
   "cell_type": "markdown",
   "metadata": {},
   "source": [
    "2023 Data Frame"
   ]
  },
  {
   "cell_type": "code",
   "execution_count": 25,
   "metadata": {},
   "outputs": [],
   "source": [
    "# Convert 'Date' column to datetime type\n",
    "daily['Date'] = pd.to_datetime(daily['Date'])\n",
    "\n",
    "# Filter the DataFrame for rows where the year is 2023\n",
    "daily_2023 = daily[daily['Date'].dt.year == 2023]\n"
   ]
  },
  {
   "cell_type": "code",
   "execution_count": 26,
   "metadata": {},
   "outputs": [
    {
     "name": "stderr",
     "output_type": "stream",
     "text": [
      "C:\\Users\\godwi\\AppData\\Local\\Temp\\ipykernel_2392\\2160153949.py:4: SettingWithCopyWarning: \n",
      "A value is trying to be set on a copy of a slice from a DataFrame\n",
      "\n",
      "See the caveats in the documentation: https://pandas.pydata.org/pandas-docs/stable/user_guide/indexing.html#returning-a-view-versus-a-copy\n",
      "  daily_2023.drop([\"index\"],axis=1, inplace=True)\n"
     ]
    }
   ],
   "source": [
    "# resetting index\n",
    "daily_2023.reset_index(inplace=True)\n",
    "#dropping the index column\n",
    "daily_2023.drop([\"index\"],axis=1, inplace=True)"
   ]
  },
  {
   "cell_type": "code",
   "execution_count": 27,
   "metadata": {},
   "outputs": [
    {
     "data": {
      "text/plain": [
       "(365, 11)"
      ]
     },
     "execution_count": 27,
     "metadata": {},
     "output_type": "execute_result"
    }
   ],
   "source": [
    "daily_2023.shape"
   ]
  },
  {
   "cell_type": "markdown",
   "metadata": {},
   "source": [
    "## Exploratory Data Analysis"
   ]
  },
  {
   "cell_type": "markdown",
   "metadata": {},
   "source": [
    "Some Hypotheses formulation"
   ]
  },
  {
   "cell_type": "code",
   "execution_count": 28,
   "metadata": {},
   "outputs": [
    {
     "data": {
      "text/plain": [
       "'\"\"\\nHourly trend: most of the businesses have rush hours and weak hours. It should not be an exception for bike rentals as well.\\n\\nDaily Trend: weekdays vs weekends and registered users vs casual users.\\n\\nRelative humdity: the demand for bikes might be changed on a rainy day as compared to a sunny day. Similarly, people prefer to go out on less humid days.\\n\\nTemperature: in warm countries, temperature generally keeps people inside.\\n\\nBusiness model: businesses often rely on customers who are members more than casual users. There might be some interesting insights that can strengthen this assumption.\\n'"
      ]
     },
     "execution_count": 28,
     "metadata": {},
     "output_type": "execute_result"
    }
   ],
   "source": [
    "\"\"\"\"\"\n",
    "Hourly trend: most of the businesses have rush hours and weak hours. It should not be an exception for bike rentals as well.\n",
    "\n",
    "Daily Trend: weekdays vs weekends and registered users vs casual users.\n",
    "\n",
    "Relative humdity: the demand for bikes might be changed on a rainy day as compared to a sunny day. Similarly, people prefer to go out on less humid days.\n",
    "\n",
    "Temperature: in warm countries, temperature generally keeps people inside.\n",
    "\n",
    "Business model: businesses often rely on customers who are members more than casual users. There might be some interesting insights that can strengthen this assumption.\n",
    "\"\"\""
   ]
  },
  {
   "cell_type": "code",
   "execution_count": 37,
   "metadata": {},
   "outputs": [
    {
     "name": "stdout",
     "output_type": "stream",
     "text": [
      "<class 'pandas.core.frame.DataFrame'>\n",
      "RangeIndex: 365 entries, 0 to 364\n",
      "Data columns (total 11 columns):\n",
      " #   Column                          Non-Null Count  Dtype         \n",
      "---  ------                          --------------  -----         \n",
      " 0   Casual                          365 non-null    int32         \n",
      " 1   Date                            365 non-null    datetime64[ns]\n",
      " 2   Registered                      365 non-null    int32         \n",
      " 3   Total_rides                     365 non-null    int32         \n",
      " 4   apparent_temperature_mean (°C)  365 non-null    float64       \n",
      " 5   temperature_2m_mean (°C)        365 non-null    float64       \n",
      " 6   weathercode (wmo code)          365 non-null    int64         \n",
      " 7   windspeed_10m_max (km/h)        365 non-null    float64       \n",
      " 8   Season                          365 non-null    object        \n",
      " 9   Weekday                         365 non-null    object        \n",
      " 10  Month                           365 non-null    object        \n",
      "dtypes: datetime64[ns](1), float64(3), int32(3), int64(1), object(3)\n",
      "memory usage: 27.2+ KB\n"
     ]
    }
   ],
   "source": [
    "daily_2023.info()"
   ]
  },
  {
   "cell_type": "code",
   "execution_count": 38,
   "metadata": {},
   "outputs": [],
   "source": [
    "#Categorical Variables:\n",
    "\n",
    "#Explore distribution of rides by categorical variables such as season, weather conditions, holidays, etc. using bar plots or count plots.\n",
    "\n",
    "season_analysis_2023=daily_2023.iloc[:,[8,0,2,3]]"
   ]
  },
  {
   "cell_type": "code",
   "execution_count": 39,
   "metadata": {},
   "outputs": [
    {
     "data": {
      "text/html": [
       "<div>\n",
       "<style scoped>\n",
       "    .dataframe tbody tr th:only-of-type {\n",
       "        vertical-align: middle;\n",
       "    }\n",
       "\n",
       "    .dataframe tbody tr th {\n",
       "        vertical-align: top;\n",
       "    }\n",
       "\n",
       "    .dataframe thead th {\n",
       "        text-align: right;\n",
       "    }\n",
       "</style>\n",
       "<table border=\"1\" class=\"dataframe\">\n",
       "  <thead>\n",
       "    <tr style=\"text-align: right;\">\n",
       "      <th></th>\n",
       "      <th>Season</th>\n",
       "      <th>Casual</th>\n",
       "      <th>Registered</th>\n",
       "      <th>Total_rides</th>\n",
       "    </tr>\n",
       "  </thead>\n",
       "  <tbody>\n",
       "    <tr>\n",
       "      <th>0</th>\n",
       "      <td>Winter</td>\n",
       "      <td>3573</td>\n",
       "      <td>3214</td>\n",
       "      <td>6787</td>\n",
       "    </tr>\n",
       "    <tr>\n",
       "      <th>1</th>\n",
       "      <td>Winter</td>\n",
       "      <td>3433</td>\n",
       "      <td>3807</td>\n",
       "      <td>7240</td>\n",
       "    </tr>\n",
       "    <tr>\n",
       "      <th>2</th>\n",
       "      <td>Winter</td>\n",
       "      <td>2635</td>\n",
       "      <td>4924</td>\n",
       "      <td>7559</td>\n",
       "    </tr>\n",
       "    <tr>\n",
       "      <th>3</th>\n",
       "      <td>Winter</td>\n",
       "      <td>2488</td>\n",
       "      <td>5303</td>\n",
       "      <td>7791</td>\n",
       "    </tr>\n",
       "    <tr>\n",
       "      <th>4</th>\n",
       "      <td>Winter</td>\n",
       "      <td>2954</td>\n",
       "      <td>5455</td>\n",
       "      <td>8409</td>\n",
       "    </tr>\n",
       "    <tr>\n",
       "      <th>...</th>\n",
       "      <td>...</td>\n",
       "      <td>...</td>\n",
       "      <td>...</td>\n",
       "      <td>...</td>\n",
       "    </tr>\n",
       "    <tr>\n",
       "      <th>360</th>\n",
       "      <td>Winter</td>\n",
       "      <td>646</td>\n",
       "      <td>1934</td>\n",
       "      <td>2580</td>\n",
       "    </tr>\n",
       "    <tr>\n",
       "      <th>361</th>\n",
       "      <td>Winter</td>\n",
       "      <td>3099</td>\n",
       "      <td>4819</td>\n",
       "      <td>7918</td>\n",
       "    </tr>\n",
       "    <tr>\n",
       "      <th>362</th>\n",
       "      <td>Winter</td>\n",
       "      <td>3491</td>\n",
       "      <td>5168</td>\n",
       "      <td>8659</td>\n",
       "    </tr>\n",
       "    <tr>\n",
       "      <th>363</th>\n",
       "      <td>Winter</td>\n",
       "      <td>3097</td>\n",
       "      <td>4497</td>\n",
       "      <td>7594</td>\n",
       "    </tr>\n",
       "    <tr>\n",
       "      <th>364</th>\n",
       "      <td>Winter</td>\n",
       "      <td>2839</td>\n",
       "      <td>4488</td>\n",
       "      <td>7327</td>\n",
       "    </tr>\n",
       "  </tbody>\n",
       "</table>\n",
       "<p>365 rows × 4 columns</p>\n",
       "</div>"
      ],
      "text/plain": [
       "     Season  Casual  Registered  Total_rides\n",
       "0    Winter    3573        3214         6787\n",
       "1    Winter    3433        3807         7240\n",
       "2    Winter    2635        4924         7559\n",
       "3    Winter    2488        5303         7791\n",
       "4    Winter    2954        5455         8409\n",
       "..      ...     ...         ...          ...\n",
       "360  Winter     646        1934         2580\n",
       "361  Winter    3099        4819         7918\n",
       "362  Winter    3491        5168         8659\n",
       "363  Winter    3097        4497         7594\n",
       "364  Winter    2839        4488         7327\n",
       "\n",
       "[365 rows x 4 columns]"
      ]
     },
     "execution_count": 39,
     "metadata": {},
     "output_type": "execute_result"
    }
   ],
   "source": [
    "season_analysis_2023_copy= season_analysis_2023.copy()\n",
    "season_analysis_2023"
   ]
  },
  {
   "cell_type": "code",
   "execution_count": 40,
   "metadata": {},
   "outputs": [],
   "source": [
    "season_analysis_result=season_analysis_2023.groupby(\"Season\").sum()"
   ]
  },
  {
   "cell_type": "code",
   "execution_count": 41,
   "metadata": {},
   "outputs": [
    {
     "data": {
      "text/plain": [
       "Text(0.5, 1.0, 'Season Analysis 2023')"
      ]
     },
     "execution_count": 41,
     "metadata": {},
     "output_type": "execute_result"
    },
    {
     "data": {
      "image/png": "[encoded data removed]",
      "text/plain": [
       "<Figure size 640x480 with 1 Axes>"
      ]
     },
     "metadata": {},
     "output_type": "display_data"
    }
   ],
   "source": [
    "#sns.barplot(data=season_analysis_result)\n",
    "season_analysis_result.plot.bar()\n",
    "plt.title(\"Season Analysis 2023\")"
   ]
  },
  {
   "cell_type": "code",
   "execution_count": 42,
   "metadata": {},
   "outputs": [],
   "source": [
    "season_analysis_2023_copy.drop([\"Total_rides\"], axis=1, inplace=True)\n"
   ]
  },
  {
   "cell_type": "code",
   "execution_count": 43,
   "metadata": {},
   "outputs": [
    {
     "data": {
      "text/html": [
       "<div>\n",
       "<style scoped>\n",
       "    .dataframe tbody tr th:only-of-type {\n",
       "        vertical-align: middle;\n",
       "    }\n",
       "\n",
       "    .dataframe tbody tr th {\n",
       "        vertical-align: top;\n",
       "    }\n",
       "\n",
       "    .dataframe thead th {\n",
       "        text-align: right;\n",
       "    }\n",
       "</style>\n",
       "<table border=\"1\" class=\"dataframe\">\n",
       "  <thead>\n",
       "    <tr style=\"text-align: right;\">\n",
       "      <th></th>\n",
       "      <th>Season</th>\n",
       "      <th>Casual</th>\n",
       "      <th>Registered</th>\n",
       "    </tr>\n",
       "  </thead>\n",
       "  <tbody>\n",
       "    <tr>\n",
       "      <th>0</th>\n",
       "      <td>Winter</td>\n",
       "      <td>3573</td>\n",
       "      <td>3214</td>\n",
       "    </tr>\n",
       "    <tr>\n",
       "      <th>1</th>\n",
       "      <td>Winter</td>\n",
       "      <td>3433</td>\n",
       "      <td>3807</td>\n",
       "    </tr>\n",
       "    <tr>\n",
       "      <th>2</th>\n",
       "      <td>Winter</td>\n",
       "      <td>2635</td>\n",
       "      <td>4924</td>\n",
       "    </tr>\n",
       "    <tr>\n",
       "      <th>3</th>\n",
       "      <td>Winter</td>\n",
       "      <td>2488</td>\n",
       "      <td>5303</td>\n",
       "    </tr>\n",
       "    <tr>\n",
       "      <th>4</th>\n",
       "      <td>Winter</td>\n",
       "      <td>2954</td>\n",
       "      <td>5455</td>\n",
       "    </tr>\n",
       "    <tr>\n",
       "      <th>...</th>\n",
       "      <td>...</td>\n",
       "      <td>...</td>\n",
       "      <td>...</td>\n",
       "    </tr>\n",
       "    <tr>\n",
       "      <th>360</th>\n",
       "      <td>Winter</td>\n",
       "      <td>646</td>\n",
       "      <td>1934</td>\n",
       "    </tr>\n",
       "    <tr>\n",
       "      <th>361</th>\n",
       "      <td>Winter</td>\n",
       "      <td>3099</td>\n",
       "      <td>4819</td>\n",
       "    </tr>\n",
       "    <tr>\n",
       "      <th>362</th>\n",
       "      <td>Winter</td>\n",
       "      <td>3491</td>\n",
       "      <td>5168</td>\n",
       "    </tr>\n",
       "    <tr>\n",
       "      <th>363</th>\n",
       "      <td>Winter</td>\n",
       "      <td>3097</td>\n",
       "      <td>4497</td>\n",
       "    </tr>\n",
       "    <tr>\n",
       "      <th>364</th>\n",
       "      <td>Winter</td>\n",
       "      <td>2839</td>\n",
       "      <td>4488</td>\n",
       "    </tr>\n",
       "  </tbody>\n",
       "</table>\n",
       "<p>365 rows × 3 columns</p>\n",
       "</div>"
      ],
      "text/plain": [
       "     Season  Casual  Registered\n",
       "0    Winter    3573        3214\n",
       "1    Winter    3433        3807\n",
       "2    Winter    2635        4924\n",
       "3    Winter    2488        5303\n",
       "4    Winter    2954        5455\n",
       "..      ...     ...         ...\n",
       "360  Winter     646        1934\n",
       "361  Winter    3099        4819\n",
       "362  Winter    3491        5168\n",
       "363  Winter    3097        4497\n",
       "364  Winter    2839        4488\n",
       "\n",
       "[365 rows x 3 columns]"
      ]
     },
     "execution_count": 43,
     "metadata": {},
     "output_type": "execute_result"
    }
   ],
   "source": [
    "season_analysis_2023_copy"
   ]
  },
  {
   "cell_type": "code",
   "execution_count": 44,
   "metadata": {},
   "outputs": [
    {
     "data": {
      "image/png": "[encoded data removed]",
      "text/plain": [
       "<Figure size 640x480 with 1 Axes>"
      ]
     },
     "metadata": {},
     "output_type": "display_data"
    }
   ],
   "source": [
    "# Sample data\n",
    "\n",
    "\n",
    "# Aggregate data by summing up 'Casual' and 'Registered' counts\n",
    "season_counts = season_analysis_2023_copy.groupby('Season').sum().reset_index()\n",
    "\n",
    "# Plotting\n",
    "labels = ['Casual', 'Registered']\n",
    "sizes = season_counts.loc[0, ['Casual', 'Registered']].values\n",
    "\n",
    "plt.pie(sizes, labels=labels, autopct='%1.1f%%', startangle=140)\n",
    "plt.axis('equal')  # Equal aspect ratio ensures that pie is drawn as a circle.\n",
    "\n",
    "# Title\n",
    "plt.title('Distribution of Casual vs Registered Users in 2023')\n",
    "\n",
    "# Show plot\n",
    "plt.show()\n"
   ]
  },
  {
   "cell_type": "code",
   "execution_count": 36,
   "metadata": {},
   "outputs": [
    {
     "data": {
      "text/plain": [
       "Text(0.5, 1.0, 'Ride Count based on Daily Apperent Temperature in 2023')"
      ]
     },
     "execution_count": 36,
     "metadata": {},
     "output_type": "execute_result"
    },
    {
     "data": {
      "image/png": "[encoded data removed]",
      "text/plain": [
       "<Figure size 600x500 with 1 Axes>"
      ]
     },
     "metadata": {},
     "output_type": "display_data"
    }
   ],
   "source": [
    "plt.figure(figsize=(6, 5))\n",
    "sns.scatterplot(x=\"apparent_temperature_mean (°C)\", y=\"Total_rides\",\n",
    "      \n",
    "             data=daily_2023)\n",
    "plt.title(\"Ride Count based on Daily Apperent Temperature in 2023\")"
   ]
  }
 ],
 "metadata": {
  "kernelspec": {
   "display_name": "base",
   "language": "python",
   "name": "python3"
  },
  "language_info": {
   "codemirror_mode": {
    "name": "ipython",
    "version": 3
   },
   "file_extension": ".py",
   "mimetype": "text/x-python",
   "name": "python",
   "nbconvert_exporter": "python",
   "pygments_lexer": "ipython3",
   "version": "3.11.5"
  }
 },
 "nbformat": 4,
 "nbformat_minor": 2
}
